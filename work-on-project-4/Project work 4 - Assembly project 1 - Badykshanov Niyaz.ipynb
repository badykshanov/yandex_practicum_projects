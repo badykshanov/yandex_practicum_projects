{
 "cells": [
  {
   "cell_type": "markdown",
   "metadata": {},
   "source": [
    "<h1>Содержание<span class=\"tocSkip\"></span></h1>\n",
    "<div class=\"toc\"><ul class=\"toc-item\"><li><span><a href=\"#Изучение-данных-из-файла\" data-toc-modified-id=\"Изучение-данных-из-файла-1\"><span class=\"toc-item-num\">1&nbsp;&nbsp;</span>Изучение данных из файла</a></span><ul class=\"toc-item\"><li><span><a href=\"#Вывод\" data-toc-modified-id=\"Вывод-1.1\"><span class=\"toc-item-num\">1.1&nbsp;&nbsp;</span>Вывод</a></span></li></ul></li><li><span><a href=\"#Предобработка-данных\" data-toc-modified-id=\"Предобработка-данных-2\"><span class=\"toc-item-num\">2&nbsp;&nbsp;</span>Предобработка данных</a></span></li>\n",
    "    <li><span><a href=\"#Исследовательский-анализ-данных\" data-toc-modified-id=\"Исследовательский-анализ-данных-4\"><span class=\"toc-item-num\">3&nbsp;&nbsp;</span>Исследовательский анализ данных</a></span></li>\n",
    "    <li><span><a href=\"#Портрет-пользователя-каждого-региона\" data-toc-modified-id=\"Портрет-пользователя-каждого-региона\"><span class=\"toc-item-num\">4&nbsp;&nbsp;</span>Портрет пользователя каждого региона</a></span></li>\n",
    "    <li><span><a href=\"#Проверка-гипотез\" data-toc-modified-id=\"Проверка-гипотез-4\"><span class=\"toc-item-num\">5&nbsp;&nbsp;</span>Проверка гипотез</a></span></li><li><span><a href=\"#Общий-вывод\" data-toc-modified-id=\"Общий-вывод-5\"><span class=\"toc-item-num\">6&nbsp;&nbsp;</span>Общий вывод</a></span></li>"
   ]
  },
  {
   "cell_type": "markdown",
   "metadata": {},
   "source": [
    "# Исследование успешности компьютерных игр\n",
    "\n",
    "Из открытых источников доступны исторические данные о продажах игр, оценки пользователей и экспертов, жанры и платформы (например, Xbox или PlayStation). Необходимо выявить определяющие успешность игры закономерности. Это позволит сделать ставку на потенциально популярный продукт и спланировать рекламные кампании.\n",
    "\n",
    "Перед нами данные до 2016 года. Представим, что сейчас декабрь 2016 г., и мы планируем кампанию на 2017-й.\n",
    "\n",
    "В наборе данных попадается аббревиатура ESRB (Entertainment Software Rating Board) — это ассоциация, определяющая возрастной рейтинг компьютерных игр. ESRB оценивает игровой контент и присваивает ему подходящую возрастную категорию, например, «Для взрослых», «Для детей младшего возраста» или «Для подростков»."
   ]
  },
  {
   "cell_type": "markdown",
   "metadata": {},
   "source": [
    "## Изучение данных из файла\n",
    "### Описание данных\n",
    "* Name — название игры\n",
    "* Platform — платформа\n",
    "* Year_of_Release — год выпуска\n",
    "* Genre — жанр игры\n",
    "* NA_sales — продажи в Северной Америке (миллионы проданных копий)\n",
    "* EU_sales — продажи в Европе (миллионы проданных копий)\n",
    "* JP_sales — продажи в Японии (миллионы проданных копий)\n",
    "* Other_sales — продажи в других странах (миллионы проданных копий)\n",
    "* Critic_Score — оценка критиков (максимум 100)\n",
    "* User_Score — оценка пользователей (максимум 10)\n",
    "* Rating — рейтинг от организации ESRB (англ. Entertainment Software Rating Board). Эта ассоциация определяет рейтинг компьютерных игр и присваивает им подходящую возрастную категорию.\n",
    "### Примечание\n",
    "Данные за 2016 год могут быть неполными."
   ]
  },
  {
   "cell_type": "code",
   "execution_count": 81,
   "metadata": {},
   "outputs": [],
   "source": [
    "# Импортирование необходимых модулей и атрибутов\n",
    "import pandas as pd\n",
    "import os\n",
    "import math\n",
    "import seaborn as sns\n",
    "import numpy as np\n",
    "import matplotlib.pyplot as plt\n",
    "from scipy import stats as st"
   ]
  },
  {
   "cell_type": "code",
   "execution_count": 82,
   "metadata": {},
   "outputs": [],
   "source": [
    "# Объявим функцию, которая будет читать файлы\n",
    "def pth_load(pth1, pth2):\n",
    "    \"\"\"Sapport using os.path.exists. Load local file in primarily\n",
    "\n",
    "    :param pth1: local addres of file\n",
    "    :type pth1: object\n",
    "    :param pth2: external addres of file\n",
    "    :type pth2: object\n",
    "    \n",
    "    :raises ValueError: if file not found in addresses\n",
    "    \n",
    "    :rtype: DataFrame\n",
    "    :return: foundly file in the form of DataFrame\n",
    "    \"\"\"\n",
    "    if os.path.exists(pth1):\n",
    "        df = pd.read_csv(pth1)\n",
    "    elif os.path.exists(pth2):\n",
    "        df = pd.read_csv(pth2)\n",
    "    else:\n",
    "        print('Something is wrong')\n",
    "    return df"
   ]
  },
  {
   "cell_type": "code",
   "execution_count": 83,
   "metadata": {
    "scrolled": true
   },
   "outputs": [
    {
     "name": "stdout",
     "output_type": "stream",
     "text": [
      "<class 'pandas.core.frame.DataFrame'>\n",
      "RangeIndex: 16715 entries, 0 to 16714\n",
      "Data columns (total 11 columns):\n",
      " #   Column           Non-Null Count  Dtype  \n",
      "---  ------           --------------  -----  \n",
      " 0   Name             16713 non-null  object \n",
      " 1   Platform         16715 non-null  object \n",
      " 2   Year_of_Release  16446 non-null  float64\n",
      " 3   Genre            16713 non-null  object \n",
      " 4   NA_sales         16715 non-null  float64\n",
      " 5   EU_sales         16715 non-null  float64\n",
      " 6   JP_sales         16715 non-null  float64\n",
      " 7   Other_sales      16715 non-null  float64\n",
      " 8   Critic_Score     8137 non-null   float64\n",
      " 9   User_Score       10014 non-null  object \n",
      " 10  Rating           9949 non-null   object \n",
      "dtypes: float64(6), object(5)\n",
      "memory usage: 1.4+ MB\n"
     ]
    },
    {
     "data": {
      "text/html": [
       "<div>\n",
       "<style scoped>\n",
       "    .dataframe tbody tr th:only-of-type {\n",
       "        vertical-align: middle;\n",
       "    }\n",
       "\n",
       "    .dataframe tbody tr th {\n",
       "        vertical-align: top;\n",
       "    }\n",
       "\n",
       "    .dataframe thead th {\n",
       "        text-align: right;\n",
       "    }\n",
       "</style>\n",
       "<table border=\"1\" class=\"dataframe\">\n",
       "  <thead>\n",
       "    <tr style=\"text-align: right;\">\n",
       "      <th></th>\n",
       "      <th>Name</th>\n",
       "      <th>Platform</th>\n",
       "      <th>Year_of_Release</th>\n",
       "      <th>Genre</th>\n",
       "      <th>NA_sales</th>\n",
       "      <th>EU_sales</th>\n",
       "      <th>JP_sales</th>\n",
       "      <th>Other_sales</th>\n",
       "      <th>Critic_Score</th>\n",
       "      <th>User_Score</th>\n",
       "      <th>Rating</th>\n",
       "    </tr>\n",
       "  </thead>\n",
       "  <tbody>\n",
       "    <tr>\n",
       "      <th>3201</th>\n",
       "      <td>X-Man</td>\n",
       "      <td>2600</td>\n",
       "      <td>1982.0</td>\n",
       "      <td>Action</td>\n",
       "      <td>0.58</td>\n",
       "      <td>0.04</td>\n",
       "      <td>0.00</td>\n",
       "      <td>0.01</td>\n",
       "      <td>NaN</td>\n",
       "      <td>NaN</td>\n",
       "      <td>NaN</td>\n",
       "    </tr>\n",
       "    <tr>\n",
       "      <th>705</th>\n",
       "      <td>Kirby: Nightmare in Dream Land</td>\n",
       "      <td>GBA</td>\n",
       "      <td>2002.0</td>\n",
       "      <td>Platform</td>\n",
       "      <td>1.22</td>\n",
       "      <td>0.10</td>\n",
       "      <td>0.91</td>\n",
       "      <td>0.04</td>\n",
       "      <td>81.0</td>\n",
       "      <td>8.9</td>\n",
       "      <td>E</td>\n",
       "    </tr>\n",
       "    <tr>\n",
       "      <th>11639</th>\n",
       "      <td>GOTHA: Ismailia Seneki</td>\n",
       "      <td>SAT</td>\n",
       "      <td>1995.0</td>\n",
       "      <td>Strategy</td>\n",
       "      <td>0.00</td>\n",
       "      <td>0.00</td>\n",
       "      <td>0.08</td>\n",
       "      <td>0.00</td>\n",
       "      <td>NaN</td>\n",
       "      <td>NaN</td>\n",
       "      <td>NaN</td>\n",
       "    </tr>\n",
       "    <tr>\n",
       "      <th>13081</th>\n",
       "      <td>Imagine: Party Planner</td>\n",
       "      <td>DS</td>\n",
       "      <td>2009.0</td>\n",
       "      <td>Simulation</td>\n",
       "      <td>0.05</td>\n",
       "      <td>0.00</td>\n",
       "      <td>0.00</td>\n",
       "      <td>0.00</td>\n",
       "      <td>NaN</td>\n",
       "      <td>tbd</td>\n",
       "      <td>E</td>\n",
       "    </tr>\n",
       "    <tr>\n",
       "      <th>8247</th>\n",
       "      <td>Metal Arms: Glitch in the System</td>\n",
       "      <td>XB</td>\n",
       "      <td>2003.0</td>\n",
       "      <td>Shooter</td>\n",
       "      <td>0.13</td>\n",
       "      <td>0.04</td>\n",
       "      <td>0.00</td>\n",
       "      <td>0.01</td>\n",
       "      <td>82.0</td>\n",
       "      <td>8.7</td>\n",
       "      <td>T</td>\n",
       "    </tr>\n",
       "  </tbody>\n",
       "</table>\n",
       "</div>"
      ],
      "text/plain": [
       "                                   Name Platform  Year_of_Release       Genre  \\\n",
       "3201                              X-Man     2600           1982.0      Action   \n",
       "705      Kirby: Nightmare in Dream Land      GBA           2002.0    Platform   \n",
       "11639            GOTHA: Ismailia Seneki      SAT           1995.0    Strategy   \n",
       "13081            Imagine: Party Planner       DS           2009.0  Simulation   \n",
       "8247   Metal Arms: Glitch in the System       XB           2003.0     Shooter   \n",
       "\n",
       "       NA_sales  EU_sales  JP_sales  Other_sales  Critic_Score User_Score  \\\n",
       "3201       0.58      0.04      0.00         0.01           NaN        NaN   \n",
       "705        1.22      0.10      0.91         0.04          81.0        8.9   \n",
       "11639      0.00      0.00      0.08         0.00           NaN        NaN   \n",
       "13081      0.05      0.00      0.00         0.00           NaN        tbd   \n",
       "8247       0.13      0.04      0.00         0.01          82.0        8.7   \n",
       "\n",
       "      Rating  \n",
       "3201     NaN  \n",
       "705        E  \n",
       "11639    NaN  \n",
       "13081      E  \n",
       "8247       T  "
      ]
     },
     "execution_count": 83,
     "metadata": {},
     "output_type": "execute_result"
    }
   ],
   "source": [
    "#Прочитаем файл 'games.csv' и сохраним его в переменной df\n",
    "df = pth_load('games.csv', '/datasets/games.csv')\n",
    "\n",
    "#Для получения имформации о наборе данных: \n",
    "#вызовем метод 'info()' и напечатаем пять случайных строк таблицы\n",
    "df.info()\n",
    "df.sample(5)"
   ]
  },
  {
   "cell_type": "code",
   "execution_count": 84,
   "metadata": {},
   "outputs": [
    {
     "data": {
      "text/html": [
       "<div>\n",
       "<style scoped>\n",
       "    .dataframe tbody tr th:only-of-type {\n",
       "        vertical-align: middle;\n",
       "    }\n",
       "\n",
       "    .dataframe tbody tr th {\n",
       "        vertical-align: top;\n",
       "    }\n",
       "\n",
       "    .dataframe thead th {\n",
       "        text-align: right;\n",
       "    }\n",
       "</style>\n",
       "<table border=\"1\" class=\"dataframe\">\n",
       "  <thead>\n",
       "    <tr style=\"text-align: right;\">\n",
       "      <th></th>\n",
       "      <th>Year_of_Release</th>\n",
       "      <th>NA_sales</th>\n",
       "      <th>EU_sales</th>\n",
       "      <th>JP_sales</th>\n",
       "      <th>Other_sales</th>\n",
       "      <th>Critic_Score</th>\n",
       "    </tr>\n",
       "  </thead>\n",
       "  <tbody>\n",
       "    <tr>\n",
       "      <th>count</th>\n",
       "      <td>16446.000000</td>\n",
       "      <td>16715.000000</td>\n",
       "      <td>16715.000000</td>\n",
       "      <td>16715.000000</td>\n",
       "      <td>16715.000000</td>\n",
       "      <td>8137.000000</td>\n",
       "    </tr>\n",
       "    <tr>\n",
       "      <th>mean</th>\n",
       "      <td>2006.484616</td>\n",
       "      <td>0.263377</td>\n",
       "      <td>0.145060</td>\n",
       "      <td>0.077617</td>\n",
       "      <td>0.047342</td>\n",
       "      <td>68.967679</td>\n",
       "    </tr>\n",
       "    <tr>\n",
       "      <th>std</th>\n",
       "      <td>5.877050</td>\n",
       "      <td>0.813604</td>\n",
       "      <td>0.503339</td>\n",
       "      <td>0.308853</td>\n",
       "      <td>0.186731</td>\n",
       "      <td>13.938165</td>\n",
       "    </tr>\n",
       "    <tr>\n",
       "      <th>min</th>\n",
       "      <td>1980.000000</td>\n",
       "      <td>0.000000</td>\n",
       "      <td>0.000000</td>\n",
       "      <td>0.000000</td>\n",
       "      <td>0.000000</td>\n",
       "      <td>13.000000</td>\n",
       "    </tr>\n",
       "    <tr>\n",
       "      <th>25%</th>\n",
       "      <td>2003.000000</td>\n",
       "      <td>0.000000</td>\n",
       "      <td>0.000000</td>\n",
       "      <td>0.000000</td>\n",
       "      <td>0.000000</td>\n",
       "      <td>60.000000</td>\n",
       "    </tr>\n",
       "    <tr>\n",
       "      <th>50%</th>\n",
       "      <td>2007.000000</td>\n",
       "      <td>0.080000</td>\n",
       "      <td>0.020000</td>\n",
       "      <td>0.000000</td>\n",
       "      <td>0.010000</td>\n",
       "      <td>71.000000</td>\n",
       "    </tr>\n",
       "    <tr>\n",
       "      <th>75%</th>\n",
       "      <td>2010.000000</td>\n",
       "      <td>0.240000</td>\n",
       "      <td>0.110000</td>\n",
       "      <td>0.040000</td>\n",
       "      <td>0.030000</td>\n",
       "      <td>79.000000</td>\n",
       "    </tr>\n",
       "    <tr>\n",
       "      <th>max</th>\n",
       "      <td>2016.000000</td>\n",
       "      <td>41.360000</td>\n",
       "      <td>28.960000</td>\n",
       "      <td>10.220000</td>\n",
       "      <td>10.570000</td>\n",
       "      <td>98.000000</td>\n",
       "    </tr>\n",
       "  </tbody>\n",
       "</table>\n",
       "</div>"
      ],
      "text/plain": [
       "       Year_of_Release      NA_sales      EU_sales      JP_sales  \\\n",
       "count     16446.000000  16715.000000  16715.000000  16715.000000   \n",
       "mean       2006.484616      0.263377      0.145060      0.077617   \n",
       "std           5.877050      0.813604      0.503339      0.308853   \n",
       "min        1980.000000      0.000000      0.000000      0.000000   \n",
       "25%        2003.000000      0.000000      0.000000      0.000000   \n",
       "50%        2007.000000      0.080000      0.020000      0.000000   \n",
       "75%        2010.000000      0.240000      0.110000      0.040000   \n",
       "max        2016.000000     41.360000     28.960000     10.220000   \n",
       "\n",
       "        Other_sales  Critic_Score  \n",
       "count  16715.000000   8137.000000  \n",
       "mean       0.047342     68.967679  \n",
       "std        0.186731     13.938165  \n",
       "min        0.000000     13.000000  \n",
       "25%        0.000000     60.000000  \n",
       "50%        0.010000     71.000000  \n",
       "75%        0.030000     79.000000  \n",
       "max       10.570000     98.000000  "
      ]
     },
     "execution_count": 84,
     "metadata": {},
     "output_type": "execute_result"
    }
   ],
   "source": [
    "#Используем метод describe()\n",
    "df.describe()"
   ]
  },
  {
   "cell_type": "markdown",
   "metadata": {},
   "source": [
    "## Вывод\n",
    "В файле содержатся данные о 16715 играх, вышедших в релиз с 1980 по 2016 год. \n",
    "\n",
    "Некоторые столбцы содержат пропуски, нужно будет решить, заполнять ли их. Также необходимо изменить тип данных некоторых столбцов. "
   ]
  },
  {
   "cell_type": "markdown",
   "metadata": {},
   "source": [
    "## Предобработка данных"
   ]
  },
  {
   "cell_type": "markdown",
   "metadata": {},
   "source": [
    "### Обработка названий столбцов"
   ]
  },
  {
   "cell_type": "code",
   "execution_count": 85,
   "metadata": {},
   "outputs": [
    {
     "data": {
      "text/plain": [
       "Index(['Name', 'Platform', 'Year_of_Release', 'Genre', 'NA_sales', 'EU_sales',\n",
       "       'JP_sales', 'Other_sales', 'Critic_Score', 'User_Score', 'Rating'],\n",
       "      dtype='object')"
      ]
     },
     "execution_count": 85,
     "metadata": {},
     "output_type": "execute_result"
    }
   ],
   "source": [
    "#Вызовем метод 'columns', чтобы получить перечень названий столбцов таблицы df\n",
    "df.columns"
   ]
  },
  {
   "cell_type": "markdown",
   "metadata": {},
   "source": [
    "Для удобства стоит изменить названия столбцов - привести знаки к нижнему регистру."
   ]
  },
  {
   "cell_type": "code",
   "execution_count": 86,
   "metadata": {},
   "outputs": [
    {
     "data": {
      "text/plain": [
       "Index(['name', 'platform', 'year_of_release', 'genre', 'na_sales', 'eu_sales',\n",
       "       'jp_sales', 'other_sales', 'critic_score', 'user_score', 'rating'],\n",
       "      dtype='object')"
      ]
     },
     "execution_count": 86,
     "metadata": {},
     "output_type": "execute_result"
    }
   ],
   "source": [
    "#Переименуем названия столбцов на нижний регистр\n",
    "df.columns = [x.lower() for x in df.columns]\n",
    "\n",
    "#Проверим результат\n",
    "df.columns"
   ]
  },
  {
   "cell_type": "markdown",
   "metadata": {},
   "source": [
    "### Изменение типов данных столбцов"
   ]
  },
  {
   "cell_type": "markdown",
   "metadata": {},
   "source": [
    "Столбцы 'critic_score' и 'year_of_release' должны иметь тип данных \"int\". Так как это количественная оценка критиков и год. В столбце 'critic_score' нет значений после запятой, так что мы не потеряем в точности.\n",
    "\n",
    "Столбец 'user_score' должна иметь тип данных \"float\", так как это количественная оценка игроков. Но здесь есть один знак после запятой, именно поэтому тип данных \"float\", в отличии от столбца 'critic_score'."
   ]
  },
  {
   "cell_type": "code",
   "execution_count": 87,
   "metadata": {
    "scrolled": true
   },
   "outputs": [
    {
     "data": {
      "text/plain": [
       "name                object\n",
       "platform            object\n",
       "year_of_release      Int64\n",
       "genre               object\n",
       "na_sales           float64\n",
       "eu_sales           float64\n",
       "jp_sales           float64\n",
       "other_sales        float64\n",
       "critic_score         Int64\n",
       "user_score           Int64\n",
       "rating              object\n",
       "dtype: object"
      ]
     },
     "execution_count": 87,
     "metadata": {},
     "output_type": "execute_result"
    }
   ],
   "source": [
    "#Изменим типы данных нужных строк\n",
    "df[['critic_score']] = df[['critic_score']].astype('Int64')\n",
    "\n",
    "#Столбец 'year_of_release' изменим на 'Int64'\n",
    "df[['year_of_release']] = df[['year_of_release']].astype('Int64')\n",
    "\n",
    "#Столбец 'user_score' содержит значения \"tbd\". Это может переводиться как \"будет определено\". \n",
    "#Следовательно, сейчас эти значения не известны, их можно удалить. И затем мы сможем сменить тип данных столбца.\n",
    "#За одно умножим оценку пользователей на 10, чтобы цена шкалы была такой же, как оценка критиков.\n",
    "df['user_score'] = df['user_score'].replace({'tbd': np.nan})\n",
    "df[['user_score']] = df[['user_score']].astype('float')*10\n",
    "df[['user_score']] = df[['user_score']].astype('Int64')\n",
    "\n",
    "#Проверим результат\n",
    "df.dtypes"
   ]
  },
  {
   "cell_type": "markdown",
   "metadata": {},
   "source": [
    "Теперь у нас будет немного больше данных, если мы вызовем describe(): у нас будет отображаться столбец 'user_score', который раньше был строкой и не отображался этим методом."
   ]
  },
  {
   "cell_type": "code",
   "execution_count": 88,
   "metadata": {
    "scrolled": true
   },
   "outputs": [
    {
     "data": {
      "text/html": [
       "<div>\n",
       "<style scoped>\n",
       "    .dataframe tbody tr th:only-of-type {\n",
       "        vertical-align: middle;\n",
       "    }\n",
       "\n",
       "    .dataframe tbody tr th {\n",
       "        vertical-align: top;\n",
       "    }\n",
       "\n",
       "    .dataframe thead th {\n",
       "        text-align: right;\n",
       "    }\n",
       "</style>\n",
       "<table border=\"1\" class=\"dataframe\">\n",
       "  <thead>\n",
       "    <tr style=\"text-align: right;\">\n",
       "      <th></th>\n",
       "      <th>year_of_release</th>\n",
       "      <th>na_sales</th>\n",
       "      <th>eu_sales</th>\n",
       "      <th>jp_sales</th>\n",
       "      <th>other_sales</th>\n",
       "      <th>critic_score</th>\n",
       "      <th>user_score</th>\n",
       "    </tr>\n",
       "  </thead>\n",
       "  <tbody>\n",
       "    <tr>\n",
       "      <th>count</th>\n",
       "      <td>16446.000000</td>\n",
       "      <td>16715.000000</td>\n",
       "      <td>16715.000000</td>\n",
       "      <td>16715.000000</td>\n",
       "      <td>16715.000000</td>\n",
       "      <td>8137.000000</td>\n",
       "      <td>7590.000000</td>\n",
       "    </tr>\n",
       "    <tr>\n",
       "      <th>mean</th>\n",
       "      <td>2006.484616</td>\n",
       "      <td>0.263377</td>\n",
       "      <td>0.145060</td>\n",
       "      <td>0.077617</td>\n",
       "      <td>0.047342</td>\n",
       "      <td>68.967679</td>\n",
       "      <td>71.250461</td>\n",
       "    </tr>\n",
       "    <tr>\n",
       "      <th>std</th>\n",
       "      <td>5.877050</td>\n",
       "      <td>0.813604</td>\n",
       "      <td>0.503339</td>\n",
       "      <td>0.308853</td>\n",
       "      <td>0.186731</td>\n",
       "      <td>13.938165</td>\n",
       "      <td>15.000061</td>\n",
       "    </tr>\n",
       "    <tr>\n",
       "      <th>min</th>\n",
       "      <td>1980.000000</td>\n",
       "      <td>0.000000</td>\n",
       "      <td>0.000000</td>\n",
       "      <td>0.000000</td>\n",
       "      <td>0.000000</td>\n",
       "      <td>13.000000</td>\n",
       "      <td>0.000000</td>\n",
       "    </tr>\n",
       "    <tr>\n",
       "      <th>25%</th>\n",
       "      <td>2003.000000</td>\n",
       "      <td>0.000000</td>\n",
       "      <td>0.000000</td>\n",
       "      <td>0.000000</td>\n",
       "      <td>0.000000</td>\n",
       "      <td>60.000000</td>\n",
       "      <td>64.000000</td>\n",
       "    </tr>\n",
       "    <tr>\n",
       "      <th>50%</th>\n",
       "      <td>2007.000000</td>\n",
       "      <td>0.080000</td>\n",
       "      <td>0.020000</td>\n",
       "      <td>0.000000</td>\n",
       "      <td>0.010000</td>\n",
       "      <td>71.000000</td>\n",
       "      <td>75.000000</td>\n",
       "    </tr>\n",
       "    <tr>\n",
       "      <th>75%</th>\n",
       "      <td>2010.000000</td>\n",
       "      <td>0.240000</td>\n",
       "      <td>0.110000</td>\n",
       "      <td>0.040000</td>\n",
       "      <td>0.030000</td>\n",
       "      <td>79.000000</td>\n",
       "      <td>82.000000</td>\n",
       "    </tr>\n",
       "    <tr>\n",
       "      <th>max</th>\n",
       "      <td>2016.000000</td>\n",
       "      <td>41.360000</td>\n",
       "      <td>28.960000</td>\n",
       "      <td>10.220000</td>\n",
       "      <td>10.570000</td>\n",
       "      <td>98.000000</td>\n",
       "      <td>97.000000</td>\n",
       "    </tr>\n",
       "  </tbody>\n",
       "</table>\n",
       "</div>"
      ],
      "text/plain": [
       "       year_of_release      na_sales      eu_sales      jp_sales  \\\n",
       "count     16446.000000  16715.000000  16715.000000  16715.000000   \n",
       "mean       2006.484616      0.263377      0.145060      0.077617   \n",
       "std           5.877050      0.813604      0.503339      0.308853   \n",
       "min        1980.000000      0.000000      0.000000      0.000000   \n",
       "25%        2003.000000      0.000000      0.000000      0.000000   \n",
       "50%        2007.000000      0.080000      0.020000      0.000000   \n",
       "75%        2010.000000      0.240000      0.110000      0.040000   \n",
       "max        2016.000000     41.360000     28.960000     10.220000   \n",
       "\n",
       "        other_sales  critic_score   user_score  \n",
       "count  16715.000000   8137.000000  7590.000000  \n",
       "mean       0.047342     68.967679    71.250461  \n",
       "std        0.186731     13.938165    15.000061  \n",
       "min        0.000000     13.000000     0.000000  \n",
       "25%        0.000000     60.000000    64.000000  \n",
       "50%        0.010000     71.000000    75.000000  \n",
       "75%        0.030000     79.000000    82.000000  \n",
       "max       10.570000     98.000000    97.000000  "
      ]
     },
     "execution_count": 88,
     "metadata": {},
     "output_type": "execute_result"
    }
   ],
   "source": [
    "#Используем метод describe()\n",
    "df.describe()"
   ]
  },
  {
   "cell_type": "markdown",
   "metadata": {},
   "source": [
    "### Обработка пустых значений"
   ]
  },
  {
   "cell_type": "markdown",
   "metadata": {},
   "source": [
    "В столбце 'name' есть два пустых значения. Посмотрим на них, и удалим."
   ]
  },
  {
   "cell_type": "code",
   "execution_count": 89,
   "metadata": {},
   "outputs": [
    {
     "data": {
      "text/html": [
       "<div>\n",
       "<style scoped>\n",
       "    .dataframe tbody tr th:only-of-type {\n",
       "        vertical-align: middle;\n",
       "    }\n",
       "\n",
       "    .dataframe tbody tr th {\n",
       "        vertical-align: top;\n",
       "    }\n",
       "\n",
       "    .dataframe thead th {\n",
       "        text-align: right;\n",
       "    }\n",
       "</style>\n",
       "<table border=\"1\" class=\"dataframe\">\n",
       "  <thead>\n",
       "    <tr style=\"text-align: right;\">\n",
       "      <th></th>\n",
       "      <th>name</th>\n",
       "      <th>platform</th>\n",
       "      <th>year_of_release</th>\n",
       "      <th>genre</th>\n",
       "      <th>na_sales</th>\n",
       "      <th>eu_sales</th>\n",
       "      <th>jp_sales</th>\n",
       "      <th>other_sales</th>\n",
       "      <th>critic_score</th>\n",
       "      <th>user_score</th>\n",
       "      <th>rating</th>\n",
       "    </tr>\n",
       "  </thead>\n",
       "  <tbody>\n",
       "    <tr>\n",
       "      <th>659</th>\n",
       "      <td>NaN</td>\n",
       "      <td>GEN</td>\n",
       "      <td>1993</td>\n",
       "      <td>NaN</td>\n",
       "      <td>1.78</td>\n",
       "      <td>0.53</td>\n",
       "      <td>0.00</td>\n",
       "      <td>0.08</td>\n",
       "      <td>&lt;NA&gt;</td>\n",
       "      <td>&lt;NA&gt;</td>\n",
       "      <td>NaN</td>\n",
       "    </tr>\n",
       "    <tr>\n",
       "      <th>14244</th>\n",
       "      <td>NaN</td>\n",
       "      <td>GEN</td>\n",
       "      <td>1993</td>\n",
       "      <td>NaN</td>\n",
       "      <td>0.00</td>\n",
       "      <td>0.00</td>\n",
       "      <td>0.03</td>\n",
       "      <td>0.00</td>\n",
       "      <td>&lt;NA&gt;</td>\n",
       "      <td>&lt;NA&gt;</td>\n",
       "      <td>NaN</td>\n",
       "    </tr>\n",
       "  </tbody>\n",
       "</table>\n",
       "</div>"
      ],
      "text/plain": [
       "      name platform  year_of_release genre  na_sales  eu_sales  jp_sales  \\\n",
       "659    NaN      GEN             1993   NaN      1.78      0.53      0.00   \n",
       "14244  NaN      GEN             1993   NaN      0.00      0.00      0.03   \n",
       "\n",
       "       other_sales  critic_score  user_score rating  \n",
       "659           0.08          <NA>        <NA>    NaN  \n",
       "14244         0.00          <NA>        <NA>    NaN  "
      ]
     },
     "execution_count": 89,
     "metadata": {},
     "output_type": "execute_result"
    }
   ],
   "source": [
    "#Напечатаем строки с неизвестным именем\n",
    "df[df['name'].isnull()]"
   ]
  },
  {
   "cell_type": "code",
   "execution_count": 90,
   "metadata": {},
   "outputs": [
    {
     "name": "stdout",
     "output_type": "stream",
     "text": [
      "<class 'pandas.core.frame.DataFrame'>\n",
      "RangeIndex: 16713 entries, 0 to 16712\n",
      "Data columns (total 11 columns):\n",
      " #   Column           Non-Null Count  Dtype  \n",
      "---  ------           --------------  -----  \n",
      " 0   name             16713 non-null  object \n",
      " 1   platform         16713 non-null  object \n",
      " 2   year_of_release  16444 non-null  Int64  \n",
      " 3   genre            16713 non-null  object \n",
      " 4   na_sales         16713 non-null  float64\n",
      " 5   eu_sales         16713 non-null  float64\n",
      " 6   jp_sales         16713 non-null  float64\n",
      " 7   other_sales      16713 non-null  float64\n",
      " 8   critic_score     8137 non-null   Int64  \n",
      " 9   user_score       7590 non-null   Int64  \n",
      " 10  rating           9949 non-null   object \n",
      "dtypes: Int64(3), float64(4), object(4)\n",
      "memory usage: 1.5+ MB\n"
     ]
    }
   ],
   "source": [
    "#Удалим строки с неизвестным именем\n",
    "df = df.drop(df[df['name'].isnull()].index).reset_index(drop=True)\n",
    "\n",
    "#Проверим результат\n",
    "df.info()"
   ]
  },
  {
   "cell_type": "markdown",
   "metadata": {},
   "source": [
    "Первая игра была популярна в северной америке и европе, вторая вышла небольшим тиражом в Японии. Как жаль, что имя было утеряно."
   ]
  },
  {
   "cell_type": "markdown",
   "metadata": {},
   "source": [
    "Есть пара сотен строк с неизвестным годом релиза. Возможно, релиз был растянут во времени или был так давно, что никто тогда еще не собирал эти данные. Даты можно восстановить из открытых источников, если найти набор данных c годом релиза игр. Но первичный поиск показал, что таких данных нет. Заполнять их вручную трудоемко, поэтому принимаем решение всвязи с небольшим количеством таких строк оставить их пустыми."
   ]
  },
  {
   "cell_type": "code",
   "execution_count": 91,
   "metadata": {},
   "outputs": [
    {
     "data": {
      "text/html": [
       "<div>\n",
       "<style scoped>\n",
       "    .dataframe tbody tr th:only-of-type {\n",
       "        vertical-align: middle;\n",
       "    }\n",
       "\n",
       "    .dataframe tbody tr th {\n",
       "        vertical-align: top;\n",
       "    }\n",
       "\n",
       "    .dataframe thead th {\n",
       "        text-align: right;\n",
       "    }\n",
       "</style>\n",
       "<table border=\"1\" class=\"dataframe\">\n",
       "  <thead>\n",
       "    <tr style=\"text-align: right;\">\n",
       "      <th></th>\n",
       "      <th>name</th>\n",
       "      <th>platform</th>\n",
       "      <th>year_of_release</th>\n",
       "      <th>genre</th>\n",
       "      <th>na_sales</th>\n",
       "      <th>eu_sales</th>\n",
       "      <th>jp_sales</th>\n",
       "      <th>other_sales</th>\n",
       "      <th>critic_score</th>\n",
       "      <th>user_score</th>\n",
       "      <th>rating</th>\n",
       "    </tr>\n",
       "  </thead>\n",
       "  <tbody>\n",
       "    <tr>\n",
       "      <th>183</th>\n",
       "      <td>Madden NFL 2004</td>\n",
       "      <td>PS2</td>\n",
       "      <td>&lt;NA&gt;</td>\n",
       "      <td>Sports</td>\n",
       "      <td>4.26</td>\n",
       "      <td>0.26</td>\n",
       "      <td>0.01</td>\n",
       "      <td>0.71</td>\n",
       "      <td>94</td>\n",
       "      <td>85</td>\n",
       "      <td>E</td>\n",
       "    </tr>\n",
       "    <tr>\n",
       "      <th>377</th>\n",
       "      <td>FIFA Soccer 2004</td>\n",
       "      <td>PS2</td>\n",
       "      <td>&lt;NA&gt;</td>\n",
       "      <td>Sports</td>\n",
       "      <td>0.59</td>\n",
       "      <td>2.36</td>\n",
       "      <td>0.04</td>\n",
       "      <td>0.51</td>\n",
       "      <td>84</td>\n",
       "      <td>64</td>\n",
       "      <td>E</td>\n",
       "    </tr>\n",
       "    <tr>\n",
       "      <th>456</th>\n",
       "      <td>LEGO Batman: The Videogame</td>\n",
       "      <td>Wii</td>\n",
       "      <td>&lt;NA&gt;</td>\n",
       "      <td>Action</td>\n",
       "      <td>1.80</td>\n",
       "      <td>0.97</td>\n",
       "      <td>0.00</td>\n",
       "      <td>0.29</td>\n",
       "      <td>74</td>\n",
       "      <td>79</td>\n",
       "      <td>E10+</td>\n",
       "    </tr>\n",
       "    <tr>\n",
       "      <th>475</th>\n",
       "      <td>wwe Smackdown vs. Raw 2006</td>\n",
       "      <td>PS2</td>\n",
       "      <td>&lt;NA&gt;</td>\n",
       "      <td>Fighting</td>\n",
       "      <td>1.57</td>\n",
       "      <td>1.02</td>\n",
       "      <td>0.00</td>\n",
       "      <td>0.41</td>\n",
       "      <td>&lt;NA&gt;</td>\n",
       "      <td>&lt;NA&gt;</td>\n",
       "      <td>NaN</td>\n",
       "    </tr>\n",
       "    <tr>\n",
       "      <th>609</th>\n",
       "      <td>Space Invaders</td>\n",
       "      <td>2600</td>\n",
       "      <td>&lt;NA&gt;</td>\n",
       "      <td>Shooter</td>\n",
       "      <td>2.36</td>\n",
       "      <td>0.14</td>\n",
       "      <td>0.00</td>\n",
       "      <td>0.03</td>\n",
       "      <td>&lt;NA&gt;</td>\n",
       "      <td>&lt;NA&gt;</td>\n",
       "      <td>NaN</td>\n",
       "    </tr>\n",
       "  </tbody>\n",
       "</table>\n",
       "</div>"
      ],
      "text/plain": [
       "                           name platform  year_of_release     genre  na_sales  \\\n",
       "183             Madden NFL 2004      PS2             <NA>    Sports      4.26   \n",
       "377            FIFA Soccer 2004      PS2             <NA>    Sports      0.59   \n",
       "456  LEGO Batman: The Videogame      Wii             <NA>    Action      1.80   \n",
       "475  wwe Smackdown vs. Raw 2006      PS2             <NA>  Fighting      1.57   \n",
       "609              Space Invaders     2600             <NA>   Shooter      2.36   \n",
       "\n",
       "     eu_sales  jp_sales  other_sales  critic_score  user_score rating  \n",
       "183      0.26      0.01         0.71            94          85      E  \n",
       "377      2.36      0.04         0.51            84          64      E  \n",
       "456      0.97      0.00         0.29            74          79   E10+  \n",
       "475      1.02      0.00         0.41          <NA>        <NA>    NaN  \n",
       "609      0.14      0.00         0.03          <NA>        <NA>    NaN  "
      ]
     },
     "execution_count": 91,
     "metadata": {},
     "output_type": "execute_result"
    }
   ],
   "source": [
    "#Напечатаем строки с неизвестным годом релиза\n",
    "df[df['year_of_release'].isnull()].head()"
   ]
  },
  {
   "cell_type": "markdown",
   "metadata": {},
   "source": [
    "Остались еще пропуски оценок критиков, пользователей и возрастноых рейтингов. Возможно набор данных собирался из разных источников, и в некоторых из них не было данных об оценках игроков, критиков и возрастном рейтинге. Так и возникли пропуски. Их нельзя заполнить вычислениями, средними значениями, это субъективная оценки, которые должны приниматься в каждом случае индивидуально. Пропуски рейтинга мы заполним значением \"Not\", остальное оставим."
   ]
  },
  {
   "cell_type": "code",
   "execution_count": 92,
   "metadata": {},
   "outputs": [
    {
     "name": "stdout",
     "output_type": "stream",
     "text": [
      "<class 'pandas.core.frame.DataFrame'>\n",
      "RangeIndex: 16713 entries, 0 to 16712\n",
      "Data columns (total 11 columns):\n",
      " #   Column           Non-Null Count  Dtype  \n",
      "---  ------           --------------  -----  \n",
      " 0   name             16713 non-null  object \n",
      " 1   platform         16713 non-null  object \n",
      " 2   year_of_release  16444 non-null  Int64  \n",
      " 3   genre            16713 non-null  object \n",
      " 4   na_sales         16713 non-null  float64\n",
      " 5   eu_sales         16713 non-null  float64\n",
      " 6   jp_sales         16713 non-null  float64\n",
      " 7   other_sales      16713 non-null  float64\n",
      " 8   critic_score     8137 non-null   Int64  \n",
      " 9   user_score       7590 non-null   Int64  \n",
      " 10  rating           16713 non-null  object \n",
      "dtypes: Int64(3), float64(4), object(4)\n",
      "memory usage: 1.5+ MB\n"
     ]
    }
   ],
   "source": [
    "#Заполним пропущенные значения значением \"Not\"\n",
    "df = df.fillna({'rating':'Not'})\n",
    "\n",
    "#Проверим результат\n",
    "df.info()"
   ]
  },
  {
   "cell_type": "markdown",
   "metadata": {},
   "source": [
    "Проверим пул возрастных рейтингов"
   ]
  },
  {
   "cell_type": "code",
   "execution_count": 93,
   "metadata": {},
   "outputs": [
    {
     "data": {
      "text/plain": [
       "array(['E', 'Not', 'M', 'T', 'E10+', 'K-A', 'AO', 'EC', 'RP'],\n",
       "      dtype=object)"
      ]
     },
     "execution_count": 93,
     "metadata": {},
     "output_type": "execute_result"
    }
   ],
   "source": [
    "#Напечатаем уникальные значения в столбце 'rating'\n",
    "df['rating'].unique()"
   ]
  },
  {
   "cell_type": "markdown",
   "metadata": {},
   "source": [
    "Рейтинг \"K-A\" (\"Kids to Adults\") позже стал называться «E» («Everyone») — «Для всех». Заменим 'K-A' на 'E'"
   ]
  },
  {
   "cell_type": "code",
   "execution_count": 94,
   "metadata": {},
   "outputs": [
    {
     "data": {
      "text/html": [
       "<div>\n",
       "<style scoped>\n",
       "    .dataframe tbody tr th:only-of-type {\n",
       "        vertical-align: middle;\n",
       "    }\n",
       "\n",
       "    .dataframe tbody tr th {\n",
       "        vertical-align: top;\n",
       "    }\n",
       "\n",
       "    .dataframe thead th {\n",
       "        text-align: right;\n",
       "    }\n",
       "</style>\n",
       "<table border=\"1\" class=\"dataframe\">\n",
       "  <thead>\n",
       "    <tr style=\"text-align: right;\">\n",
       "      <th></th>\n",
       "      <th>name</th>\n",
       "      <th>platform</th>\n",
       "      <th>year_of_release</th>\n",
       "      <th>genre</th>\n",
       "      <th>na_sales</th>\n",
       "      <th>eu_sales</th>\n",
       "      <th>jp_sales</th>\n",
       "      <th>other_sales</th>\n",
       "      <th>critic_score</th>\n",
       "      <th>user_score</th>\n",
       "      <th>rating</th>\n",
       "    </tr>\n",
       "  </thead>\n",
       "  <tbody>\n",
       "  </tbody>\n",
       "</table>\n",
       "</div>"
      ],
      "text/plain": [
       "Empty DataFrame\n",
       "Columns: [name, platform, year_of_release, genre, na_sales, eu_sales, jp_sales, other_sales, critic_score, user_score, rating]\n",
       "Index: []"
      ]
     },
     "execution_count": 94,
     "metadata": {},
     "output_type": "execute_result"
    }
   ],
   "source": [
    "#Заменим все 'K-A' на 'E'\n",
    "df.loc[df['rating'] == 'K-A', 'rating'] = 'E'\n",
    "\n",
    "#Проверим результат\n",
    "df[df['rating'] == 'K-A']"
   ]
  },
  {
   "cell_type": "markdown",
   "metadata": {},
   "source": [
    "### Обработка дубликатов"
   ]
  },
  {
   "cell_type": "markdown",
   "metadata": {},
   "source": [
    "Проверим набор данных на наличие дубликатов"
   ]
  },
  {
   "cell_type": "code",
   "execution_count": 95,
   "metadata": {},
   "outputs": [
    {
     "name": "stdout",
     "output_type": "stream",
     "text": [
      "Дубликатов: 0\n",
      "Дубликатов в столбце name: 5154\n"
     ]
    }
   ],
   "source": [
    "#Напечатаем количество полных дубликатов и дубликатов по столбцу 'name'\n",
    "print('Дубликатов:', df.duplicated().sum())\n",
    "print('Дубликатов в столбце name:', df['name'].duplicated().sum())"
   ]
  },
  {
   "cell_type": "code",
   "execution_count": 96,
   "metadata": {},
   "outputs": [
    {
     "data": {
      "text/html": [
       "<div>\n",
       "<style scoped>\n",
       "    .dataframe tbody tr th:only-of-type {\n",
       "        vertical-align: middle;\n",
       "    }\n",
       "\n",
       "    .dataframe tbody tr th {\n",
       "        vertical-align: top;\n",
       "    }\n",
       "\n",
       "    .dataframe thead th {\n",
       "        text-align: right;\n",
       "    }\n",
       "</style>\n",
       "<table border=\"1\" class=\"dataframe\">\n",
       "  <thead>\n",
       "    <tr style=\"text-align: right;\">\n",
       "      <th></th>\n",
       "      <th>name</th>\n",
       "      <th>platform</th>\n",
       "      <th>year_of_release</th>\n",
       "      <th>genre</th>\n",
       "      <th>na_sales</th>\n",
       "      <th>eu_sales</th>\n",
       "      <th>jp_sales</th>\n",
       "      <th>other_sales</th>\n",
       "      <th>critic_score</th>\n",
       "      <th>user_score</th>\n",
       "      <th>rating</th>\n",
       "    </tr>\n",
       "  </thead>\n",
       "  <tbody>\n",
       "    <tr>\n",
       "      <th>23</th>\n",
       "      <td>Grand Theft Auto V</td>\n",
       "      <td>X360</td>\n",
       "      <td>2013</td>\n",
       "      <td>Action</td>\n",
       "      <td>9.66</td>\n",
       "      <td>5.14</td>\n",
       "      <td>0.06</td>\n",
       "      <td>1.41</td>\n",
       "      <td>97</td>\n",
       "      <td>81</td>\n",
       "      <td>M</td>\n",
       "    </tr>\n",
       "    <tr>\n",
       "      <th>35</th>\n",
       "      <td>Call of Duty: Black Ops II</td>\n",
       "      <td>X360</td>\n",
       "      <td>2012</td>\n",
       "      <td>Shooter</td>\n",
       "      <td>8.25</td>\n",
       "      <td>4.24</td>\n",
       "      <td>0.07</td>\n",
       "      <td>1.12</td>\n",
       "      <td>83</td>\n",
       "      <td>48</td>\n",
       "      <td>M</td>\n",
       "    </tr>\n",
       "    <tr>\n",
       "      <th>37</th>\n",
       "      <td>Call of Duty: Modern Warfare 3</td>\n",
       "      <td>PS3</td>\n",
       "      <td>2011</td>\n",
       "      <td>Shooter</td>\n",
       "      <td>5.54</td>\n",
       "      <td>5.73</td>\n",
       "      <td>0.49</td>\n",
       "      <td>1.57</td>\n",
       "      <td>88</td>\n",
       "      <td>32</td>\n",
       "      <td>M</td>\n",
       "    </tr>\n",
       "    <tr>\n",
       "      <th>41</th>\n",
       "      <td>Call of Duty: Black Ops</td>\n",
       "      <td>PS3</td>\n",
       "      <td>2010</td>\n",
       "      <td>Shooter</td>\n",
       "      <td>5.99</td>\n",
       "      <td>4.37</td>\n",
       "      <td>0.48</td>\n",
       "      <td>1.79</td>\n",
       "      <td>88</td>\n",
       "      <td>64</td>\n",
       "      <td>M</td>\n",
       "    </tr>\n",
       "    <tr>\n",
       "      <th>42</th>\n",
       "      <td>Grand Theft Auto V</td>\n",
       "      <td>PS4</td>\n",
       "      <td>2014</td>\n",
       "      <td>Action</td>\n",
       "      <td>3.96</td>\n",
       "      <td>6.31</td>\n",
       "      <td>0.38</td>\n",
       "      <td>1.97</td>\n",
       "      <td>97</td>\n",
       "      <td>83</td>\n",
       "      <td>M</td>\n",
       "    </tr>\n",
       "    <tr>\n",
       "      <th>...</th>\n",
       "      <td>...</td>\n",
       "      <td>...</td>\n",
       "      <td>...</td>\n",
       "      <td>...</td>\n",
       "      <td>...</td>\n",
       "      <td>...</td>\n",
       "      <td>...</td>\n",
       "      <td>...</td>\n",
       "      <td>...</td>\n",
       "      <td>...</td>\n",
       "      <td>...</td>\n",
       "    </tr>\n",
       "    <tr>\n",
       "      <th>16704</th>\n",
       "      <td>Men in Black II: Alien Escape</td>\n",
       "      <td>GC</td>\n",
       "      <td>2003</td>\n",
       "      <td>Shooter</td>\n",
       "      <td>0.01</td>\n",
       "      <td>0.00</td>\n",
       "      <td>0.00</td>\n",
       "      <td>0.00</td>\n",
       "      <td>&lt;NA&gt;</td>\n",
       "      <td>&lt;NA&gt;</td>\n",
       "      <td>T</td>\n",
       "    </tr>\n",
       "    <tr>\n",
       "      <th>16707</th>\n",
       "      <td>SCORE International Baja 1000: The Official Game</td>\n",
       "      <td>PS2</td>\n",
       "      <td>2008</td>\n",
       "      <td>Racing</td>\n",
       "      <td>0.00</td>\n",
       "      <td>0.00</td>\n",
       "      <td>0.00</td>\n",
       "      <td>0.00</td>\n",
       "      <td>&lt;NA&gt;</td>\n",
       "      <td>&lt;NA&gt;</td>\n",
       "      <td>Not</td>\n",
       "    </tr>\n",
       "    <tr>\n",
       "      <th>16708</th>\n",
       "      <td>Samurai Warriors: Sanada Maru</td>\n",
       "      <td>PS3</td>\n",
       "      <td>2016</td>\n",
       "      <td>Action</td>\n",
       "      <td>0.00</td>\n",
       "      <td>0.00</td>\n",
       "      <td>0.01</td>\n",
       "      <td>0.00</td>\n",
       "      <td>&lt;NA&gt;</td>\n",
       "      <td>&lt;NA&gt;</td>\n",
       "      <td>Not</td>\n",
       "    </tr>\n",
       "    <tr>\n",
       "      <th>16711</th>\n",
       "      <td>Spirits &amp; Spells</td>\n",
       "      <td>GBA</td>\n",
       "      <td>2003</td>\n",
       "      <td>Platform</td>\n",
       "      <td>0.01</td>\n",
       "      <td>0.00</td>\n",
       "      <td>0.00</td>\n",
       "      <td>0.00</td>\n",
       "      <td>&lt;NA&gt;</td>\n",
       "      <td>&lt;NA&gt;</td>\n",
       "      <td>Not</td>\n",
       "    </tr>\n",
       "    <tr>\n",
       "      <th>16712</th>\n",
       "      <td>Winning Post 8 2016</td>\n",
       "      <td>PSV</td>\n",
       "      <td>2016</td>\n",
       "      <td>Simulation</td>\n",
       "      <td>0.00</td>\n",
       "      <td>0.00</td>\n",
       "      <td>0.01</td>\n",
       "      <td>0.00</td>\n",
       "      <td>&lt;NA&gt;</td>\n",
       "      <td>&lt;NA&gt;</td>\n",
       "      <td>Not</td>\n",
       "    </tr>\n",
       "  </tbody>\n",
       "</table>\n",
       "<p>5154 rows × 11 columns</p>\n",
       "</div>"
      ],
      "text/plain": [
       "                                                   name platform  \\\n",
       "23                                   Grand Theft Auto V     X360   \n",
       "35                           Call of Duty: Black Ops II     X360   \n",
       "37                       Call of Duty: Modern Warfare 3      PS3   \n",
       "41                              Call of Duty: Black Ops      PS3   \n",
       "42                                   Grand Theft Auto V      PS4   \n",
       "...                                                 ...      ...   \n",
       "16704                     Men in Black II: Alien Escape       GC   \n",
       "16707  SCORE International Baja 1000: The Official Game      PS2   \n",
       "16708                     Samurai Warriors: Sanada Maru      PS3   \n",
       "16711                                  Spirits & Spells      GBA   \n",
       "16712                               Winning Post 8 2016      PSV   \n",
       "\n",
       "       year_of_release       genre  na_sales  eu_sales  jp_sales  other_sales  \\\n",
       "23                2013      Action      9.66      5.14      0.06         1.41   \n",
       "35                2012     Shooter      8.25      4.24      0.07         1.12   \n",
       "37                2011     Shooter      5.54      5.73      0.49         1.57   \n",
       "41                2010     Shooter      5.99      4.37      0.48         1.79   \n",
       "42                2014      Action      3.96      6.31      0.38         1.97   \n",
       "...                ...         ...       ...       ...       ...          ...   \n",
       "16704             2003     Shooter      0.01      0.00      0.00         0.00   \n",
       "16707             2008      Racing      0.00      0.00      0.00         0.00   \n",
       "16708             2016      Action      0.00      0.00      0.01         0.00   \n",
       "16711             2003    Platform      0.01      0.00      0.00         0.00   \n",
       "16712             2016  Simulation      0.00      0.00      0.01         0.00   \n",
       "\n",
       "       critic_score  user_score rating  \n",
       "23               97          81      M  \n",
       "35               83          48      M  \n",
       "37               88          32      M  \n",
       "41               88          64      M  \n",
       "42               97          83      M  \n",
       "...             ...         ...    ...  \n",
       "16704          <NA>        <NA>      T  \n",
       "16707          <NA>        <NA>    Not  \n",
       "16708          <NA>        <NA>    Not  \n",
       "16711          <NA>        <NA>    Not  \n",
       "16712          <NA>        <NA>    Not  \n",
       "\n",
       "[5154 rows x 11 columns]"
      ]
     },
     "execution_count": 96,
     "metadata": {},
     "output_type": "execute_result"
    }
   ],
   "source": [
    "#Напечатаем обнаруженные дубликаты\n",
    "df[df['name'].duplicated()]"
   ]
  },
  {
   "cell_type": "markdown",
   "metadata": {},
   "source": [
    "Похоже, хоть и есть повторение по именам, но платформы были разными. Технически это действительно разные продукты, так что проверим дубликаты сразу по двум параметрам: имени и платформе"
   ]
  },
  {
   "cell_type": "code",
   "execution_count": 97,
   "metadata": {},
   "outputs": [
    {
     "data": {
      "text/html": [
       "<div>\n",
       "<style scoped>\n",
       "    .dataframe tbody tr th:only-of-type {\n",
       "        vertical-align: middle;\n",
       "    }\n",
       "\n",
       "    .dataframe tbody tr th {\n",
       "        vertical-align: top;\n",
       "    }\n",
       "\n",
       "    .dataframe thead th {\n",
       "        text-align: right;\n",
       "    }\n",
       "</style>\n",
       "<table border=\"1\" class=\"dataframe\">\n",
       "  <thead>\n",
       "    <tr style=\"text-align: right;\">\n",
       "      <th></th>\n",
       "      <th>name</th>\n",
       "      <th>platform</th>\n",
       "      <th>year_of_release</th>\n",
       "      <th>genre</th>\n",
       "      <th>na_sales</th>\n",
       "      <th>eu_sales</th>\n",
       "      <th>jp_sales</th>\n",
       "      <th>other_sales</th>\n",
       "      <th>critic_score</th>\n",
       "      <th>user_score</th>\n",
       "      <th>rating</th>\n",
       "    </tr>\n",
       "  </thead>\n",
       "  <tbody>\n",
       "    <tr>\n",
       "      <th>604</th>\n",
       "      <td>Madden NFL 13</td>\n",
       "      <td>PS3</td>\n",
       "      <td>2012</td>\n",
       "      <td>Sports</td>\n",
       "      <td>2.11</td>\n",
       "      <td>0.22</td>\n",
       "      <td>0.00</td>\n",
       "      <td>0.23</td>\n",
       "      <td>83</td>\n",
       "      <td>55</td>\n",
       "      <td>E</td>\n",
       "    </tr>\n",
       "    <tr>\n",
       "      <th>1189</th>\n",
       "      <td>Need for Speed: Most Wanted</td>\n",
       "      <td>X360</td>\n",
       "      <td>2012</td>\n",
       "      <td>Racing</td>\n",
       "      <td>0.62</td>\n",
       "      <td>0.78</td>\n",
       "      <td>0.01</td>\n",
       "      <td>0.15</td>\n",
       "      <td>83</td>\n",
       "      <td>85</td>\n",
       "      <td>T</td>\n",
       "    </tr>\n",
       "    <tr>\n",
       "      <th>1590</th>\n",
       "      <td>Need for Speed: Most Wanted</td>\n",
       "      <td>X360</td>\n",
       "      <td>2005</td>\n",
       "      <td>Racing</td>\n",
       "      <td>1.00</td>\n",
       "      <td>0.13</td>\n",
       "      <td>0.02</td>\n",
       "      <td>0.10</td>\n",
       "      <td>83</td>\n",
       "      <td>85</td>\n",
       "      <td>T</td>\n",
       "    </tr>\n",
       "    <tr>\n",
       "      <th>1744</th>\n",
       "      <td>Sonic the Hedgehog</td>\n",
       "      <td>PS3</td>\n",
       "      <td>2006</td>\n",
       "      <td>Platform</td>\n",
       "      <td>0.41</td>\n",
       "      <td>0.06</td>\n",
       "      <td>0.04</td>\n",
       "      <td>0.66</td>\n",
       "      <td>43</td>\n",
       "      <td>41</td>\n",
       "      <td>E10+</td>\n",
       "    </tr>\n",
       "    <tr>\n",
       "      <th>4126</th>\n",
       "      <td>Sonic the Hedgehog</td>\n",
       "      <td>PS3</td>\n",
       "      <td>&lt;NA&gt;</td>\n",
       "      <td>Platform</td>\n",
       "      <td>0.00</td>\n",
       "      <td>0.48</td>\n",
       "      <td>0.00</td>\n",
       "      <td>0.00</td>\n",
       "      <td>43</td>\n",
       "      <td>41</td>\n",
       "      <td>E10+</td>\n",
       "    </tr>\n",
       "    <tr>\n",
       "      <th>5971</th>\n",
       "      <td>Need for Speed: Most Wanted</td>\n",
       "      <td>PC</td>\n",
       "      <td>2005</td>\n",
       "      <td>Racing</td>\n",
       "      <td>0.02</td>\n",
       "      <td>0.23</td>\n",
       "      <td>0.00</td>\n",
       "      <td>0.04</td>\n",
       "      <td>82</td>\n",
       "      <td>85</td>\n",
       "      <td>T</td>\n",
       "    </tr>\n",
       "    <tr>\n",
       "      <th>11714</th>\n",
       "      <td>Need for Speed: Most Wanted</td>\n",
       "      <td>PC</td>\n",
       "      <td>2012</td>\n",
       "      <td>Racing</td>\n",
       "      <td>0.00</td>\n",
       "      <td>0.06</td>\n",
       "      <td>0.00</td>\n",
       "      <td>0.02</td>\n",
       "      <td>82</td>\n",
       "      <td>85</td>\n",
       "      <td>T</td>\n",
       "    </tr>\n",
       "    <tr>\n",
       "      <th>16228</th>\n",
       "      <td>Madden NFL 13</td>\n",
       "      <td>PS3</td>\n",
       "      <td>2012</td>\n",
       "      <td>Sports</td>\n",
       "      <td>0.00</td>\n",
       "      <td>0.01</td>\n",
       "      <td>0.00</td>\n",
       "      <td>0.00</td>\n",
       "      <td>83</td>\n",
       "      <td>55</td>\n",
       "      <td>E</td>\n",
       "    </tr>\n",
       "  </tbody>\n",
       "</table>\n",
       "</div>"
      ],
      "text/plain": [
       "                              name platform  year_of_release     genre  \\\n",
       "604                  Madden NFL 13      PS3             2012    Sports   \n",
       "1189   Need for Speed: Most Wanted     X360             2012    Racing   \n",
       "1590   Need for Speed: Most Wanted     X360             2005    Racing   \n",
       "1744            Sonic the Hedgehog      PS3             2006  Platform   \n",
       "4126            Sonic the Hedgehog      PS3             <NA>  Platform   \n",
       "5971   Need for Speed: Most Wanted       PC             2005    Racing   \n",
       "11714  Need for Speed: Most Wanted       PC             2012    Racing   \n",
       "16228                Madden NFL 13      PS3             2012    Sports   \n",
       "\n",
       "       na_sales  eu_sales  jp_sales  other_sales  critic_score  user_score  \\\n",
       "604        2.11      0.22      0.00         0.23            83          55   \n",
       "1189       0.62      0.78      0.01         0.15            83          85   \n",
       "1590       1.00      0.13      0.02         0.10            83          85   \n",
       "1744       0.41      0.06      0.04         0.66            43          41   \n",
       "4126       0.00      0.48      0.00         0.00            43          41   \n",
       "5971       0.02      0.23      0.00         0.04            82          85   \n",
       "11714      0.00      0.06      0.00         0.02            82          85   \n",
       "16228      0.00      0.01      0.00         0.00            83          55   \n",
       "\n",
       "      rating  \n",
       "604        E  \n",
       "1189       T  \n",
       "1590       T  \n",
       "1744    E10+  \n",
       "4126    E10+  \n",
       "5971       T  \n",
       "11714      T  \n",
       "16228      E  "
      ]
     },
     "execution_count": 97,
     "metadata": {},
     "output_type": "execute_result"
    }
   ],
   "source": [
    "#Напечатаем дубликаты имени и платформы\n",
    "df[df.duplicated(subset=['name', 'platform'], keep = False)]"
   ]
  },
  {
   "cell_type": "markdown",
   "metadata": {},
   "source": [
    "Есть дубликаты по имени и платформе. Их нужно будет объединить, точнее сложить продажи. Оценки у них почему-то тоже совпадают. Только придется при объединении учитывать, что \"Need for Speed: Most Wanted\" 2005 и 2012 годов это разные продукты."
   ]
  },
  {
   "cell_type": "code",
   "execution_count": 98,
   "metadata": {},
   "outputs": [],
   "source": [
    "#Переименуем 'Need for Speed: Most Wanted' 2005 и 2012 годов\n",
    "#Создадим функцию, которая будет переименовывать игру, добавляя к названию год релиза\n",
    "def rename_this_game(game_name):\n",
    "    for game_year in df[df['name'] == game_name]['year_of_release'].unique():\n",
    "        df.loc[\n",
    "        (df['name'] == game_name) & (df['year_of_release'] == game_year),\n",
    "        'name'] = df['name'] + ' ' + str(game_year)\n",
    "\n",
    "#Вызовем функцию\n",
    "rename_this_game('Need for Speed: Most Wanted')"
   ]
  },
  {
   "cell_type": "code",
   "execution_count": 99,
   "metadata": {},
   "outputs": [
    {
     "data": {
      "text/html": [
       "<div>\n",
       "<style scoped>\n",
       "    .dataframe tbody tr th:only-of-type {\n",
       "        vertical-align: middle;\n",
       "    }\n",
       "\n",
       "    .dataframe tbody tr th {\n",
       "        vertical-align: top;\n",
       "    }\n",
       "\n",
       "    .dataframe thead th {\n",
       "        text-align: right;\n",
       "    }\n",
       "</style>\n",
       "<table border=\"1\" class=\"dataframe\">\n",
       "  <thead>\n",
       "    <tr style=\"text-align: right;\">\n",
       "      <th></th>\n",
       "      <th>name</th>\n",
       "      <th>platform</th>\n",
       "      <th>year_of_release</th>\n",
       "      <th>genre</th>\n",
       "      <th>na_sales</th>\n",
       "      <th>eu_sales</th>\n",
       "      <th>jp_sales</th>\n",
       "      <th>other_sales</th>\n",
       "      <th>critic_score</th>\n",
       "      <th>user_score</th>\n",
       "      <th>rating</th>\n",
       "    </tr>\n",
       "  </thead>\n",
       "  <tbody>\n",
       "    <tr>\n",
       "      <th>253</th>\n",
       "      <td>Need for Speed: Most Wanted 2005</td>\n",
       "      <td>PS2</td>\n",
       "      <td>2005</td>\n",
       "      <td>Racing</td>\n",
       "      <td>2.03</td>\n",
       "      <td>1.79</td>\n",
       "      <td>0.08</td>\n",
       "      <td>0.47</td>\n",
       "      <td>82</td>\n",
       "      <td>91</td>\n",
       "      <td>T</td>\n",
       "    </tr>\n",
       "    <tr>\n",
       "      <th>523</th>\n",
       "      <td>Need for Speed: Most Wanted 2012</td>\n",
       "      <td>PS3</td>\n",
       "      <td>2012</td>\n",
       "      <td>Racing</td>\n",
       "      <td>0.71</td>\n",
       "      <td>1.46</td>\n",
       "      <td>0.06</td>\n",
       "      <td>0.58</td>\n",
       "      <td>&lt;NA&gt;</td>\n",
       "      <td>&lt;NA&gt;</td>\n",
       "      <td>Not</td>\n",
       "    </tr>\n",
       "    <tr>\n",
       "      <th>809</th>\n",
       "      <td>Need for Speed: Most Wanted 5-1-0</td>\n",
       "      <td>PSP</td>\n",
       "      <td>2005</td>\n",
       "      <td>Racing</td>\n",
       "      <td>1.77</td>\n",
       "      <td>0.12</td>\n",
       "      <td>0.02</td>\n",
       "      <td>0.17</td>\n",
       "      <td>72</td>\n",
       "      <td>78</td>\n",
       "      <td>E10+</td>\n",
       "    </tr>\n",
       "    <tr>\n",
       "      <th>1189</th>\n",
       "      <td>Need for Speed: Most Wanted 2012</td>\n",
       "      <td>X360</td>\n",
       "      <td>2012</td>\n",
       "      <td>Racing</td>\n",
       "      <td>0.62</td>\n",
       "      <td>0.78</td>\n",
       "      <td>0.01</td>\n",
       "      <td>0.15</td>\n",
       "      <td>83</td>\n",
       "      <td>85</td>\n",
       "      <td>T</td>\n",
       "    </tr>\n",
       "    <tr>\n",
       "      <th>1590</th>\n",
       "      <td>Need for Speed: Most Wanted 2005</td>\n",
       "      <td>X360</td>\n",
       "      <td>2005</td>\n",
       "      <td>Racing</td>\n",
       "      <td>1.00</td>\n",
       "      <td>0.13</td>\n",
       "      <td>0.02</td>\n",
       "      <td>0.10</td>\n",
       "      <td>83</td>\n",
       "      <td>85</td>\n",
       "      <td>T</td>\n",
       "    </tr>\n",
       "    <tr>\n",
       "      <th>1997</th>\n",
       "      <td>Need for Speed: Most Wanted 2005</td>\n",
       "      <td>XB</td>\n",
       "      <td>2005</td>\n",
       "      <td>Racing</td>\n",
       "      <td>0.53</td>\n",
       "      <td>0.46</td>\n",
       "      <td>0.00</td>\n",
       "      <td>0.05</td>\n",
       "      <td>83</td>\n",
       "      <td>88</td>\n",
       "      <td>T</td>\n",
       "    </tr>\n",
       "    <tr>\n",
       "      <th>2047</th>\n",
       "      <td>Need for Speed: Most Wanted 2012</td>\n",
       "      <td>PSV</td>\n",
       "      <td>2012</td>\n",
       "      <td>Racing</td>\n",
       "      <td>0.33</td>\n",
       "      <td>0.45</td>\n",
       "      <td>0.01</td>\n",
       "      <td>0.22</td>\n",
       "      <td>&lt;NA&gt;</td>\n",
       "      <td>&lt;NA&gt;</td>\n",
       "      <td>Not</td>\n",
       "    </tr>\n",
       "    <tr>\n",
       "      <th>3580</th>\n",
       "      <td>Need for Speed: Most Wanted 2005</td>\n",
       "      <td>GC</td>\n",
       "      <td>2005</td>\n",
       "      <td>Racing</td>\n",
       "      <td>0.43</td>\n",
       "      <td>0.11</td>\n",
       "      <td>0.00</td>\n",
       "      <td>0.02</td>\n",
       "      <td>80</td>\n",
       "      <td>91</td>\n",
       "      <td>T</td>\n",
       "    </tr>\n",
       "    <tr>\n",
       "      <th>5971</th>\n",
       "      <td>Need for Speed: Most Wanted 2005</td>\n",
       "      <td>PC</td>\n",
       "      <td>2005</td>\n",
       "      <td>Racing</td>\n",
       "      <td>0.02</td>\n",
       "      <td>0.23</td>\n",
       "      <td>0.00</td>\n",
       "      <td>0.04</td>\n",
       "      <td>82</td>\n",
       "      <td>85</td>\n",
       "      <td>T</td>\n",
       "    </tr>\n",
       "    <tr>\n",
       "      <th>6272</th>\n",
       "      <td>Need for Speed: Most Wanted 2013</td>\n",
       "      <td>WiiU</td>\n",
       "      <td>2013</td>\n",
       "      <td>Racing</td>\n",
       "      <td>0.13</td>\n",
       "      <td>0.12</td>\n",
       "      <td>0.00</td>\n",
       "      <td>0.02</td>\n",
       "      <td>&lt;NA&gt;</td>\n",
       "      <td>&lt;NA&gt;</td>\n",
       "      <td>Not</td>\n",
       "    </tr>\n",
       "    <tr>\n",
       "      <th>6409</th>\n",
       "      <td>Need for Speed: Most Wanted 2005</td>\n",
       "      <td>DS</td>\n",
       "      <td>2005</td>\n",
       "      <td>Racing</td>\n",
       "      <td>0.24</td>\n",
       "      <td>0.01</td>\n",
       "      <td>0.00</td>\n",
       "      <td>0.02</td>\n",
       "      <td>45</td>\n",
       "      <td>61</td>\n",
       "      <td>E</td>\n",
       "    </tr>\n",
       "    <tr>\n",
       "      <th>6472</th>\n",
       "      <td>Need for Speed: Most Wanted 2005</td>\n",
       "      <td>GBA</td>\n",
       "      <td>2005</td>\n",
       "      <td>Racing</td>\n",
       "      <td>0.19</td>\n",
       "      <td>0.07</td>\n",
       "      <td>0.00</td>\n",
       "      <td>0.00</td>\n",
       "      <td>&lt;NA&gt;</td>\n",
       "      <td>83</td>\n",
       "      <td>E</td>\n",
       "    </tr>\n",
       "    <tr>\n",
       "      <th>11714</th>\n",
       "      <td>Need for Speed: Most Wanted 2012</td>\n",
       "      <td>PC</td>\n",
       "      <td>2012</td>\n",
       "      <td>Racing</td>\n",
       "      <td>0.00</td>\n",
       "      <td>0.06</td>\n",
       "      <td>0.00</td>\n",
       "      <td>0.02</td>\n",
       "      <td>82</td>\n",
       "      <td>85</td>\n",
       "      <td>T</td>\n",
       "    </tr>\n",
       "  </tbody>\n",
       "</table>\n",
       "</div>"
      ],
      "text/plain": [
       "                                    name platform  year_of_release   genre  \\\n",
       "253     Need for Speed: Most Wanted 2005      PS2             2005  Racing   \n",
       "523     Need for Speed: Most Wanted 2012      PS3             2012  Racing   \n",
       "809    Need for Speed: Most Wanted 5-1-0      PSP             2005  Racing   \n",
       "1189    Need for Speed: Most Wanted 2012     X360             2012  Racing   \n",
       "1590    Need for Speed: Most Wanted 2005     X360             2005  Racing   \n",
       "1997    Need for Speed: Most Wanted 2005       XB             2005  Racing   \n",
       "2047    Need for Speed: Most Wanted 2012      PSV             2012  Racing   \n",
       "3580    Need for Speed: Most Wanted 2005       GC             2005  Racing   \n",
       "5971    Need for Speed: Most Wanted 2005       PC             2005  Racing   \n",
       "6272    Need for Speed: Most Wanted 2013     WiiU             2013  Racing   \n",
       "6409    Need for Speed: Most Wanted 2005       DS             2005  Racing   \n",
       "6472    Need for Speed: Most Wanted 2005      GBA             2005  Racing   \n",
       "11714   Need for Speed: Most Wanted 2012       PC             2012  Racing   \n",
       "\n",
       "       na_sales  eu_sales  jp_sales  other_sales  critic_score  user_score  \\\n",
       "253        2.03      1.79      0.08         0.47            82          91   \n",
       "523        0.71      1.46      0.06         0.58          <NA>        <NA>   \n",
       "809        1.77      0.12      0.02         0.17            72          78   \n",
       "1189       0.62      0.78      0.01         0.15            83          85   \n",
       "1590       1.00      0.13      0.02         0.10            83          85   \n",
       "1997       0.53      0.46      0.00         0.05            83          88   \n",
       "2047       0.33      0.45      0.01         0.22          <NA>        <NA>   \n",
       "3580       0.43      0.11      0.00         0.02            80          91   \n",
       "5971       0.02      0.23      0.00         0.04            82          85   \n",
       "6272       0.13      0.12      0.00         0.02          <NA>        <NA>   \n",
       "6409       0.24      0.01      0.00         0.02            45          61   \n",
       "6472       0.19      0.07      0.00         0.00          <NA>          83   \n",
       "11714      0.00      0.06      0.00         0.02            82          85   \n",
       "\n",
       "      rating  \n",
       "253        T  \n",
       "523      Not  \n",
       "809     E10+  \n",
       "1189       T  \n",
       "1590       T  \n",
       "1997       T  \n",
       "2047     Not  \n",
       "3580       T  \n",
       "5971       T  \n",
       "6272     Not  \n",
       "6409       E  \n",
       "6472       E  \n",
       "11714      T  "
      ]
     },
     "execution_count": 99,
     "metadata": {},
     "output_type": "execute_result"
    }
   ],
   "source": [
    "#Проверим результат\n",
    "df[df['name'].str.contains(pat = 'Need for Speed: Most Wanted')]"
   ]
  },
  {
   "cell_type": "markdown",
   "metadata": {},
   "source": [
    "При проверке мы обнаружили, что у игры есть еще одна строка \"Need for Speed: Most Wanted 5-1-0\". Это похоже на версию, в данном случае это версия 2005 года. \n",
    "\n",
    "По логике, версии одной игры не должны быть в разных строках, их нужно объединить, но в данном случае эта версия имеет платформу, которой нет в других строках. Поэтому мы можем оставить эту строку, только переименовать."
   ]
  },
  {
   "cell_type": "code",
   "execution_count": 100,
   "metadata": {},
   "outputs": [
    {
     "data": {
      "text/html": [
       "<div>\n",
       "<style scoped>\n",
       "    .dataframe tbody tr th:only-of-type {\n",
       "        vertical-align: middle;\n",
       "    }\n",
       "\n",
       "    .dataframe tbody tr th {\n",
       "        vertical-align: top;\n",
       "    }\n",
       "\n",
       "    .dataframe thead th {\n",
       "        text-align: right;\n",
       "    }\n",
       "</style>\n",
       "<table border=\"1\" class=\"dataframe\">\n",
       "  <thead>\n",
       "    <tr style=\"text-align: right;\">\n",
       "      <th></th>\n",
       "      <th>name</th>\n",
       "      <th>platform</th>\n",
       "      <th>year_of_release</th>\n",
       "      <th>genre</th>\n",
       "      <th>na_sales</th>\n",
       "      <th>eu_sales</th>\n",
       "      <th>jp_sales</th>\n",
       "      <th>other_sales</th>\n",
       "      <th>critic_score</th>\n",
       "      <th>user_score</th>\n",
       "      <th>rating</th>\n",
       "    </tr>\n",
       "  </thead>\n",
       "  <tbody>\n",
       "    <tr>\n",
       "      <th>253</th>\n",
       "      <td>Need for Speed: Most Wanted 2005</td>\n",
       "      <td>PS2</td>\n",
       "      <td>2005</td>\n",
       "      <td>Racing</td>\n",
       "      <td>2.03</td>\n",
       "      <td>1.79</td>\n",
       "      <td>0.08</td>\n",
       "      <td>0.47</td>\n",
       "      <td>82</td>\n",
       "      <td>91</td>\n",
       "      <td>T</td>\n",
       "    </tr>\n",
       "    <tr>\n",
       "      <th>523</th>\n",
       "      <td>Need for Speed: Most Wanted 2012</td>\n",
       "      <td>PS3</td>\n",
       "      <td>2012</td>\n",
       "      <td>Racing</td>\n",
       "      <td>0.71</td>\n",
       "      <td>1.46</td>\n",
       "      <td>0.06</td>\n",
       "      <td>0.58</td>\n",
       "      <td>&lt;NA&gt;</td>\n",
       "      <td>&lt;NA&gt;</td>\n",
       "      <td>Not</td>\n",
       "    </tr>\n",
       "    <tr>\n",
       "      <th>809</th>\n",
       "      <td>Need for Speed: Most Wanted 2005</td>\n",
       "      <td>PSP</td>\n",
       "      <td>2005</td>\n",
       "      <td>Racing</td>\n",
       "      <td>1.77</td>\n",
       "      <td>0.12</td>\n",
       "      <td>0.02</td>\n",
       "      <td>0.17</td>\n",
       "      <td>72</td>\n",
       "      <td>78</td>\n",
       "      <td>E10+</td>\n",
       "    </tr>\n",
       "    <tr>\n",
       "      <th>1189</th>\n",
       "      <td>Need for Speed: Most Wanted 2012</td>\n",
       "      <td>X360</td>\n",
       "      <td>2012</td>\n",
       "      <td>Racing</td>\n",
       "      <td>0.62</td>\n",
       "      <td>0.78</td>\n",
       "      <td>0.01</td>\n",
       "      <td>0.15</td>\n",
       "      <td>83</td>\n",
       "      <td>85</td>\n",
       "      <td>T</td>\n",
       "    </tr>\n",
       "    <tr>\n",
       "      <th>1590</th>\n",
       "      <td>Need for Speed: Most Wanted 2005</td>\n",
       "      <td>X360</td>\n",
       "      <td>2005</td>\n",
       "      <td>Racing</td>\n",
       "      <td>1.00</td>\n",
       "      <td>0.13</td>\n",
       "      <td>0.02</td>\n",
       "      <td>0.10</td>\n",
       "      <td>83</td>\n",
       "      <td>85</td>\n",
       "      <td>T</td>\n",
       "    </tr>\n",
       "    <tr>\n",
       "      <th>1997</th>\n",
       "      <td>Need for Speed: Most Wanted 2005</td>\n",
       "      <td>XB</td>\n",
       "      <td>2005</td>\n",
       "      <td>Racing</td>\n",
       "      <td>0.53</td>\n",
       "      <td>0.46</td>\n",
       "      <td>0.00</td>\n",
       "      <td>0.05</td>\n",
       "      <td>83</td>\n",
       "      <td>88</td>\n",
       "      <td>T</td>\n",
       "    </tr>\n",
       "    <tr>\n",
       "      <th>2047</th>\n",
       "      <td>Need for Speed: Most Wanted 2012</td>\n",
       "      <td>PSV</td>\n",
       "      <td>2012</td>\n",
       "      <td>Racing</td>\n",
       "      <td>0.33</td>\n",
       "      <td>0.45</td>\n",
       "      <td>0.01</td>\n",
       "      <td>0.22</td>\n",
       "      <td>&lt;NA&gt;</td>\n",
       "      <td>&lt;NA&gt;</td>\n",
       "      <td>Not</td>\n",
       "    </tr>\n",
       "    <tr>\n",
       "      <th>3580</th>\n",
       "      <td>Need for Speed: Most Wanted 2005</td>\n",
       "      <td>GC</td>\n",
       "      <td>2005</td>\n",
       "      <td>Racing</td>\n",
       "      <td>0.43</td>\n",
       "      <td>0.11</td>\n",
       "      <td>0.00</td>\n",
       "      <td>0.02</td>\n",
       "      <td>80</td>\n",
       "      <td>91</td>\n",
       "      <td>T</td>\n",
       "    </tr>\n",
       "    <tr>\n",
       "      <th>5971</th>\n",
       "      <td>Need for Speed: Most Wanted 2005</td>\n",
       "      <td>PC</td>\n",
       "      <td>2005</td>\n",
       "      <td>Racing</td>\n",
       "      <td>0.02</td>\n",
       "      <td>0.23</td>\n",
       "      <td>0.00</td>\n",
       "      <td>0.04</td>\n",
       "      <td>82</td>\n",
       "      <td>85</td>\n",
       "      <td>T</td>\n",
       "    </tr>\n",
       "    <tr>\n",
       "      <th>6272</th>\n",
       "      <td>Need for Speed: Most Wanted 2013</td>\n",
       "      <td>WiiU</td>\n",
       "      <td>2013</td>\n",
       "      <td>Racing</td>\n",
       "      <td>0.13</td>\n",
       "      <td>0.12</td>\n",
       "      <td>0.00</td>\n",
       "      <td>0.02</td>\n",
       "      <td>&lt;NA&gt;</td>\n",
       "      <td>&lt;NA&gt;</td>\n",
       "      <td>Not</td>\n",
       "    </tr>\n",
       "    <tr>\n",
       "      <th>6409</th>\n",
       "      <td>Need for Speed: Most Wanted 2005</td>\n",
       "      <td>DS</td>\n",
       "      <td>2005</td>\n",
       "      <td>Racing</td>\n",
       "      <td>0.24</td>\n",
       "      <td>0.01</td>\n",
       "      <td>0.00</td>\n",
       "      <td>0.02</td>\n",
       "      <td>45</td>\n",
       "      <td>61</td>\n",
       "      <td>E</td>\n",
       "    </tr>\n",
       "    <tr>\n",
       "      <th>6472</th>\n",
       "      <td>Need for Speed: Most Wanted 2005</td>\n",
       "      <td>GBA</td>\n",
       "      <td>2005</td>\n",
       "      <td>Racing</td>\n",
       "      <td>0.19</td>\n",
       "      <td>0.07</td>\n",
       "      <td>0.00</td>\n",
       "      <td>0.00</td>\n",
       "      <td>&lt;NA&gt;</td>\n",
       "      <td>83</td>\n",
       "      <td>E</td>\n",
       "    </tr>\n",
       "    <tr>\n",
       "      <th>11714</th>\n",
       "      <td>Need for Speed: Most Wanted 2012</td>\n",
       "      <td>PC</td>\n",
       "      <td>2012</td>\n",
       "      <td>Racing</td>\n",
       "      <td>0.00</td>\n",
       "      <td>0.06</td>\n",
       "      <td>0.00</td>\n",
       "      <td>0.02</td>\n",
       "      <td>82</td>\n",
       "      <td>85</td>\n",
       "      <td>T</td>\n",
       "    </tr>\n",
       "  </tbody>\n",
       "</table>\n",
       "</div>"
      ],
      "text/plain": [
       "                                   name platform  year_of_release   genre  \\\n",
       "253    Need for Speed: Most Wanted 2005      PS2             2005  Racing   \n",
       "523    Need for Speed: Most Wanted 2012      PS3             2012  Racing   \n",
       "809    Need for Speed: Most Wanted 2005      PSP             2005  Racing   \n",
       "1189   Need for Speed: Most Wanted 2012     X360             2012  Racing   \n",
       "1590   Need for Speed: Most Wanted 2005     X360             2005  Racing   \n",
       "1997   Need for Speed: Most Wanted 2005       XB             2005  Racing   \n",
       "2047   Need for Speed: Most Wanted 2012      PSV             2012  Racing   \n",
       "3580   Need for Speed: Most Wanted 2005       GC             2005  Racing   \n",
       "5971   Need for Speed: Most Wanted 2005       PC             2005  Racing   \n",
       "6272   Need for Speed: Most Wanted 2013     WiiU             2013  Racing   \n",
       "6409   Need for Speed: Most Wanted 2005       DS             2005  Racing   \n",
       "6472   Need for Speed: Most Wanted 2005      GBA             2005  Racing   \n",
       "11714  Need for Speed: Most Wanted 2012       PC             2012  Racing   \n",
       "\n",
       "       na_sales  eu_sales  jp_sales  other_sales  critic_score  user_score  \\\n",
       "253        2.03      1.79      0.08         0.47            82          91   \n",
       "523        0.71      1.46      0.06         0.58          <NA>        <NA>   \n",
       "809        1.77      0.12      0.02         0.17            72          78   \n",
       "1189       0.62      0.78      0.01         0.15            83          85   \n",
       "1590       1.00      0.13      0.02         0.10            83          85   \n",
       "1997       0.53      0.46      0.00         0.05            83          88   \n",
       "2047       0.33      0.45      0.01         0.22          <NA>        <NA>   \n",
       "3580       0.43      0.11      0.00         0.02            80          91   \n",
       "5971       0.02      0.23      0.00         0.04            82          85   \n",
       "6272       0.13      0.12      0.00         0.02          <NA>        <NA>   \n",
       "6409       0.24      0.01      0.00         0.02            45          61   \n",
       "6472       0.19      0.07      0.00         0.00          <NA>          83   \n",
       "11714      0.00      0.06      0.00         0.02            82          85   \n",
       "\n",
       "      rating  \n",
       "253        T  \n",
       "523      Not  \n",
       "809     E10+  \n",
       "1189       T  \n",
       "1590       T  \n",
       "1997       T  \n",
       "2047     Not  \n",
       "3580       T  \n",
       "5971       T  \n",
       "6272     Not  \n",
       "6409       E  \n",
       "6472       E  \n",
       "11714      T  "
      ]
     },
     "execution_count": 100,
     "metadata": {},
     "output_type": "execute_result"
    }
   ],
   "source": [
    "#Переименуем имя в этой строке\n",
    "df.loc[df['name'] == 'Need for Speed: Most Wanted 5-1-0', 'name'] = 'Need for Speed: Most Wanted 2005'\n",
    "\n",
    "#Проверим результат\n",
    "df[df['name'].str.contains(pat = 'Need for Speed: Most Wanted')]"
   ]
  },
  {
   "cell_type": "markdown",
   "metadata": {},
   "source": [
    "Но остается вероятность, что с другими играми происходит то же самое: множество разных версий в имени. Возможно, даже которые нужно объединить. От таких дубликатов сложно избавиться, при возможности нужно будет иметь это в виду при анализе данных."
   ]
  },
  {
   "cell_type": "markdown",
   "metadata": {},
   "source": [
    "Вернемся к дубликатам, о которых мы знаем. Создадим набор данных, в котором соберем дубликаты и получим нужные нам значения."
   ]
  },
  {
   "cell_type": "code",
   "execution_count": 101,
   "metadata": {},
   "outputs": [
    {
     "data": {
      "text/html": [
       "<div>\n",
       "<style scoped>\n",
       "    .dataframe tbody tr th:only-of-type {\n",
       "        vertical-align: middle;\n",
       "    }\n",
       "\n",
       "    .dataframe tbody tr th {\n",
       "        vertical-align: top;\n",
       "    }\n",
       "\n",
       "    .dataframe thead th {\n",
       "        text-align: right;\n",
       "    }\n",
       "</style>\n",
       "<table border=\"1\" class=\"dataframe\">\n",
       "  <thead>\n",
       "    <tr style=\"text-align: right;\">\n",
       "      <th></th>\n",
       "      <th>name</th>\n",
       "      <th>platform</th>\n",
       "      <th>year_of_release</th>\n",
       "      <th>genre</th>\n",
       "      <th>na_sales</th>\n",
       "      <th>eu_sales</th>\n",
       "      <th>jp_sales</th>\n",
       "      <th>other_sales</th>\n",
       "      <th>critic_score</th>\n",
       "      <th>user_score</th>\n",
       "      <th>rating</th>\n",
       "    </tr>\n",
       "  </thead>\n",
       "  <tbody>\n",
       "    <tr>\n",
       "      <th>604</th>\n",
       "      <td>Madden NFL 13</td>\n",
       "      <td>PS3</td>\n",
       "      <td>2012</td>\n",
       "      <td>Sports</td>\n",
       "      <td>2.11</td>\n",
       "      <td>0.22</td>\n",
       "      <td>0.00</td>\n",
       "      <td>0.23</td>\n",
       "      <td>83</td>\n",
       "      <td>55</td>\n",
       "      <td>E</td>\n",
       "    </tr>\n",
       "    <tr>\n",
       "      <th>1744</th>\n",
       "      <td>Sonic the Hedgehog</td>\n",
       "      <td>PS3</td>\n",
       "      <td>2006</td>\n",
       "      <td>Platform</td>\n",
       "      <td>0.41</td>\n",
       "      <td>0.06</td>\n",
       "      <td>0.04</td>\n",
       "      <td>0.66</td>\n",
       "      <td>43</td>\n",
       "      <td>41</td>\n",
       "      <td>E10+</td>\n",
       "    </tr>\n",
       "    <tr>\n",
       "      <th>4126</th>\n",
       "      <td>Sonic the Hedgehog</td>\n",
       "      <td>PS3</td>\n",
       "      <td>&lt;NA&gt;</td>\n",
       "      <td>Platform</td>\n",
       "      <td>0.00</td>\n",
       "      <td>0.48</td>\n",
       "      <td>0.00</td>\n",
       "      <td>0.00</td>\n",
       "      <td>43</td>\n",
       "      <td>41</td>\n",
       "      <td>E10+</td>\n",
       "    </tr>\n",
       "    <tr>\n",
       "      <th>16228</th>\n",
       "      <td>Madden NFL 13</td>\n",
       "      <td>PS3</td>\n",
       "      <td>2012</td>\n",
       "      <td>Sports</td>\n",
       "      <td>0.00</td>\n",
       "      <td>0.01</td>\n",
       "      <td>0.00</td>\n",
       "      <td>0.00</td>\n",
       "      <td>83</td>\n",
       "      <td>55</td>\n",
       "      <td>E</td>\n",
       "    </tr>\n",
       "  </tbody>\n",
       "</table>\n",
       "</div>"
      ],
      "text/plain": [
       "                     name platform  year_of_release     genre  na_sales  \\\n",
       "604         Madden NFL 13      PS3             2012    Sports      2.11   \n",
       "1744   Sonic the Hedgehog      PS3             2006  Platform      0.41   \n",
       "4126   Sonic the Hedgehog      PS3             <NA>  Platform      0.00   \n",
       "16228       Madden NFL 13      PS3             2012    Sports      0.00   \n",
       "\n",
       "       eu_sales  jp_sales  other_sales  critic_score  user_score rating  \n",
       "604        0.22      0.00         0.23            83          55      E  \n",
       "1744       0.06      0.04         0.66            43          41   E10+  \n",
       "4126       0.48      0.00         0.00            43          41   E10+  \n",
       "16228      0.01      0.00         0.00            83          55      E  "
      ]
     },
     "execution_count": 101,
     "metadata": {},
     "output_type": "execute_result"
    }
   ],
   "source": [
    "#Создадим отдельный набор данных, в которое поместим дубликаты\n",
    "duplicates_df0 = df[df.duplicated(subset=['name', 'platform'], keep = False)]\n",
    "\n",
    "#Напечатаем результат\n",
    "duplicates_df0"
   ]
  },
  {
   "cell_type": "code",
   "execution_count": 102,
   "metadata": {},
   "outputs": [
    {
     "data": {
      "text/html": [
       "<div>\n",
       "<style scoped>\n",
       "    .dataframe tbody tr th:only-of-type {\n",
       "        vertical-align: middle;\n",
       "    }\n",
       "\n",
       "    .dataframe tbody tr th {\n",
       "        vertical-align: top;\n",
       "    }\n",
       "\n",
       "    .dataframe thead th {\n",
       "        text-align: right;\n",
       "    }\n",
       "</style>\n",
       "<table border=\"1\" class=\"dataframe\">\n",
       "  <thead>\n",
       "    <tr style=\"text-align: right;\">\n",
       "      <th></th>\n",
       "      <th>name</th>\n",
       "      <th>year_of_release</th>\n",
       "      <th>na_sales</th>\n",
       "      <th>eu_sales</th>\n",
       "      <th>jp_sales</th>\n",
       "      <th>other_sales</th>\n",
       "      <th>platform</th>\n",
       "    </tr>\n",
       "  </thead>\n",
       "  <tbody>\n",
       "    <tr>\n",
       "      <th>0</th>\n",
       "      <td>Madden NFL 13</td>\n",
       "      <td>4024</td>\n",
       "      <td>2.11</td>\n",
       "      <td>0.23</td>\n",
       "      <td>0.00</td>\n",
       "      <td>0.23</td>\n",
       "      <td>PS3</td>\n",
       "    </tr>\n",
       "    <tr>\n",
       "      <th>1</th>\n",
       "      <td>Sonic the Hedgehog</td>\n",
       "      <td>2006</td>\n",
       "      <td>0.41</td>\n",
       "      <td>0.54</td>\n",
       "      <td>0.04</td>\n",
       "      <td>0.66</td>\n",
       "      <td>PS3</td>\n",
       "    </tr>\n",
       "  </tbody>\n",
       "</table>\n",
       "</div>"
      ],
      "text/plain": [
       "                 name  year_of_release  na_sales  eu_sales  jp_sales  \\\n",
       "0       Madden NFL 13             4024      2.11      0.23      0.00   \n",
       "1  Sonic the Hedgehog             2006      0.41      0.54      0.04   \n",
       "\n",
       "   other_sales platform  \n",
       "0         0.23      PS3  \n",
       "1         0.66      PS3  "
      ]
     },
     "execution_count": 102,
     "metadata": {},
     "output_type": "execute_result"
    }
   ],
   "source": [
    "#Объединим их, сложив значения\n",
    "duplicates_df = duplicates_df0.groupby('name').sum().reset_index()\n",
    "\n",
    "#Удалим столбцы 'critic_score' и 'user_score' они нам не будут нужны\n",
    "duplicates_df = duplicates_df.drop(['critic_score', 'user_score'], axis=1)\n",
    "\n",
    "#Добавим столбец 'platform'\n",
    "duplicates_df = duplicates_df.merge(duplicates_df0[['name','platform']], on='name').drop_duplicates().reset_index(drop=True)\n",
    "\n",
    "#Проверим результат\n",
    "duplicates_df"
   ]
  },
  {
   "cell_type": "markdown",
   "metadata": {},
   "source": [
    "Новый набор данных содержит нужную информацию, которую теперь нужно передать обратно в старый набор данных. Сперва удалим дубликаты, затем последнему оставшемуся (уже бывшему дубликату) передадим эти данные."
   ]
  },
  {
   "cell_type": "code",
   "execution_count": 103,
   "metadata": {},
   "outputs": [
    {
     "name": "stdout",
     "output_type": "stream",
     "text": [
      "<class 'pandas.core.frame.DataFrame'>\n",
      "RangeIndex: 16711 entries, 0 to 16710\n",
      "Data columns (total 11 columns):\n",
      " #   Column           Non-Null Count  Dtype  \n",
      "---  ------           --------------  -----  \n",
      " 0   name             16711 non-null  object \n",
      " 1   platform         16711 non-null  object \n",
      " 2   year_of_release  16443 non-null  Int64  \n",
      " 3   genre            16711 non-null  object \n",
      " 4   na_sales         16711 non-null  float64\n",
      " 5   eu_sales         16711 non-null  float64\n",
      " 6   jp_sales         16711 non-null  float64\n",
      " 7   other_sales      16711 non-null  float64\n",
      " 8   critic_score     8135 non-null   Int64  \n",
      " 9   user_score       7588 non-null   Int64  \n",
      " 10  rating           16711 non-null  object \n",
      "dtypes: Int64(3), float64(4), object(4)\n",
      "memory usage: 1.5+ MB\n"
     ]
    }
   ],
   "source": [
    "#Удалим дубликаты в искомом наборе данных. Разумеется, одна строка останется\n",
    "df = df.drop_duplicates(subset=['name', 'platform']).reset_index(drop=True)\n",
    "\n",
    "#Проверим результат\n",
    "df.info()"
   ]
  },
  {
   "cell_type": "code",
   "execution_count": 104,
   "metadata": {},
   "outputs": [],
   "source": [
    "#Передадим строкам бывших дубликатов в искомом наборе данных значения из нового набора данных\n",
    "def pass_value(column, n):\n",
    "    p = duplicates_df[duplicates_df['name'] == n]['platform']\n",
    "    p\n",
    "    df.loc[\n",
    "        (df['name'] == n) & (df['platform'] == duplicates_df[duplicates_df['name'] == n]['platform'].values[0]), \n",
    "        column] = duplicates_df[duplicates_df['name'] == name][column].values[0]\n",
    "\n",
    "#Вызовем функцию для каджого столбца и каждой игры\n",
    "for name in duplicates_df['name'].unique():\n",
    "    pass_value('na_sales', name)\n",
    "    pass_value('eu_sales', name)\n",
    "    pass_value('jp_sales', name)\n",
    "    pass_value('other_sales', name)"
   ]
  },
  {
   "cell_type": "code",
   "execution_count": 105,
   "metadata": {},
   "outputs": [
    {
     "data": {
      "text/html": [
       "<div>\n",
       "<style scoped>\n",
       "    .dataframe tbody tr th:only-of-type {\n",
       "        vertical-align: middle;\n",
       "    }\n",
       "\n",
       "    .dataframe tbody tr th {\n",
       "        vertical-align: top;\n",
       "    }\n",
       "\n",
       "    .dataframe thead th {\n",
       "        text-align: right;\n",
       "    }\n",
       "</style>\n",
       "<table border=\"1\" class=\"dataframe\">\n",
       "  <thead>\n",
       "    <tr style=\"text-align: right;\">\n",
       "      <th></th>\n",
       "      <th>name</th>\n",
       "      <th>platform</th>\n",
       "      <th>year_of_release</th>\n",
       "      <th>genre</th>\n",
       "      <th>na_sales</th>\n",
       "      <th>eu_sales</th>\n",
       "      <th>jp_sales</th>\n",
       "      <th>other_sales</th>\n",
       "      <th>critic_score</th>\n",
       "      <th>user_score</th>\n",
       "      <th>rating</th>\n",
       "    </tr>\n",
       "  </thead>\n",
       "  <tbody>\n",
       "    <tr>\n",
       "      <th>507</th>\n",
       "      <td>Madden NFL 13</td>\n",
       "      <td>X360</td>\n",
       "      <td>2012</td>\n",
       "      <td>Sports</td>\n",
       "      <td>2.53</td>\n",
       "      <td>0.15</td>\n",
       "      <td>0.0</td>\n",
       "      <td>0.17</td>\n",
       "      <td>81</td>\n",
       "      <td>58</td>\n",
       "      <td>E</td>\n",
       "    </tr>\n",
       "    <tr>\n",
       "      <th>604</th>\n",
       "      <td>Madden NFL 13</td>\n",
       "      <td>PS3</td>\n",
       "      <td>2012</td>\n",
       "      <td>Sports</td>\n",
       "      <td>2.11</td>\n",
       "      <td>0.23</td>\n",
       "      <td>0.0</td>\n",
       "      <td>0.23</td>\n",
       "      <td>83</td>\n",
       "      <td>55</td>\n",
       "      <td>E</td>\n",
       "    </tr>\n",
       "    <tr>\n",
       "      <th>3985</th>\n",
       "      <td>Madden NFL 13</td>\n",
       "      <td>Wii</td>\n",
       "      <td>2012</td>\n",
       "      <td>Sports</td>\n",
       "      <td>0.47</td>\n",
       "      <td>0.00</td>\n",
       "      <td>0.0</td>\n",
       "      <td>0.03</td>\n",
       "      <td>&lt;NA&gt;</td>\n",
       "      <td>73</td>\n",
       "      <td>E</td>\n",
       "    </tr>\n",
       "    <tr>\n",
       "      <th>5885</th>\n",
       "      <td>Madden NFL 13</td>\n",
       "      <td>PSV</td>\n",
       "      <td>2012</td>\n",
       "      <td>Sports</td>\n",
       "      <td>0.28</td>\n",
       "      <td>0.00</td>\n",
       "      <td>0.0</td>\n",
       "      <td>0.02</td>\n",
       "      <td>63</td>\n",
       "      <td>73</td>\n",
       "      <td>E</td>\n",
       "    </tr>\n",
       "    <tr>\n",
       "      <th>7064</th>\n",
       "      <td>Madden NFL 13</td>\n",
       "      <td>WiiU</td>\n",
       "      <td>2012</td>\n",
       "      <td>Sports</td>\n",
       "      <td>0.21</td>\n",
       "      <td>0.00</td>\n",
       "      <td>0.0</td>\n",
       "      <td>0.02</td>\n",
       "      <td>75</td>\n",
       "      <td>67</td>\n",
       "      <td>E</td>\n",
       "    </tr>\n",
       "  </tbody>\n",
       "</table>\n",
       "</div>"
      ],
      "text/plain": [
       "               name platform  year_of_release   genre  na_sales  eu_sales  \\\n",
       "507   Madden NFL 13     X360             2012  Sports      2.53      0.15   \n",
       "604   Madden NFL 13      PS3             2012  Sports      2.11      0.23   \n",
       "3985  Madden NFL 13      Wii             2012  Sports      0.47      0.00   \n",
       "5885  Madden NFL 13      PSV             2012  Sports      0.28      0.00   \n",
       "7064  Madden NFL 13     WiiU             2012  Sports      0.21      0.00   \n",
       "\n",
       "      jp_sales  other_sales  critic_score  user_score rating  \n",
       "507        0.0         0.17            81          58      E  \n",
       "604        0.0         0.23            83          55      E  \n",
       "3985       0.0         0.03          <NA>          73      E  \n",
       "5885       0.0         0.02            63          73      E  \n",
       "7064       0.0         0.02            75          67      E  "
      ]
     },
     "execution_count": 105,
     "metadata": {},
     "output_type": "execute_result"
    }
   ],
   "source": [
    "#Проверим результат для каждой игры. Первую\n",
    "df[df['name'] == 'Madden NFL 13']"
   ]
  },
  {
   "cell_type": "code",
   "execution_count": 106,
   "metadata": {
    "scrolled": true
   },
   "outputs": [
    {
     "data": {
      "text/html": [
       "<div>\n",
       "<style scoped>\n",
       "    .dataframe tbody tr th:only-of-type {\n",
       "        vertical-align: middle;\n",
       "    }\n",
       "\n",
       "    .dataframe tbody tr th {\n",
       "        vertical-align: top;\n",
       "    }\n",
       "\n",
       "    .dataframe thead th {\n",
       "        text-align: right;\n",
       "    }\n",
       "</style>\n",
       "<table border=\"1\" class=\"dataframe\">\n",
       "  <thead>\n",
       "    <tr style=\"text-align: right;\">\n",
       "      <th></th>\n",
       "      <th>name</th>\n",
       "      <th>platform</th>\n",
       "      <th>year_of_release</th>\n",
       "      <th>genre</th>\n",
       "      <th>na_sales</th>\n",
       "      <th>eu_sales</th>\n",
       "      <th>jp_sales</th>\n",
       "      <th>other_sales</th>\n",
       "      <th>critic_score</th>\n",
       "      <th>user_score</th>\n",
       "      <th>rating</th>\n",
       "    </tr>\n",
       "  </thead>\n",
       "  <tbody>\n",
       "    <tr>\n",
       "      <th>257</th>\n",
       "      <td>Sonic the Hedgehog</td>\n",
       "      <td>GEN</td>\n",
       "      <td>1991</td>\n",
       "      <td>Platform</td>\n",
       "      <td>3.03</td>\n",
       "      <td>0.91</td>\n",
       "      <td>0.26</td>\n",
       "      <td>0.13</td>\n",
       "      <td>&lt;NA&gt;</td>\n",
       "      <td>&lt;NA&gt;</td>\n",
       "      <td>Not</td>\n",
       "    </tr>\n",
       "    <tr>\n",
       "      <th>1744</th>\n",
       "      <td>Sonic the Hedgehog</td>\n",
       "      <td>PS3</td>\n",
       "      <td>2006</td>\n",
       "      <td>Platform</td>\n",
       "      <td>0.41</td>\n",
       "      <td>0.54</td>\n",
       "      <td>0.04</td>\n",
       "      <td>0.66</td>\n",
       "      <td>43</td>\n",
       "      <td>41</td>\n",
       "      <td>E10+</td>\n",
       "    </tr>\n",
       "    <tr>\n",
       "      <th>1995</th>\n",
       "      <td>Sonic the Hedgehog</td>\n",
       "      <td>X360</td>\n",
       "      <td>2006</td>\n",
       "      <td>Platform</td>\n",
       "      <td>0.44</td>\n",
       "      <td>0.48</td>\n",
       "      <td>0.00</td>\n",
       "      <td>0.11</td>\n",
       "      <td>46</td>\n",
       "      <td>44</td>\n",
       "      <td>E10+</td>\n",
       "    </tr>\n",
       "  </tbody>\n",
       "</table>\n",
       "</div>"
      ],
      "text/plain": [
       "                    name platform  year_of_release     genre  na_sales  \\\n",
       "257   Sonic the Hedgehog      GEN             1991  Platform      3.03   \n",
       "1744  Sonic the Hedgehog      PS3             2006  Platform      0.41   \n",
       "1995  Sonic the Hedgehog     X360             2006  Platform      0.44   \n",
       "\n",
       "      eu_sales  jp_sales  other_sales  critic_score  user_score rating  \n",
       "257       0.91      0.26         0.13          <NA>        <NA>    Not  \n",
       "1744      0.54      0.04         0.66            43          41   E10+  \n",
       "1995      0.48      0.00         0.11            46          44   E10+  "
      ]
     },
     "execution_count": 106,
     "metadata": {},
     "output_type": "execute_result"
    }
   ],
   "source": [
    "#И вторую\n",
    "df[df['name'] == 'Sonic the Hedgehog']"
   ]
  },
  {
   "cell_type": "markdown",
   "metadata": {},
   "source": [
    "### Вычисление общих продаж"
   ]
  },
  {
   "cell_type": "markdown",
   "metadata": {},
   "source": [
    "Вычислим у каждой игры общие продажи во всех регионах"
   ]
  },
  {
   "cell_type": "code",
   "execution_count": 107,
   "metadata": {},
   "outputs": [
    {
     "data": {
      "text/html": [
       "<div>\n",
       "<style scoped>\n",
       "    .dataframe tbody tr th:only-of-type {\n",
       "        vertical-align: middle;\n",
       "    }\n",
       "\n",
       "    .dataframe tbody tr th {\n",
       "        vertical-align: top;\n",
       "    }\n",
       "\n",
       "    .dataframe thead th {\n",
       "        text-align: right;\n",
       "    }\n",
       "</style>\n",
       "<table border=\"1\" class=\"dataframe\">\n",
       "  <thead>\n",
       "    <tr style=\"text-align: right;\">\n",
       "      <th></th>\n",
       "      <th>name</th>\n",
       "      <th>platform</th>\n",
       "      <th>year_of_release</th>\n",
       "      <th>genre</th>\n",
       "      <th>na_sales</th>\n",
       "      <th>eu_sales</th>\n",
       "      <th>jp_sales</th>\n",
       "      <th>other_sales</th>\n",
       "      <th>critic_score</th>\n",
       "      <th>user_score</th>\n",
       "      <th>rating</th>\n",
       "      <th>common_sales</th>\n",
       "    </tr>\n",
       "  </thead>\n",
       "  <tbody>\n",
       "    <tr>\n",
       "      <th>15425</th>\n",
       "      <td>Toki no Kizuna: Hanayui Tsuzuri</td>\n",
       "      <td>PSP</td>\n",
       "      <td>2013</td>\n",
       "      <td>Adventure</td>\n",
       "      <td>0.00</td>\n",
       "      <td>0.00</td>\n",
       "      <td>0.02</td>\n",
       "      <td>0.00</td>\n",
       "      <td>&lt;NA&gt;</td>\n",
       "      <td>&lt;NA&gt;</td>\n",
       "      <td>Not</td>\n",
       "      <td>0.02</td>\n",
       "    </tr>\n",
       "    <tr>\n",
       "      <th>6899</th>\n",
       "      <td>Midway Arcade Treasures: Extended Play</td>\n",
       "      <td>PSP</td>\n",
       "      <td>2005</td>\n",
       "      <td>Misc</td>\n",
       "      <td>0.21</td>\n",
       "      <td>0.00</td>\n",
       "      <td>0.00</td>\n",
       "      <td>0.02</td>\n",
       "      <td>63</td>\n",
       "      <td>78</td>\n",
       "      <td>M</td>\n",
       "      <td>0.23</td>\n",
       "    </tr>\n",
       "    <tr>\n",
       "      <th>2043</th>\n",
       "      <td>Ace Combat 6: Fires of Liberation</td>\n",
       "      <td>X360</td>\n",
       "      <td>2007</td>\n",
       "      <td>Simulation</td>\n",
       "      <td>0.69</td>\n",
       "      <td>0.04</td>\n",
       "      <td>0.22</td>\n",
       "      <td>0.06</td>\n",
       "      <td>80</td>\n",
       "      <td>79</td>\n",
       "      <td>T</td>\n",
       "      <td>1.01</td>\n",
       "    </tr>\n",
       "    <tr>\n",
       "      <th>11561</th>\n",
       "      <td>Yuu Yuu Hakusho: Makyo Toitsusen</td>\n",
       "      <td>GEN</td>\n",
       "      <td>1994</td>\n",
       "      <td>Fighting</td>\n",
       "      <td>0.00</td>\n",
       "      <td>0.00</td>\n",
       "      <td>0.08</td>\n",
       "      <td>0.00</td>\n",
       "      <td>&lt;NA&gt;</td>\n",
       "      <td>&lt;NA&gt;</td>\n",
       "      <td>Not</td>\n",
       "      <td>0.08</td>\n",
       "    </tr>\n",
       "    <tr>\n",
       "      <th>14456</th>\n",
       "      <td>Shin Koihime Musou: Otome Ryouran * Sangokushi...</td>\n",
       "      <td>PSP</td>\n",
       "      <td>2010</td>\n",
       "      <td>Adventure</td>\n",
       "      <td>0.00</td>\n",
       "      <td>0.00</td>\n",
       "      <td>0.03</td>\n",
       "      <td>0.00</td>\n",
       "      <td>&lt;NA&gt;</td>\n",
       "      <td>&lt;NA&gt;</td>\n",
       "      <td>Not</td>\n",
       "      <td>0.03</td>\n",
       "    </tr>\n",
       "  </tbody>\n",
       "</table>\n",
       "</div>"
      ],
      "text/plain": [
       "                                                    name platform  \\\n",
       "15425                    Toki no Kizuna: Hanayui Tsuzuri      PSP   \n",
       "6899              Midway Arcade Treasures: Extended Play      PSP   \n",
       "2043                   Ace Combat 6: Fires of Liberation     X360   \n",
       "11561                   Yuu Yuu Hakusho: Makyo Toitsusen      GEN   \n",
       "14456  Shin Koihime Musou: Otome Ryouran * Sangokushi...      PSP   \n",
       "\n",
       "       year_of_release       genre  na_sales  eu_sales  jp_sales  other_sales  \\\n",
       "15425             2013   Adventure      0.00      0.00      0.02         0.00   \n",
       "6899              2005        Misc      0.21      0.00      0.00         0.02   \n",
       "2043              2007  Simulation      0.69      0.04      0.22         0.06   \n",
       "11561             1994    Fighting      0.00      0.00      0.08         0.00   \n",
       "14456             2010   Adventure      0.00      0.00      0.03         0.00   \n",
       "\n",
       "       critic_score  user_score rating  common_sales  \n",
       "15425          <NA>        <NA>    Not          0.02  \n",
       "6899             63          78      M          0.23  \n",
       "2043             80          79      T          1.01  \n",
       "11561          <NA>        <NA>    Not          0.08  \n",
       "14456          <NA>        <NA>    Not          0.03  "
      ]
     },
     "execution_count": 107,
     "metadata": {},
     "output_type": "execute_result"
    }
   ],
   "source": [
    "df['common_sales'] = df['na_sales'] + df['eu_sales'] + df['jp_sales'] + df['other_sales']\n",
    "df.sample(5)"
   ]
  },
  {
   "cell_type": "markdown",
   "metadata": {},
   "source": [
    "Мы выполнили предобработку данных: заменили названия столбцов, преобразовали столбцы к нужным типам, обработали пропуски и вычислили сумму продаж в регионах по играм.\n",
    "\n",
    "К сожалению некоторые проблемы не были решены в рамках этого проекта: не полностью заполнены некоторые пропуски и есть вероятность существования дубликатов всвязи с замусоренностью имен игр версиями."
   ]
  },
  {
   "cell_type": "markdown",
   "metadata": {},
   "source": [
    "## Исследовательский анализ данных"
   ]
  },
  {
   "cell_type": "markdown",
   "metadata": {},
   "source": [
    "Посмотрим, сколько игр выпускалось в разные годы"
   ]
  },
  {
   "cell_type": "code",
   "execution_count": 108,
   "metadata": {},
   "outputs": [
    {
     "data": {
      "text/plain": [
       "Text(0, 0.5, 'count')"
      ]
     },
     "execution_count": 108,
     "metadata": {},
     "output_type": "execute_result"
    },
    {
     "data": {
      "image/png": "[encoded data removed]",
      "text/plain": [
       "<Figure size 432x288 with 1 Axes>"
      ]
     },
     "metadata": {
      "needs_background": "light"
     },
     "output_type": "display_data"
    }
   ],
   "source": [
    "#Построим гистограмму года релиза игр, сразу подберем число корзин\n",
    "df['year_of_release'].hist(bins=37)\n",
    "#Зададим название гистограммы, вертикальной и горизонтальной шкалы\n",
    "plt.title('histogram of year')\n",
    "plt.xlabel('year')\n",
    "plt.ylabel('count')"
   ]
  },
  {
   "cell_type": "markdown",
   "metadata": {},
   "source": [
    "С 1980 до 1993 игры выходили не так часто, но затем началось активное развитие индустрии с пиком в 2008-2009 годах. В начале десятых годов число продаж упало на половину и колеблются примерно в тех значениях до конца периода сбора данных."
   ]
  },
  {
   "cell_type": "markdown",
   "metadata": {},
   "source": [
    "Изучим как менялись продажи по платформам. "
   ]
  },
  {
   "cell_type": "code",
   "execution_count": 109,
   "metadata": {},
   "outputs": [
    {
     "data": {
      "text/plain": [
       "<AxesSubplot:xlabel='platform', ylabel='year_of_release'>"
      ]
     },
     "execution_count": 109,
     "metadata": {},
     "output_type": "execute_result"
    },
    {
     "data": {
      "image/png": "[encoded data removed]",
      "text/plain": [
       "<Figure size 432x288 with 1 Axes>"
      ]
     },
     "metadata": {
      "needs_background": "light"
     },
     "output_type": "display_data"
    }
   ],
   "source": [
    "#Визуализируем пересечение платформы и года, чтобы оценить, как распределены игры разных платформ по времени\n",
    "df.plot(x='platform', y='year_of_release', kind = 'scatter', rot=90) "
   ]
  },
  {
   "cell_type": "markdown",
   "metadata": {},
   "source": [
    "Похоже, что в 1985 году есть выброс у платформы DS. Это ошибка в данных. Напечатаем ее"
   ]
  },
  {
   "cell_type": "code",
   "execution_count": 110,
   "metadata": {},
   "outputs": [
    {
     "data": {
      "text/html": [
       "<div>\n",
       "<style scoped>\n",
       "    .dataframe tbody tr th:only-of-type {\n",
       "        vertical-align: middle;\n",
       "    }\n",
       "\n",
       "    .dataframe tbody tr th {\n",
       "        vertical-align: top;\n",
       "    }\n",
       "\n",
       "    .dataframe thead th {\n",
       "        text-align: right;\n",
       "    }\n",
       "</style>\n",
       "<table border=\"1\" class=\"dataframe\">\n",
       "  <thead>\n",
       "    <tr style=\"text-align: right;\">\n",
       "      <th></th>\n",
       "      <th>name</th>\n",
       "      <th>platform</th>\n",
       "      <th>year_of_release</th>\n",
       "      <th>genre</th>\n",
       "      <th>na_sales</th>\n",
       "      <th>eu_sales</th>\n",
       "      <th>jp_sales</th>\n",
       "      <th>other_sales</th>\n",
       "      <th>critic_score</th>\n",
       "      <th>user_score</th>\n",
       "      <th>rating</th>\n",
       "      <th>common_sales</th>\n",
       "    </tr>\n",
       "  </thead>\n",
       "  <tbody>\n",
       "    <tr>\n",
       "      <th>15954</th>\n",
       "      <td>Strongest Tokyo University Shogi DS</td>\n",
       "      <td>DS</td>\n",
       "      <td>1985</td>\n",
       "      <td>Action</td>\n",
       "      <td>0.0</td>\n",
       "      <td>0.0</td>\n",
       "      <td>0.02</td>\n",
       "      <td>0.0</td>\n",
       "      <td>&lt;NA&gt;</td>\n",
       "      <td>&lt;NA&gt;</td>\n",
       "      <td>Not</td>\n",
       "      <td>0.02</td>\n",
       "    </tr>\n",
       "  </tbody>\n",
       "</table>\n",
       "</div>"
      ],
      "text/plain": [
       "                                      name platform  year_of_release   genre  \\\n",
       "15954  Strongest Tokyo University Shogi DS       DS             1985  Action   \n",
       "\n",
       "       na_sales  eu_sales  jp_sales  other_sales  critic_score  user_score  \\\n",
       "15954       0.0       0.0      0.02          0.0          <NA>        <NA>   \n",
       "\n",
       "      rating  common_sales  \n",
       "15954    Not          0.02  "
      ]
     },
     "execution_count": 110,
     "metadata": {},
     "output_type": "execute_result"
    }
   ],
   "source": [
    "#Выведем на экран этот выброс\n",
    "df[(df['platform'] == 'DS') & (df['year_of_release'] < 2000)]"
   ]
  },
  {
   "cell_type": "markdown",
   "metadata": {},
   "source": [
    "Судя по всему, это прошедший в Японии турнир по сеги, либо компьютерная игра от учащихся токийского университета, в любом случае Nintendo DS вышла 21 ноября 2004 года, и эта игра не может к относиться к этой платформе. Удалим эту строку."
   ]
  },
  {
   "cell_type": "code",
   "execution_count": 111,
   "metadata": {
    "scrolled": true
   },
   "outputs": [
    {
     "data": {
      "text/html": [
       "<div>\n",
       "<style scoped>\n",
       "    .dataframe tbody tr th:only-of-type {\n",
       "        vertical-align: middle;\n",
       "    }\n",
       "\n",
       "    .dataframe tbody tr th {\n",
       "        vertical-align: top;\n",
       "    }\n",
       "\n",
       "    .dataframe thead th {\n",
       "        text-align: right;\n",
       "    }\n",
       "</style>\n",
       "<table border=\"1\" class=\"dataframe\">\n",
       "  <thead>\n",
       "    <tr style=\"text-align: right;\">\n",
       "      <th></th>\n",
       "      <th>name</th>\n",
       "      <th>platform</th>\n",
       "      <th>year_of_release</th>\n",
       "      <th>genre</th>\n",
       "      <th>na_sales</th>\n",
       "      <th>eu_sales</th>\n",
       "      <th>jp_sales</th>\n",
       "      <th>other_sales</th>\n",
       "      <th>critic_score</th>\n",
       "      <th>user_score</th>\n",
       "      <th>rating</th>\n",
       "      <th>common_sales</th>\n",
       "    </tr>\n",
       "  </thead>\n",
       "  <tbody>\n",
       "  </tbody>\n",
       "</table>\n",
       "</div>"
      ],
      "text/plain": [
       "Empty DataFrame\n",
       "Columns: [name, platform, year_of_release, genre, na_sales, eu_sales, jp_sales, other_sales, critic_score, user_score, rating, common_sales]\n",
       "Index: []"
      ]
     },
     "execution_count": 111,
     "metadata": {},
     "output_type": "execute_result"
    }
   ],
   "source": [
    "#Удалим эту строку и проверим результат\n",
    "df = df.drop(df[(df['platform'] == 'DS') & (df['year_of_release'] < 2000)].index).reset_index(drop=True)\n",
    "df[(df['platform'] == 'DS') & (df['year_of_release'] < 2000)]"
   ]
  },
  {
   "cell_type": "markdown",
   "metadata": {},
   "source": [
    "Многие платформы находились на рынке совсем не долго, некоторые наверняка все-таки смогли отбить затраты на себя и успели порадовать пользователей. А некоторые актуальны до сих пор (на момент окончания сбора данных)."
   ]
  },
  {
   "cell_type": "code",
   "execution_count": 112,
   "metadata": {},
   "outputs": [
    {
     "data": {
      "text/plain": [
       "Text(0.5, 0, 'platform')"
      ]
     },
     "execution_count": 112,
     "metadata": {},
     "output_type": "execute_result"
    },
    {
     "data": {
      "image/png": "[encoded data removed]",
      "text/plain": [
       "<Figure size 432x288 with 1 Axes>"
      ]
     },
     "metadata": {
      "needs_background": "light"
     },
     "output_type": "display_data"
    }
   ],
   "source": [
    "#Посмотрим, какие платформы были наиболее популярны среди разработчиков игр\n",
    "plt.hist(df['platform'], density=True, bins=30)\n",
    "plt.title('histogram of platform')\n",
    "plt.xticks(rotation='vertical')\n",
    "plt.ylabel('count')\n",
    "plt.xlabel('platform')"
   ]
  },
  {
   "cell_type": "code",
   "execution_count": 113,
   "metadata": {},
   "outputs": [
    {
     "data": {
      "text/plain": [
       "<AxesSubplot:xlabel='platform', ylabel='common_sales'>"
      ]
     },
     "execution_count": 113,
     "metadata": {},
     "output_type": "execute_result"
    },
    {
     "data": {
      "image/png": "[encoded data removed]",
      "text/plain": [
       "<Figure size 432x288 with 1 Axes>"
      ]
     },
     "metadata": {
      "needs_background": "light"
     },
     "output_type": "display_data"
    }
   ],
   "source": [
    "#Визуализируем график пересечения платформ и количества продаж\n",
    "df.plot(x='platform', y='common_sales', kind='scatter', rot=90) "
   ]
  },
  {
   "cell_type": "markdown",
   "metadata": {},
   "source": [
    "Wii был очень популярен в определенном году, это не значит, что он в целом был популярнее остальных платформ. Чтобы посмотреть общую популярность платформ, подойдем к визуализации иначе."
   ]
  },
  {
   "cell_type": "code",
   "execution_count": 114,
   "metadata": {},
   "outputs": [
    {
     "data": {
      "text/html": [
       "<div>\n",
       "<style scoped>\n",
       "    .dataframe tbody tr th:only-of-type {\n",
       "        vertical-align: middle;\n",
       "    }\n",
       "\n",
       "    .dataframe tbody tr th {\n",
       "        vertical-align: top;\n",
       "    }\n",
       "\n",
       "    .dataframe thead th {\n",
       "        text-align: right;\n",
       "    }\n",
       "</style>\n",
       "<table border=\"1\" class=\"dataframe\">\n",
       "  <thead>\n",
       "    <tr style=\"text-align: right;\">\n",
       "      <th></th>\n",
       "      <th>platform</th>\n",
       "      <th>common_sales</th>\n",
       "    </tr>\n",
       "  </thead>\n",
       "  <tbody>\n",
       "    <tr>\n",
       "      <th>0</th>\n",
       "      <td>PS2</td>\n",
       "      <td>1255.77</td>\n",
       "    </tr>\n",
       "    <tr>\n",
       "      <th>1</th>\n",
       "      <td>X360</td>\n",
       "      <td>971.42</td>\n",
       "    </tr>\n",
       "    <tr>\n",
       "      <th>2</th>\n",
       "      <td>PS3</td>\n",
       "      <td>939.65</td>\n",
       "    </tr>\n",
       "    <tr>\n",
       "      <th>3</th>\n",
       "      <td>Wii</td>\n",
       "      <td>907.51</td>\n",
       "    </tr>\n",
       "    <tr>\n",
       "      <th>4</th>\n",
       "      <td>DS</td>\n",
       "      <td>806.10</td>\n",
       "    </tr>\n",
       "    <tr>\n",
       "      <th>5</th>\n",
       "      <td>PS</td>\n",
       "      <td>730.86</td>\n",
       "    </tr>\n",
       "    <tr>\n",
       "      <th>6</th>\n",
       "      <td>GBA</td>\n",
       "      <td>317.85</td>\n",
       "    </tr>\n",
       "    <tr>\n",
       "      <th>7</th>\n",
       "      <td>PS4</td>\n",
       "      <td>314.14</td>\n",
       "    </tr>\n",
       "    <tr>\n",
       "      <th>8</th>\n",
       "      <td>PSP</td>\n",
       "      <td>294.05</td>\n",
       "    </tr>\n",
       "    <tr>\n",
       "      <th>9</th>\n",
       "      <td>PC</td>\n",
       "      <td>259.52</td>\n",
       "    </tr>\n",
       "    <tr>\n",
       "      <th>10</th>\n",
       "      <td>3DS</td>\n",
       "      <td>259.00</td>\n",
       "    </tr>\n",
       "    <tr>\n",
       "      <th>11</th>\n",
       "      <td>XB</td>\n",
       "      <td>257.74</td>\n",
       "    </tr>\n",
       "    <tr>\n",
       "      <th>12</th>\n",
       "      <td>GB</td>\n",
       "      <td>255.46</td>\n",
       "    </tr>\n",
       "    <tr>\n",
       "      <th>13</th>\n",
       "      <td>NES</td>\n",
       "      <td>251.05</td>\n",
       "    </tr>\n",
       "    <tr>\n",
       "      <th>14</th>\n",
       "      <td>N64</td>\n",
       "      <td>218.68</td>\n",
       "    </tr>\n",
       "    <tr>\n",
       "      <th>15</th>\n",
       "      <td>SNES</td>\n",
       "      <td>200.04</td>\n",
       "    </tr>\n",
       "    <tr>\n",
       "      <th>16</th>\n",
       "      <td>GC</td>\n",
       "      <td>198.93</td>\n",
       "    </tr>\n",
       "    <tr>\n",
       "      <th>17</th>\n",
       "      <td>XOne</td>\n",
       "      <td>159.32</td>\n",
       "    </tr>\n",
       "    <tr>\n",
       "      <th>18</th>\n",
       "      <td>2600</td>\n",
       "      <td>96.98</td>\n",
       "    </tr>\n",
       "    <tr>\n",
       "      <th>19</th>\n",
       "      <td>WiiU</td>\n",
       "      <td>82.19</td>\n",
       "    </tr>\n",
       "    <tr>\n",
       "      <th>20</th>\n",
       "      <td>PSV</td>\n",
       "      <td>54.07</td>\n",
       "    </tr>\n",
       "    <tr>\n",
       "      <th>21</th>\n",
       "      <td>SAT</td>\n",
       "      <td>33.59</td>\n",
       "    </tr>\n",
       "    <tr>\n",
       "      <th>22</th>\n",
       "      <td>GEN</td>\n",
       "      <td>28.35</td>\n",
       "    </tr>\n",
       "    <tr>\n",
       "      <th>23</th>\n",
       "      <td>DC</td>\n",
       "      <td>15.95</td>\n",
       "    </tr>\n",
       "    <tr>\n",
       "      <th>24</th>\n",
       "      <td>SCD</td>\n",
       "      <td>1.86</td>\n",
       "    </tr>\n",
       "    <tr>\n",
       "      <th>25</th>\n",
       "      <td>NG</td>\n",
       "      <td>1.44</td>\n",
       "    </tr>\n",
       "    <tr>\n",
       "      <th>26</th>\n",
       "      <td>WS</td>\n",
       "      <td>1.42</td>\n",
       "    </tr>\n",
       "    <tr>\n",
       "      <th>27</th>\n",
       "      <td>TG16</td>\n",
       "      <td>0.16</td>\n",
       "    </tr>\n",
       "    <tr>\n",
       "      <th>28</th>\n",
       "      <td>3DO</td>\n",
       "      <td>0.10</td>\n",
       "    </tr>\n",
       "    <tr>\n",
       "      <th>29</th>\n",
       "      <td>GG</td>\n",
       "      <td>0.04</td>\n",
       "    </tr>\n",
       "    <tr>\n",
       "      <th>30</th>\n",
       "      <td>PCFX</td>\n",
       "      <td>0.03</td>\n",
       "    </tr>\n",
       "  </tbody>\n",
       "</table>\n",
       "</div>"
      ],
      "text/plain": [
       "   platform  common_sales\n",
       "0       PS2       1255.77\n",
       "1      X360        971.42\n",
       "2       PS3        939.65\n",
       "3       Wii        907.51\n",
       "4        DS        806.10\n",
       "5        PS        730.86\n",
       "6       GBA        317.85\n",
       "7       PS4        314.14\n",
       "8       PSP        294.05\n",
       "9        PC        259.52\n",
       "10      3DS        259.00\n",
       "11       XB        257.74\n",
       "12       GB        255.46\n",
       "13      NES        251.05\n",
       "14      N64        218.68\n",
       "15     SNES        200.04\n",
       "16       GC        198.93\n",
       "17     XOne        159.32\n",
       "18     2600         96.98\n",
       "19     WiiU         82.19\n",
       "20      PSV         54.07\n",
       "21      SAT         33.59\n",
       "22      GEN         28.35\n",
       "23       DC         15.95\n",
       "24      SCD          1.86\n",
       "25       NG          1.44\n",
       "26       WS          1.42\n",
       "27     TG16          0.16\n",
       "28      3DO          0.10\n",
       "29       GG          0.04\n",
       "30     PCFX          0.03"
      ]
     },
     "execution_count": 114,
     "metadata": {},
     "output_type": "execute_result"
    }
   ],
   "source": [
    "#Выведем сводную таблицу с платформами и суммой продаж за все время. Отсортируем ее\n",
    "df_pivot = df.pivot_table(index=['platform'], values='common_sales', aggfunc='sum').sort_values(by='common_sales', ascending=False)\n",
    "\n",
    "#Сбросим индекс и посмотрим на результат\n",
    "df_pivot.reset_index(inplace = True)\n",
    "df_pivot"
   ]
  },
  {
   "cell_type": "code",
   "execution_count": 115,
   "metadata": {},
   "outputs": [
    {
     "data": {
      "text/plain": [
       "<AxesSubplot:xlabel='platform'>"
      ]
     },
     "execution_count": 115,
     "metadata": {},
     "output_type": "execute_result"
    },
    {
     "data": {
      "image/png": "[encoded data removed]",
      "text/plain": [
       "<Figure size 432x288 with 1 Axes>"
      ]
     },
     "metadata": {
      "needs_background": "light"
     },
     "output_type": "display_data"
    }
   ],
   "source": [
    "#Визуализируем полученную таблицу\n",
    "df_pivot.plot(x='platform', y='common_sales', kind='bar', rot=90) "
   ]
  },
  {
   "cell_type": "markdown",
   "metadata": {},
   "source": [
    "Из 31 платформы сильнее всего по популярности выделяются шестеро: "
   ]
  },
  {
   "cell_type": "code",
   "execution_count": 116,
   "metadata": {},
   "outputs": [
    {
     "name": "stdout",
     "output_type": "stream",
     "text": [
      "Наиболее популярные платформы: ['PS2' 'X360' 'PS3' 'Wii' 'DS' 'PS']\n"
     ]
    }
   ],
   "source": [
    "#Напечатаем 6 наиболее популярных платформ\n",
    "top_platforms = df_pivot['platform'].head(6).values\n",
    "print('Наиболее популярные платформы:', top_platforms)"
   ]
  },
  {
   "cell_type": "markdown",
   "metadata": {},
   "source": [
    "Выберем наиболее популярные платформы и построим распределение по годам."
   ]
  },
  {
   "cell_type": "code",
   "execution_count": 117,
   "metadata": {},
   "outputs": [
    {
     "data": {
      "text/plain": [
       "<AxesSubplot:xlabel='year_of_release', ylabel='Count'>"
      ]
     },
     "execution_count": 117,
     "metadata": {},
     "output_type": "execute_result"
    },
    {
     "data": {
      "image/png": "[encoded data removed]",
      "text/plain": [
       "<Figure size 720x720 with 1 Axes>"
      ]
     },
     "metadata": {
      "needs_background": "light"
     },
     "output_type": "display_data"
    }
   ],
   "source": [
    "#Построим отдельные гистограммы для каждой платформы\n",
    "plt.figure(figsize=(10,10))\n",
    "sns.histplot(df[df['platform'] == 'DS']['year_of_release'], element=\"poly\", color=\"purple\", alpha=0.1, bins=10)\n",
    "sns.histplot(df[df['platform'] == 'PS2']['year_of_release'], element=\"poly\", alpha=0.1, bins=12)\n",
    "sns.histplot(df[df['platform'] == 'Wii']['year_of_release'], element=\"poly\", color=\"red\", alpha=0.1, bins=11)\n",
    "sns.histplot(df[df['platform'] == 'PS']['year_of_release'], element=\"poly\", color=\"black\", alpha=0.1, bins=10)\n",
    "sns.histplot(df[df['platform'] == 'X360']['year_of_release'], element=\"poly\", color=\"yellow\", alpha=0.1, bins=11)\n",
    "sns.histplot(df[df['platform'] == 'PS3']['year_of_release'], element=\"poly\", color=\"green\", alpha=0.1, bins=12)"
   ]
  },
  {
   "cell_type": "markdown",
   "metadata": {},
   "source": [
    "Здесь мы видим распределение игр в зависимости от платформ по годам. Игры на платформе 'PS' были популярны с конца девятостых до начала нулевых, пока не появилась 'PS2'. Затем практически одновременно появляются другие платформы: 'DS', 'X360', 'PS3', 'Wii', которые сменяют друг друга, пока не остаются 'PS3' и 'X360'. Разумеется, они к настоящему времени тоже сдают позиции платформам, которых мы здесь не видим."
   ]
  },
  {
   "cell_type": "markdown",
   "metadata": {},
   "source": [
    "Посмотрим, за какой характерный срок появляются новые и исчезают старые платформы"
   ]
  },
  {
   "cell_type": "code",
   "execution_count": 118,
   "metadata": {},
   "outputs": [
    {
     "data": {
      "text/html": [
       "<div>\n",
       "<style scoped>\n",
       "    .dataframe tbody tr th:only-of-type {\n",
       "        vertical-align: middle;\n",
       "    }\n",
       "\n",
       "    .dataframe tbody tr th {\n",
       "        vertical-align: top;\n",
       "    }\n",
       "\n",
       "    .dataframe thead th {\n",
       "        text-align: right;\n",
       "    }\n",
       "</style>\n",
       "<table border=\"1\" class=\"dataframe\">\n",
       "  <thead>\n",
       "    <tr style=\"text-align: right;\">\n",
       "      <th></th>\n",
       "      <th>platform</th>\n",
       "      <th>max</th>\n",
       "      <th>min</th>\n",
       "      <th>delta</th>\n",
       "    </tr>\n",
       "  </thead>\n",
       "  <tbody>\n",
       "    <tr>\n",
       "      <th>0</th>\n",
       "      <td>2600</td>\n",
       "      <td>1989</td>\n",
       "      <td>1980</td>\n",
       "      <td>9</td>\n",
       "    </tr>\n",
       "    <tr>\n",
       "      <th>1</th>\n",
       "      <td>3DO</td>\n",
       "      <td>1995</td>\n",
       "      <td>1994</td>\n",
       "      <td>1</td>\n",
       "    </tr>\n",
       "    <tr>\n",
       "      <th>2</th>\n",
       "      <td>3DS</td>\n",
       "      <td>2016</td>\n",
       "      <td>2011</td>\n",
       "      <td>5</td>\n",
       "    </tr>\n",
       "    <tr>\n",
       "      <th>3</th>\n",
       "      <td>DC</td>\n",
       "      <td>2008</td>\n",
       "      <td>1998</td>\n",
       "      <td>10</td>\n",
       "    </tr>\n",
       "    <tr>\n",
       "      <th>4</th>\n",
       "      <td>DS</td>\n",
       "      <td>2013</td>\n",
       "      <td>2004</td>\n",
       "      <td>9</td>\n",
       "    </tr>\n",
       "    <tr>\n",
       "      <th>5</th>\n",
       "      <td>GB</td>\n",
       "      <td>2001</td>\n",
       "      <td>1988</td>\n",
       "      <td>13</td>\n",
       "    </tr>\n",
       "    <tr>\n",
       "      <th>6</th>\n",
       "      <td>GBA</td>\n",
       "      <td>2007</td>\n",
       "      <td>2000</td>\n",
       "      <td>7</td>\n",
       "    </tr>\n",
       "    <tr>\n",
       "      <th>7</th>\n",
       "      <td>GC</td>\n",
       "      <td>2007</td>\n",
       "      <td>2001</td>\n",
       "      <td>6</td>\n",
       "    </tr>\n",
       "    <tr>\n",
       "      <th>8</th>\n",
       "      <td>GEN</td>\n",
       "      <td>1994</td>\n",
       "      <td>1990</td>\n",
       "      <td>4</td>\n",
       "    </tr>\n",
       "    <tr>\n",
       "      <th>9</th>\n",
       "      <td>GG</td>\n",
       "      <td>1992</td>\n",
       "      <td>1992</td>\n",
       "      <td>0</td>\n",
       "    </tr>\n",
       "    <tr>\n",
       "      <th>10</th>\n",
       "      <td>N64</td>\n",
       "      <td>2002</td>\n",
       "      <td>1996</td>\n",
       "      <td>6</td>\n",
       "    </tr>\n",
       "    <tr>\n",
       "      <th>11</th>\n",
       "      <td>NES</td>\n",
       "      <td>1994</td>\n",
       "      <td>1983</td>\n",
       "      <td>11</td>\n",
       "    </tr>\n",
       "    <tr>\n",
       "      <th>12</th>\n",
       "      <td>NG</td>\n",
       "      <td>1996</td>\n",
       "      <td>1993</td>\n",
       "      <td>3</td>\n",
       "    </tr>\n",
       "    <tr>\n",
       "      <th>13</th>\n",
       "      <td>PC</td>\n",
       "      <td>2016</td>\n",
       "      <td>1985</td>\n",
       "      <td>31</td>\n",
       "    </tr>\n",
       "    <tr>\n",
       "      <th>14</th>\n",
       "      <td>PCFX</td>\n",
       "      <td>1996</td>\n",
       "      <td>1996</td>\n",
       "      <td>0</td>\n",
       "    </tr>\n",
       "    <tr>\n",
       "      <th>15</th>\n",
       "      <td>PS</td>\n",
       "      <td>2003</td>\n",
       "      <td>1994</td>\n",
       "      <td>9</td>\n",
       "    </tr>\n",
       "    <tr>\n",
       "      <th>16</th>\n",
       "      <td>PS2</td>\n",
       "      <td>2011</td>\n",
       "      <td>2000</td>\n",
       "      <td>11</td>\n",
       "    </tr>\n",
       "    <tr>\n",
       "      <th>17</th>\n",
       "      <td>PS3</td>\n",
       "      <td>2016</td>\n",
       "      <td>2006</td>\n",
       "      <td>10</td>\n",
       "    </tr>\n",
       "    <tr>\n",
       "      <th>18</th>\n",
       "      <td>PS4</td>\n",
       "      <td>2016</td>\n",
       "      <td>2013</td>\n",
       "      <td>3</td>\n",
       "    </tr>\n",
       "    <tr>\n",
       "      <th>19</th>\n",
       "      <td>PSP</td>\n",
       "      <td>2015</td>\n",
       "      <td>2004</td>\n",
       "      <td>11</td>\n",
       "    </tr>\n",
       "    <tr>\n",
       "      <th>20</th>\n",
       "      <td>PSV</td>\n",
       "      <td>2016</td>\n",
       "      <td>2011</td>\n",
       "      <td>5</td>\n",
       "    </tr>\n",
       "    <tr>\n",
       "      <th>21</th>\n",
       "      <td>SAT</td>\n",
       "      <td>1999</td>\n",
       "      <td>1994</td>\n",
       "      <td>5</td>\n",
       "    </tr>\n",
       "    <tr>\n",
       "      <th>22</th>\n",
       "      <td>SCD</td>\n",
       "      <td>1994</td>\n",
       "      <td>1993</td>\n",
       "      <td>1</td>\n",
       "    </tr>\n",
       "    <tr>\n",
       "      <th>23</th>\n",
       "      <td>SNES</td>\n",
       "      <td>1999</td>\n",
       "      <td>1990</td>\n",
       "      <td>9</td>\n",
       "    </tr>\n",
       "    <tr>\n",
       "      <th>24</th>\n",
       "      <td>TG16</td>\n",
       "      <td>1995</td>\n",
       "      <td>1995</td>\n",
       "      <td>0</td>\n",
       "    </tr>\n",
       "    <tr>\n",
       "      <th>25</th>\n",
       "      <td>WS</td>\n",
       "      <td>2001</td>\n",
       "      <td>1999</td>\n",
       "      <td>2</td>\n",
       "    </tr>\n",
       "    <tr>\n",
       "      <th>26</th>\n",
       "      <td>Wii</td>\n",
       "      <td>2016</td>\n",
       "      <td>2006</td>\n",
       "      <td>10</td>\n",
       "    </tr>\n",
       "    <tr>\n",
       "      <th>27</th>\n",
       "      <td>WiiU</td>\n",
       "      <td>2016</td>\n",
       "      <td>2012</td>\n",
       "      <td>4</td>\n",
       "    </tr>\n",
       "    <tr>\n",
       "      <th>28</th>\n",
       "      <td>X360</td>\n",
       "      <td>2016</td>\n",
       "      <td>2005</td>\n",
       "      <td>11</td>\n",
       "    </tr>\n",
       "    <tr>\n",
       "      <th>29</th>\n",
       "      <td>XB</td>\n",
       "      <td>2008</td>\n",
       "      <td>2000</td>\n",
       "      <td>8</td>\n",
       "    </tr>\n",
       "    <tr>\n",
       "      <th>30</th>\n",
       "      <td>XOne</td>\n",
       "      <td>2016</td>\n",
       "      <td>2013</td>\n",
       "      <td>3</td>\n",
       "    </tr>\n",
       "  </tbody>\n",
       "</table>\n",
       "</div>"
      ],
      "text/plain": [
       "   platform   max   min delta\n",
       "0      2600  1989  1980     9\n",
       "1       3DO  1995  1994     1\n",
       "2       3DS  2016  2011     5\n",
       "3        DC  2008  1998    10\n",
       "4        DS  2013  2004     9\n",
       "5        GB  2001  1988    13\n",
       "6       GBA  2007  2000     7\n",
       "7        GC  2007  2001     6\n",
       "8       GEN  1994  1990     4\n",
       "9        GG  1992  1992     0\n",
       "10      N64  2002  1996     6\n",
       "11      NES  1994  1983    11\n",
       "12       NG  1996  1993     3\n",
       "13       PC  2016  1985    31\n",
       "14     PCFX  1996  1996     0\n",
       "15       PS  2003  1994     9\n",
       "16      PS2  2011  2000    11\n",
       "17      PS3  2016  2006    10\n",
       "18      PS4  2016  2013     3\n",
       "19      PSP  2015  2004    11\n",
       "20      PSV  2016  2011     5\n",
       "21      SAT  1999  1994     5\n",
       "22      SCD  1994  1993     1\n",
       "23     SNES  1999  1990     9\n",
       "24     TG16  1995  1995     0\n",
       "25       WS  2001  1999     2\n",
       "26      Wii  2016  2006    10\n",
       "27     WiiU  2016  2012     4\n",
       "28     X360  2016  2005    11\n",
       "29       XB  2008  2000     8\n",
       "30     XOne  2016  2013     3"
      ]
     },
     "execution_count": 118,
     "metadata": {},
     "output_type": "execute_result"
    }
   ],
   "source": [
    "#Построим сводную таблицу с первым и последним годом релизов игр у кждой платформы, посчитаем разницу во времени\n",
    "platform_years = df.pivot_table(index=['platform'], values='year_of_release', aggfunc={'min', 'max'}).reset_index()\n",
    "platform_years['delta'] = platform_years['max'] - platform_years['min']\n",
    "platform_years"
   ]
  },
  {
   "cell_type": "markdown",
   "metadata": {},
   "source": [
    "Конечно же, если последняя игра вышла давно, это не значит, что платформа уже не выпускается и никто ею не пользуется, но все-таки это показатель, что жизненный цикл платформы подходит к концу."
   ]
  },
  {
   "cell_type": "code",
   "execution_count": 119,
   "metadata": {},
   "outputs": [
    {
     "data": {
      "text/plain": [
       "([0,\n",
       "  1,\n",
       "  2,\n",
       "  3,\n",
       "  4,\n",
       "  5,\n",
       "  6,\n",
       "  7,\n",
       "  8,\n",
       "  9,\n",
       "  10,\n",
       "  11,\n",
       "  12,\n",
       "  13,\n",
       "  14,\n",
       "  15,\n",
       "  16,\n",
       "  17,\n",
       "  18,\n",
       "  19,\n",
       "  20,\n",
       "  21,\n",
       "  22,\n",
       "  23,\n",
       "  24,\n",
       "  25,\n",
       "  26,\n",
       "  27,\n",
       "  28,\n",
       "  29,\n",
       "  30],\n",
       " [Text(0, 0, ''),\n",
       "  Text(0, 0, ''),\n",
       "  Text(0, 0, ''),\n",
       "  Text(0, 0, ''),\n",
       "  Text(0, 0, ''),\n",
       "  Text(0, 0, ''),\n",
       "  Text(0, 0, ''),\n",
       "  Text(0, 0, ''),\n",
       "  Text(0, 0, ''),\n",
       "  Text(0, 0, ''),\n",
       "  Text(0, 0, ''),\n",
       "  Text(0, 0, ''),\n",
       "  Text(0, 0, ''),\n",
       "  Text(0, 0, ''),\n",
       "  Text(0, 0, ''),\n",
       "  Text(0, 0, ''),\n",
       "  Text(0, 0, ''),\n",
       "  Text(0, 0, ''),\n",
       "  Text(0, 0, ''),\n",
       "  Text(0, 0, ''),\n",
       "  Text(0, 0, ''),\n",
       "  Text(0, 0, ''),\n",
       "  Text(0, 0, ''),\n",
       "  Text(0, 0, ''),\n",
       "  Text(0, 0, ''),\n",
       "  Text(0, 0, ''),\n",
       "  Text(0, 0, ''),\n",
       "  Text(0, 0, ''),\n",
       "  Text(0, 0, ''),\n",
       "  Text(0, 0, ''),\n",
       "  Text(0, 0, '')])"
      ]
     },
     "execution_count": 119,
     "metadata": {},
     "output_type": "execute_result"
    },
    {
     "data": {
      "image/png": "[encoded data removed]",
      "text/plain": [
       "<Figure size 432x288 with 1 Axes>"
      ]
     },
     "metadata": {
      "needs_background": "light"
     },
     "output_type": "display_data"
    }
   ],
   "source": [
    "#Визуализируем первый и последний год выхода игры к платформам. Первый год будет синей точкой, последний - красной.\n",
    "sns.scatterplot(data=platform_years, x=\"platform\", y=\"min\")\n",
    "sns.scatterplot(data=platform_years, x=\"platform\", y=\"max\", color=\"red\")\n",
    "plt.xticks(rotation='vertical')"
   ]
  },
  {
   "cell_type": "code",
   "execution_count": 120,
   "metadata": {},
   "outputs": [
    {
     "data": {
      "text/plain": [
       "<AxesSubplot:xlabel='platform'>"
      ]
     },
     "execution_count": 120,
     "metadata": {},
     "output_type": "execute_result"
    },
    {
     "data": {
      "image/png": "[encoded data removed]",
      "text/plain": [
       "<Figure size 432x288 with 1 Axes>"
      ]
     },
     "metadata": {
      "needs_background": "light"
     },
     "output_type": "display_data"
    }
   ],
   "source": [
    "#Визуализируем разницу времени между первым и последним релизом\n",
    "platform_years.plot(x='platform', y='delta', kind='bar', rot=90) "
   ]
  },
  {
   "cell_type": "markdown",
   "metadata": {},
   "source": [
    "Посчитаем среднюю продолжительность жизненного цикла популярных и обычным платформ"
   ]
  },
  {
   "cell_type": "code",
   "execution_count": 121,
   "metadata": {},
   "outputs": [
    {
     "name": "stdout",
     "output_type": "stream",
     "text": [
      "Средняя продолжительность жизненного цикла популярных платформ 10.0\n",
      "Средняя продолжительность жизненного цикла остальных платформ 6.28\n"
     ]
    }
   ],
   "source": [
    "print('Средняя продолжительность жизненного цикла популярных платформ', platform_years[platform_years['platform'].isin(top_platforms)]['delta'].mean())\n",
    "print('Средняя продолжительность жизненного цикла остальных платформ', platform_years[~platform_years['platform'].isin(top_platforms)]['delta'].mean())"
   ]
  },
  {
   "cell_type": "markdown",
   "metadata": {},
   "source": [
    "Правда, здесь у платформ, которые все еще актуальны, цифра будет занижена, ведь они еще не достигли конца своего жизненного цикла. Разница существенна. Очевидно, из-за множества короткоживущих платформ."
   ]
  },
  {
   "cell_type": "markdown",
   "metadata": {},
   "source": [
    "Нечто подобное мы уже видели на одной из первых гистограмм, только теперь изучаем вопрос более предметно. Длительность жизненного цикла мы видим во второй гистограмме, а конкретные годы первого и последнего релиза - на первой. Некоторые платформы пользовались спросом у игроделов совсем не долго, например, GG, PCFX и TG16 - всего 1 год. Если красная точка находится в верху поля, значит она все еще актуальна. Если много ниже - уже давно потеряла актальность. Жизненный цикл большинства платформ составляет от 5 до 10 лет."
   ]
  },
  {
   "cell_type": "markdown",
   "metadata": {},
   "source": [
    "Выделим актуальный период, который в дальнейшем будем изучать отдельно. По самой первой гистограмме это с 2011 до 2016 годы, так как в этот период характер гистограммы резко меняется, учитывать предыдущие годы уже нет смысла. Но учитывая инновационность отрасли, актуальным периодом можно выбрать последние 2-3 года, то есть с 2014 года."
   ]
  },
  {
   "cell_type": "code",
   "execution_count": 122,
   "metadata": {},
   "outputs": [
    {
     "data": {
      "text/html": [
       "<div>\n",
       "<style scoped>\n",
       "    .dataframe tbody tr th:only-of-type {\n",
       "        vertical-align: middle;\n",
       "    }\n",
       "\n",
       "    .dataframe tbody tr th {\n",
       "        vertical-align: top;\n",
       "    }\n",
       "\n",
       "    .dataframe thead th {\n",
       "        text-align: right;\n",
       "    }\n",
       "</style>\n",
       "<table border=\"1\" class=\"dataframe\">\n",
       "  <thead>\n",
       "    <tr style=\"text-align: right;\">\n",
       "      <th></th>\n",
       "      <th>name</th>\n",
       "      <th>platform</th>\n",
       "      <th>year_of_release</th>\n",
       "      <th>genre</th>\n",
       "      <th>na_sales</th>\n",
       "      <th>eu_sales</th>\n",
       "      <th>jp_sales</th>\n",
       "      <th>other_sales</th>\n",
       "      <th>critic_score</th>\n",
       "      <th>user_score</th>\n",
       "      <th>rating</th>\n",
       "      <th>common_sales</th>\n",
       "    </tr>\n",
       "  </thead>\n",
       "  <tbody>\n",
       "    <tr>\n",
       "      <th>5687</th>\n",
       "      <td>LEGO Marvel's Avengers</td>\n",
       "      <td>X360</td>\n",
       "      <td>2016</td>\n",
       "      <td>Action</td>\n",
       "      <td>0.18</td>\n",
       "      <td>0.11</td>\n",
       "      <td>0.00</td>\n",
       "      <td>0.03</td>\n",
       "      <td>&lt;NA&gt;</td>\n",
       "      <td>57</td>\n",
       "      <td>E10+</td>\n",
       "      <td>0.32</td>\n",
       "    </tr>\n",
       "    <tr>\n",
       "      <th>5861</th>\n",
       "      <td>Lego Batman 3: Beyond Gotham</td>\n",
       "      <td>PSV</td>\n",
       "      <td>2014</td>\n",
       "      <td>Action</td>\n",
       "      <td>0.05</td>\n",
       "      <td>0.19</td>\n",
       "      <td>0.00</td>\n",
       "      <td>0.07</td>\n",
       "      <td>&lt;NA&gt;</td>\n",
       "      <td>77</td>\n",
       "      <td>E10+</td>\n",
       "      <td>0.31</td>\n",
       "    </tr>\n",
       "    <tr>\n",
       "      <th>4745</th>\n",
       "      <td>Rocksmith 2014</td>\n",
       "      <td>XOne</td>\n",
       "      <td>2014</td>\n",
       "      <td>Misc</td>\n",
       "      <td>0.29</td>\n",
       "      <td>0.08</td>\n",
       "      <td>0.00</td>\n",
       "      <td>0.04</td>\n",
       "      <td>&lt;NA&gt;</td>\n",
       "      <td>&lt;NA&gt;</td>\n",
       "      <td>Not</td>\n",
       "      <td>0.41</td>\n",
       "    </tr>\n",
       "    <tr>\n",
       "      <th>8564</th>\n",
       "      <td>Lego Star Wars: The Force Awakens</td>\n",
       "      <td>PS3</td>\n",
       "      <td>2016</td>\n",
       "      <td>Action</td>\n",
       "      <td>0.04</td>\n",
       "      <td>0.10</td>\n",
       "      <td>0.00</td>\n",
       "      <td>0.03</td>\n",
       "      <td>&lt;NA&gt;</td>\n",
       "      <td>&lt;NA&gt;</td>\n",
       "      <td>E10+</td>\n",
       "      <td>0.17</td>\n",
       "    </tr>\n",
       "    <tr>\n",
       "      <th>10028</th>\n",
       "      <td>Hyperdimension Neptunia U: Action Unleashed</td>\n",
       "      <td>PSV</td>\n",
       "      <td>2014</td>\n",
       "      <td>Action</td>\n",
       "      <td>0.03</td>\n",
       "      <td>0.01</td>\n",
       "      <td>0.06</td>\n",
       "      <td>0.01</td>\n",
       "      <td>71</td>\n",
       "      <td>68</td>\n",
       "      <td>T</td>\n",
       "      <td>0.11</td>\n",
       "    </tr>\n",
       "  </tbody>\n",
       "</table>\n",
       "</div>"
      ],
      "text/plain": [
       "                                              name platform  year_of_release  \\\n",
       "5687                        LEGO Marvel's Avengers     X360             2016   \n",
       "5861                  Lego Batman 3: Beyond Gotham      PSV             2014   \n",
       "4745                                Rocksmith 2014     XOne             2014   \n",
       "8564             Lego Star Wars: The Force Awakens      PS3             2016   \n",
       "10028  Hyperdimension Neptunia U: Action Unleashed      PSV             2014   \n",
       "\n",
       "        genre  na_sales  eu_sales  jp_sales  other_sales  critic_score  \\\n",
       "5687   Action      0.18      0.11      0.00         0.03          <NA>   \n",
       "5861   Action      0.05      0.19      0.00         0.07          <NA>   \n",
       "4745     Misc      0.29      0.08      0.00         0.04          <NA>   \n",
       "8564   Action      0.04      0.10      0.00         0.03          <NA>   \n",
       "10028  Action      0.03      0.01      0.06         0.01            71   \n",
       "\n",
       "       user_score rating  common_sales  \n",
       "5687           57   E10+          0.32  \n",
       "5861           77   E10+          0.31  \n",
       "4745         <NA>    Not          0.41  \n",
       "8564         <NA>   E10+          0.17  \n",
       "10028          68      T          0.11  "
      ]
     },
     "execution_count": 122,
     "metadata": {},
     "output_type": "execute_result"
    }
   ],
   "source": [
    "#Отделим новый набор данных с датами релиза от 2014 включительно\n",
    "actual_data = df[df['year_of_release'] >= 2014]\n",
    "\n",
    "#Проверим результат\n",
    "actual_data.sample(5)"
   ]
  },
  {
   "cell_type": "markdown",
   "metadata": {},
   "source": [
    "Выберем несколько наиболее потенциально прибыльных платформ"
   ]
  },
  {
   "cell_type": "code",
   "execution_count": 123,
   "metadata": {},
   "outputs": [
    {
     "data": {
      "text/plain": [
       "<AxesSubplot:xlabel='platform'>"
      ]
     },
     "execution_count": 123,
     "metadata": {},
     "output_type": "execute_result"
    },
    {
     "data": {
      "image/png": "[encoded data removed]",
      "text/plain": [
       "<Figure size 432x288 with 1 Axes>"
      ]
     },
     "metadata": {
      "needs_background": "light"
     },
     "output_type": "display_data"
    }
   ],
   "source": [
    "#Выведем сводную таблицу с платформами и суммой продаж за все время. Отсортируем ее\n",
    "actual_data_pivot = actual_data.pivot_table(index=['platform'], values='common_sales', aggfunc='sum').sort_values(by='common_sales', ascending=False)\n",
    "\n",
    "#Сбросим индекс\n",
    "actual_data_pivot.reset_index(inplace = True)\n",
    "\n",
    "#Визуализируем полученную таблицу\n",
    "actual_data_pivot.plot(x='platform', y='common_sales', kind='bar', rot=90) "
   ]
  },
  {
   "cell_type": "markdown",
   "metadata": {},
   "source": [
    "Казалось бы, что может быть актуальнее персонального компьютера? Но сухие цифры говорят, что по количеству проданных копий игр это не самая популярная платформа. Выберем 8 лидирующих платформ и изучим, как меняются их продажи игр за актуальный период."
   ]
  },
  {
   "cell_type": "code",
   "execution_count": 124,
   "metadata": {},
   "outputs": [
    {
     "name": "stdout",
     "output_type": "stream",
     "text": [
      "Наиболее популярные актуальные платформы: ['PS4' 'XOne' '3DS' 'PS3' 'X360' 'WiiU' 'PC' 'PSV']\n"
     ]
    }
   ],
   "source": [
    "#Напечатаем 6 наиболее популярных актуальных платформ\n",
    "actual_top_platforms = actual_data_pivot['platform'].head(8).values\n",
    "print('Наиболее популярные актуальные платформы:', actual_top_platforms)"
   ]
  },
  {
   "cell_type": "code",
   "execution_count": 125,
   "metadata": {},
   "outputs": [
    {
     "data": {
      "text/plain": [
       "([<matplotlib.axis.XTick at 0x2048ae00b50>,\n",
       "  <matplotlib.axis.XTick at 0x2048ae009d0>,\n",
       "  <matplotlib.axis.XTick at 0x2048b0798e0>],\n",
       " [Text(0, 0, ''), Text(0, 0, ''), Text(0, 0, '')])"
      ]
     },
     "execution_count": 125,
     "metadata": {},
     "output_type": "execute_result"
    },
    {
     "data": {
      "image/png": "[encoded data removed]",
      "text/plain": [
       "<Figure size 576x576 with 1 Axes>"
      ]
     },
     "metadata": {
      "needs_background": "light"
     },
     "output_type": "display_data"
    }
   ],
   "source": [
    "#Построим отдельные гистограммы для каждой платформы\n",
    "plt.figure(figsize=(8,8))\n",
    "sns.histplot(actual_data[actual_data['platform'] == actual_top_platforms[0]]['year_of_release'], element=\"poly\", color=\"purple\", alpha=0.1, bins=3)\n",
    "sns.histplot(actual_data[actual_data['platform'] == actual_top_platforms[1]]['year_of_release'], element=\"poly\", alpha=0.1, bins=3)\n",
    "sns.histplot(actual_data[actual_data['platform'] == actual_top_platforms[2]]['year_of_release'], element=\"poly\", color=\"red\", alpha=0.1, bins=3)\n",
    "sns.histplot(actual_data[actual_data['platform'] == actual_top_platforms[3]]['year_of_release'], element=\"poly\", color=\"black\", alpha=0.1, bins=3)\n",
    "sns.histplot(actual_data[actual_data['platform'] == actual_top_platforms[4]]['year_of_release'], element=\"poly\", color=\"yellow\", alpha=0.1, bins=3)\n",
    "sns.histplot(actual_data[actual_data['platform'] == actual_top_platforms[5]]['year_of_release'], element=\"poly\", color=\"green\", alpha=0.1, bins=3)\n",
    "sns.histplot(actual_data[actual_data['platform'] == actual_top_platforms[6]]['year_of_release'], element=\"poly\", color=\"orange\", alpha=0.1, bins=3)\n",
    "sns.histplot(actual_data[actual_data['platform'] == actual_top_platforms[7]]['year_of_release'], element=\"poly\", color=\"blue\", alpha=0.1, bins=3)\n",
    "plt.xticks([2014, 2015, 2016])"
   ]
  },
  {
   "cell_type": "markdown",
   "metadata": {},
   "source": [
    "Здесь мы видим динамику количества релизов за последние годы. К сожалению мы не можем здесь увидеть динамику продаж, у нет таких данных, но мы помним, что это лидеры по продажам за все время. Значит, молодые платформы могут сейчас иметь очень хорошую динамику по продажам.\n",
    "* PS4 и XOne каждый год увеличивают количество релизов. Очень хорошая динамика\n",
    "* Положительная динамика также у PC\n",
    "* Остальные показывают отрицательную динамику"
   ]
  },
  {
   "cell_type": "markdown",
   "metadata": {},
   "source": [
    "Построим ящик с усами глобальных продаж каждой платформы, чтобы узнать их количество глобальных продаж."
   ]
  },
  {
   "cell_type": "code",
   "execution_count": 126,
   "metadata": {},
   "outputs": [
    {
     "data": {
      "text/plain": [
       "(0.0, 2.0)"
      ]
     },
     "execution_count": 126,
     "metadata": {},
     "output_type": "execute_result"
    },
    {
     "data": {
      "image/png": "[encoded data removed]",
      "text/plain": [
       "<Figure size 720x720 with 1 Axes>"
      ]
     },
     "metadata": {
      "needs_background": "light"
     },
     "output_type": "display_data"
    }
   ],
   "source": [
    "#Построим ящик с усами для выбранных ранее платформ\n",
    "plt.figure(figsize=(10,10))\n",
    "sns.boxplot(y=\"common_sales\", x=\"platform\", data=actual_data[actual_data.platform.isin(actual_top_platforms)])\n",
    "plt.ylim(0, 2)"
   ]
  },
  {
   "cell_type": "markdown",
   "metadata": {},
   "source": [
    "График сильно растянут всвязи с множеством выбросов, но мы его обрезали. Как мы помним, в настоящий момент (2016 год) популярность среди игроделов набирают PS4 и XOne. Сдесь они тоже имеют неплохие показатели. X360 здесь в лидерах за счет прошлых лет, у него сейчас плохая динамика.\n",
    "\n",
    "У WiiU тоже хорошие цифры, хотя на графике по релизам и кажется, что она постепенно теряет позиции. Но учитывая, что здесь по медианной линнии она на уровне с XOne и PS4, можно делать вывод, что игры на WiiU более качественные, хоть их и меньше ко количеству."
   ]
  },
  {
   "cell_type": "markdown",
   "metadata": {},
   "source": [
    "Посмотрим, как внутри одной платформы коррелируют отзывы и продажи. Выберем PS4"
   ]
  },
  {
   "cell_type": "code",
   "execution_count": 127,
   "metadata": {},
   "outputs": [
    {
     "data": {
      "text/plain": [
       "<AxesSubplot:xlabel='user_score', ylabel='common_sales'>"
      ]
     },
     "execution_count": 127,
     "metadata": {},
     "output_type": "execute_result"
    },
    {
     "data": {
      "image/png": "[encoded data removed]",
      "text/plain": [
       "<Figure size 432x288 with 1 Axes>"
      ]
     },
     "metadata": {
      "needs_background": "light"
     },
     "output_type": "display_data"
    },
    {
     "data": {
      "image/png": "[encoded data removed]",
      "text/plain": [
       "<Figure size 432x288 with 1 Axes>"
      ]
     },
     "metadata": {
      "needs_background": "light"
     },
     "output_type": "display_data"
    }
   ],
   "source": [
    "#Построим диаграмму рассеяния между оценками критиков и числом продаж игр, и отдельно оценок пользователей и продаж\n",
    "actual_data[actual_data['platform'] == 'PS4'].plot(x='critic_score', y='common_sales', kind='scatter', alpha=0.4) \n",
    "actual_data[actual_data['platform'] == 'PS4'].plot(x='user_score', y='common_sales', kind='scatter', alpha=0.4) "
   ]
  },
  {
   "cell_type": "markdown",
   "metadata": {},
   "source": [
    "Вычислим численные значения корреляции"
   ]
  },
  {
   "cell_type": "code",
   "execution_count": 128,
   "metadata": {},
   "outputs": [
    {
     "name": "stdout",
     "output_type": "stream",
     "text": [
      "Корреляция между оценками критиков и продажами для PS4: 0.40\n",
      "Корреляция между оценками пользователей и продажами для PS4: -0.04\n"
     ]
    }
   ],
   "source": [
    "#Напечатаем корреляцию между оценками критиков и продажами, затем оценками пользователей и продажами\n",
    "print('Корреляция между оценками критиков и продажами для PS4: {:.2f}'.format(actual_data[actual_data['platform'] == 'PS4']['critic_score'].astype(float).corr(actual_data[actual_data['platform'] == 'PS4']['common_sales'])))\n",
    "print('Корреляция между оценками пользователей и продажами для PS4: {:.2f}'.format(actual_data[actual_data['platform'] == 'PS4']['user_score'].astype(float).corr(actual_data[actual_data['platform'] == 'PS4']['common_sales'])))"
   ]
  },
  {
   "cell_type": "markdown",
   "metadata": {},
   "source": [
    "Конечно, у большинства игр продажи находятся на низком уровне независимо от оценок. Но некоторым удается поднять число продаж со дна, и чем больше оценка критиков, тем больше вероятность получить большое количество продаж. Вот что значит оценка профессионалов. С оценкой пользователей все иначе, хоть визуально определенная корреляция есть, но здесь она меньше, а численно она и вовсе околонулевая.\n",
    "\n",
    "Скорее всего у других платформ примерно такая же ситуация. Проверим это на примере XOne."
   ]
  },
  {
   "cell_type": "code",
   "execution_count": 129,
   "metadata": {},
   "outputs": [
    {
     "data": {
      "text/plain": [
       "<AxesSubplot:xlabel='user_score', ylabel='common_sales'>"
      ]
     },
     "execution_count": 129,
     "metadata": {},
     "output_type": "execute_result"
    },
    {
     "data": {
      "image/png": "[encoded data removed]",
      "text/plain": [
       "<Figure size 432x288 with 1 Axes>"
      ]
     },
     "metadata": {
      "needs_background": "light"
     },
     "output_type": "display_data"
    },
    {
     "data": {
      "image/png": "[encoded data removed]",
      "text/plain": [
       "<Figure size 432x288 with 1 Axes>"
      ]
     },
     "metadata": {
      "needs_background": "light"
     },
     "output_type": "display_data"
    }
   ],
   "source": [
    "#Построим диаграмму рассеяния между оценками критиков и числом продаж игр, и отдельно оценок пользователей и продаж\n",
    "actual_data[actual_data['platform'] == 'XOne'].plot(x='critic_score', y='common_sales', kind='scatter', alpha=0.4) \n",
    "actual_data[actual_data['platform'] == 'XOne'].plot(x='user_score', y='common_sales', kind='scatter', alpha=0.4) "
   ]
  },
  {
   "cell_type": "code",
   "execution_count": 130,
   "metadata": {},
   "outputs": [
    {
     "name": "stdout",
     "output_type": "stream",
     "text": [
      "Корреляция между оценками критиков и продажами для XOne: 0.43\n",
      "Корреляция между оценками пользователей и продажами для XOne: -0.07\n"
     ]
    }
   ],
   "source": [
    "#Напечатаем корреляцию между оценками критиков и продажами, затем оценками пользователей и продажами\n",
    "print('Корреляция между оценками критиков и продажами для XOne: {:.2f}'.format(actual_data[actual_data['platform'] == 'XOne']['critic_score'].astype(float).corr(actual_data[actual_data['platform'] == 'XOne']['common_sales'])))\n",
    "print('Корреляция между оценками пользователей и продажами для XOne: {:.2f}'.format(actual_data[actual_data['platform'] == 'XOne']['user_score'].astype(float).corr(actual_data[actual_data['platform'] == 'XOne']['common_sales'])))"
   ]
  },
  {
   "cell_type": "markdown",
   "metadata": {},
   "source": [
    "Да, так и есть.\n",
    "\n",
    "Изучим распределение продаж по различным жанрам."
   ]
  },
  {
   "cell_type": "code",
   "execution_count": 131,
   "metadata": {},
   "outputs": [
    {
     "data": {
      "text/plain": [
       "<AxesSubplot:xlabel='genre'>"
      ]
     },
     "execution_count": 131,
     "metadata": {},
     "output_type": "execute_result"
    },
    {
     "data": {
      "image/png": "[encoded data removed]",
      "text/plain": [
       "<Figure size 432x288 with 1 Axes>"
      ]
     },
     "metadata": {
      "needs_background": "light"
     },
     "output_type": "display_data"
    }
   ],
   "source": [
    "#Выведем сводную таблицу с жанрами и суммой продаж за все время. Отсортируем ее\n",
    "actual_data_pivot = actual_data.pivot_table(index=['genre'], values='common_sales', aggfunc='sum').sort_values(by='common_sales', ascending=False)\n",
    "\n",
    "#Сбросим индекс\n",
    "actual_data_pivot.reset_index(inplace = True)\n",
    "\n",
    "#Визуализируем полученную таблицу\n",
    "actual_data_pivot.plot(x='genre', y='common_sales', kind='bar', rot=90) "
   ]
  },
  {
   "cell_type": "code",
   "execution_count": 132,
   "metadata": {},
   "outputs": [
    {
     "name": "stdout",
     "output_type": "stream",
     "text": [
      "Наиболее популярные актуальные платформы: ['Action' 'Shooter' 'Sports' 'Role-Playing' 'Misc']\n"
     ]
    }
   ],
   "source": [
    "print('Наиболее популярные актуальные платформы:', actual_data_pivot['genre'].head(5).values)"
   ]
  },
  {
   "cell_type": "markdown",
   "metadata": {},
   "source": [
    "Особенно выделяются экшен и шутеры, спортивные и ролевые игры. Конечно, разделение по жанрам у многих игр условное, сложно порой сделать четкое разделение. Но определенные выводы сделать можно. \n",
    "\n",
    "К примеру, глядя на эту гистограмму можно понять, что жанр стратегий определенно нельзя назвать очень популярным, как и приключения и паззлы. А вот шутеры и экшены - практически беспроигрышный вариант для игроделов."
   ]
  },
  {
   "cell_type": "markdown",
   "metadata": {},
   "source": [
    "## Портрет пользователя каждого региона"
   ]
  },
  {
   "cell_type": "markdown",
   "metadata": {},
   "source": [
    "Определим для каждого региона некоторые показатели. Сперва выделим самые популярные платформы регионов."
   ]
  },
  {
   "cell_type": "code",
   "execution_count": 133,
   "metadata": {},
   "outputs": [
    {
     "data": {
      "text/html": [
       "<div>\n",
       "<style scoped>\n",
       "    .dataframe tbody tr th:only-of-type {\n",
       "        vertical-align: middle;\n",
       "    }\n",
       "\n",
       "    .dataframe tbody tr th {\n",
       "        vertical-align: top;\n",
       "    }\n",
       "\n",
       "    .dataframe thead th {\n",
       "        text-align: right;\n",
       "    }\n",
       "</style>\n",
       "<table border=\"1\" class=\"dataframe\">\n",
       "  <thead>\n",
       "    <tr style=\"text-align: right;\">\n",
       "      <th></th>\n",
       "      <th>platform</th>\n",
       "      <th>eu_sales</th>\n",
       "      <th>jp_sales</th>\n",
       "      <th>na_sales</th>\n",
       "      <th>other_sales</th>\n",
       "    </tr>\n",
       "  </thead>\n",
       "  <tbody>\n",
       "    <tr>\n",
       "      <th>0</th>\n",
       "      <td>3DS</td>\n",
       "      <td>16.12</td>\n",
       "      <td>44.24</td>\n",
       "      <td>22.64</td>\n",
       "      <td>3.68</td>\n",
       "    </tr>\n",
       "    <tr>\n",
       "      <th>1</th>\n",
       "      <td>PC</td>\n",
       "      <td>17.97</td>\n",
       "      <td>0.00</td>\n",
       "      <td>7.23</td>\n",
       "      <td>1.85</td>\n",
       "    </tr>\n",
       "    <tr>\n",
       "      <th>2</th>\n",
       "      <td>PS3</td>\n",
       "      <td>25.54</td>\n",
       "      <td>11.22</td>\n",
       "      <td>22.05</td>\n",
       "      <td>9.37</td>\n",
       "    </tr>\n",
       "    <tr>\n",
       "      <th>3</th>\n",
       "      <td>PS4</td>\n",
       "      <td>130.04</td>\n",
       "      <td>15.02</td>\n",
       "      <td>98.61</td>\n",
       "      <td>44.48</td>\n",
       "    </tr>\n",
       "    <tr>\n",
       "      <th>4</th>\n",
       "      <td>PSP</td>\n",
       "      <td>0.00</td>\n",
       "      <td>0.36</td>\n",
       "      <td>0.00</td>\n",
       "      <td>0.00</td>\n",
       "    </tr>\n",
       "    <tr>\n",
       "      <th>5</th>\n",
       "      <td>PSV</td>\n",
       "      <td>3.53</td>\n",
       "      <td>14.54</td>\n",
       "      <td>2.52</td>\n",
       "      <td>1.81</td>\n",
       "    </tr>\n",
       "    <tr>\n",
       "      <th>6</th>\n",
       "      <td>Wii</td>\n",
       "      <td>2.59</td>\n",
       "      <td>0.00</td>\n",
       "      <td>2.08</td>\n",
       "      <td>0.40</td>\n",
       "    </tr>\n",
       "    <tr>\n",
       "      <th>7</th>\n",
       "      <td>WiiU</td>\n",
       "      <td>13.15</td>\n",
       "      <td>7.31</td>\n",
       "      <td>19.36</td>\n",
       "      <td>3.16</td>\n",
       "    </tr>\n",
       "    <tr>\n",
       "      <th>8</th>\n",
       "      <td>X360</td>\n",
       "      <td>15.49</td>\n",
       "      <td>0.08</td>\n",
       "      <td>28.30</td>\n",
       "      <td>4.35</td>\n",
       "    </tr>\n",
       "    <tr>\n",
       "      <th>9</th>\n",
       "      <td>XOne</td>\n",
       "      <td>46.25</td>\n",
       "      <td>0.32</td>\n",
       "      <td>81.27</td>\n",
       "      <td>12.52</td>\n",
       "    </tr>\n",
       "  </tbody>\n",
       "</table>\n",
       "</div>"
      ],
      "text/plain": [
       "  platform  eu_sales  jp_sales  na_sales  other_sales\n",
       "0      3DS     16.12     44.24     22.64         3.68\n",
       "1       PC     17.97      0.00      7.23         1.85\n",
       "2      PS3     25.54     11.22     22.05         9.37\n",
       "3      PS4    130.04     15.02     98.61        44.48\n",
       "4      PSP      0.00      0.36      0.00         0.00\n",
       "5      PSV      3.53     14.54      2.52         1.81\n",
       "6      Wii      2.59      0.00      2.08         0.40\n",
       "7     WiiU     13.15      7.31     19.36         3.16\n",
       "8     X360     15.49      0.08     28.30         4.35\n",
       "9     XOne     46.25      0.32     81.27        12.52"
      ]
     },
     "execution_count": 133,
     "metadata": {},
     "output_type": "execute_result"
    }
   ],
   "source": [
    "#Выведем сводную таблицу с платформами и суммой продаж\n",
    "df_pivot = actual_data.pivot_table(index=['platform'], values=['na_sales', 'eu_sales', 'jp_sales', 'other_sales'], aggfunc='sum')\n",
    "\n",
    "#Сбросим индекс и посмотрим на результат\n",
    "df_pivot.reset_index(inplace = True)\n",
    "df_pivot"
   ]
  },
  {
   "cell_type": "code",
   "execution_count": 134,
   "metadata": {},
   "outputs": [
    {
     "data": {
      "text/plain": [
       "([0, 1, 2, 3, 4, 5, 6, 7, 8, 9],\n",
       " [Text(0, 0, ''),\n",
       "  Text(0, 0, ''),\n",
       "  Text(0, 0, ''),\n",
       "  Text(0, 0, ''),\n",
       "  Text(0, 0, ''),\n",
       "  Text(0, 0, ''),\n",
       "  Text(0, 0, ''),\n",
       "  Text(0, 0, ''),\n",
       "  Text(0, 0, ''),\n",
       "  Text(0, 0, '')])"
      ]
     },
     "execution_count": 134,
     "metadata": {},
     "output_type": "execute_result"
    },
    {
     "data": {
      "image/png": "[encoded data removed]",
      "text/plain": [
       "<Figure size 576x576 with 1 Axes>"
      ]
     },
     "metadata": {
      "needs_background": "light"
     },
     "output_type": "display_data"
    }
   ],
   "source": [
    "#Визуализируем полученную таблицу\n",
    "plt.figure(figsize=(8,8))\n",
    "sns.scatterplot(data=df_pivot, x=\"platform\", y=\"na_sales\", alpha=0.8)\n",
    "sns.scatterplot(data=df_pivot, x=\"platform\", y=\"eu_sales\", color=\"red\", alpha=0.8)\n",
    "sns.scatterplot(data=df_pivot, x=\"platform\", y=\"jp_sales\", color=\"green\", alpha=0.8)\n",
    "sns.scatterplot(data=df_pivot, x=\"platform\", y=\"other_sales\", color=\"black\", alpha=0.8)\n",
    "plt.xticks(rotation='vertical')"
   ]
  },
  {
   "cell_type": "markdown",
   "metadata": {},
   "source": [
    "Возможно, не самый удачный метод - соединять все четыре региона в один график. Для упрощения восприятия разделим графики."
   ]
  },
  {
   "cell_type": "code",
   "execution_count": 135,
   "metadata": {},
   "outputs": [
    {
     "data": {
      "text/html": [
       "<div>\n",
       "<style scoped>\n",
       "    .dataframe tbody tr th:only-of-type {\n",
       "        vertical-align: middle;\n",
       "    }\n",
       "\n",
       "    .dataframe tbody tr th {\n",
       "        vertical-align: top;\n",
       "    }\n",
       "\n",
       "    .dataframe thead th {\n",
       "        text-align: right;\n",
       "    }\n",
       "</style>\n",
       "<table border=\"1\" class=\"dataframe\">\n",
       "  <thead>\n",
       "    <tr style=\"text-align: right;\">\n",
       "      <th></th>\n",
       "      <th>platform</th>\n",
       "      <th>eu_sales</th>\n",
       "      <th>jp_sales</th>\n",
       "      <th>na_sales</th>\n",
       "      <th>other_sales</th>\n",
       "    </tr>\n",
       "  </thead>\n",
       "  <tbody>\n",
       "    <tr>\n",
       "      <th>3</th>\n",
       "      <td>PS4</td>\n",
       "      <td>130.04</td>\n",
       "      <td>15.02</td>\n",
       "      <td>98.61</td>\n",
       "      <td>44.48</td>\n",
       "    </tr>\n",
       "    <tr>\n",
       "      <th>9</th>\n",
       "      <td>XOne</td>\n",
       "      <td>46.25</td>\n",
       "      <td>0.32</td>\n",
       "      <td>81.27</td>\n",
       "      <td>12.52</td>\n",
       "    </tr>\n",
       "    <tr>\n",
       "      <th>8</th>\n",
       "      <td>X360</td>\n",
       "      <td>15.49</td>\n",
       "      <td>0.08</td>\n",
       "      <td>28.30</td>\n",
       "      <td>4.35</td>\n",
       "    </tr>\n",
       "    <tr>\n",
       "      <th>0</th>\n",
       "      <td>3DS</td>\n",
       "      <td>16.12</td>\n",
       "      <td>44.24</td>\n",
       "      <td>22.64</td>\n",
       "      <td>3.68</td>\n",
       "    </tr>\n",
       "    <tr>\n",
       "      <th>2</th>\n",
       "      <td>PS3</td>\n",
       "      <td>25.54</td>\n",
       "      <td>11.22</td>\n",
       "      <td>22.05</td>\n",
       "      <td>9.37</td>\n",
       "    </tr>\n",
       "  </tbody>\n",
       "</table>\n",
       "</div>"
      ],
      "text/plain": [
       "  platform  eu_sales  jp_sales  na_sales  other_sales\n",
       "3      PS4    130.04     15.02     98.61        44.48\n",
       "9     XOne     46.25      0.32     81.27        12.52\n",
       "8     X360     15.49      0.08     28.30         4.35\n",
       "0      3DS     16.12     44.24     22.64         3.68\n",
       "2      PS3     25.54     11.22     22.05         9.37"
      ]
     },
     "execution_count": 135,
     "metadata": {},
     "output_type": "execute_result"
    }
   ],
   "source": [
    "df_pivot.sort_values(by='na_sales', ascending=False).head(5)"
   ]
  },
  {
   "cell_type": "code",
   "execution_count": 136,
   "metadata": {},
   "outputs": [],
   "source": [
    "#Объявим функцию чтобы немного сократить код\n",
    "def top5(data_d, column):\n",
    "    return data_d.sort_values(by=column, ascending=False).head()"
   ]
  },
  {
   "cell_type": "code",
   "execution_count": 137,
   "metadata": {},
   "outputs": [
    {
     "data": {
      "text/plain": [
       "<AxesSubplot:xlabel='platform'>"
      ]
     },
     "execution_count": 137,
     "metadata": {},
     "output_type": "execute_result"
    },
    {
     "data": {
      "image/png": "[encoded data removed]",
      "text/plain": [
       "<Figure size 432x288 with 1 Axes>"
      ]
     },
     "metadata": {
      "needs_background": "light"
     },
     "output_type": "display_data"
    },
    {
     "data": {
      "image/png": "[encoded data removed]",
      "text/plain": [
       "<Figure size 432x288 with 1 Axes>"
      ]
     },
     "metadata": {
      "needs_background": "light"
     },
     "output_type": "display_data"
    },
    {
     "data": {
      "image/png": "[encoded data removed]",
      "text/plain": [
       "<Figure size 432x288 with 1 Axes>"
      ]
     },
     "metadata": {
      "needs_background": "light"
     },
     "output_type": "display_data"
    },
    {
     "data": {
      "image/png": "[encoded data removed]",
      "text/plain": [
       "<Figure size 432x288 with 1 Axes>"
      ]
     },
     "metadata": {
      "needs_background": "light"
     },
     "output_type": "display_data"
    }
   ],
   "source": [
    "#Визуализируем отдельные столбчатые графики\n",
    "top5(df_pivot, 'na_sales').plot(x='platform', y='na_sales', kind='bar', rot=90)\n",
    "top5(df_pivot, 'eu_sales').plot(x='platform', y='eu_sales', kind='bar', rot=90) \n",
    "top5(df_pivot, 'jp_sales').plot(x='platform', y='jp_sales', kind='bar', rot=90) \n",
    "top5(df_pivot, 'other_sales').plot(x='platform', y='other_sales', kind='bar', rot=90) "
   ]
  },
  {
   "cell_type": "markdown",
   "metadata": {},
   "source": [
    "В целом видно, что популярная в одном регионе платформа будет популярной и в другом (кроме Японии). Чтобы проверить это, выведем напрямую топ-5 платформ каждого региона. "
   ]
  },
  {
   "cell_type": "code",
   "execution_count": 138,
   "metadata": {},
   "outputs": [
    {
     "name": "stdout",
     "output_type": "stream",
     "text": [
      "Топ-5 платформ в Северной Америке ['PS4' 'XOne' 'X360' '3DS' 'PS3']\n",
      "Топ-5 платформ в Европе ['PS4' 'XOne' 'PS3' 'PC' '3DS']\n",
      "Топ-5 платформ в Японии ['3DS' 'PS4' 'PSV' 'PS3' 'WiiU']\n",
      "Топ-5 платформ в других странах ['PS4' 'XOne' 'PS3' 'X360' '3DS']\n"
     ]
    }
   ],
   "source": [
    "#Напечатаем топ-5 платформ каждого региона в текстовом виде\n",
    "print('Топ-5 платформ в Северной Америке', top5(df_pivot, 'na_sales')['platform'].values)\n",
    "print('Топ-5 платформ в Европе', top5(df_pivot, 'eu_sales')['platform'].values)\n",
    "print('Топ-5 платформ в Японии', top5(df_pivot, 'jp_sales')['platform'].values)\n",
    "print('Топ-5 платформ в других странах', top5(df_pivot, 'other_sales')['platform'].values)"
   ]
  },
  {
   "cell_type": "markdown",
   "metadata": {},
   "source": [
    "Посмотрим на долю продаж игр по платформам в виде круговых диаграмм"
   ]
  },
  {
   "cell_type": "code",
   "execution_count": 139,
   "metadata": {},
   "outputs": [
    {
     "data": {
      "image/png": "[encoded data removed]",
      "text/plain": [
       "<Figure size 576x576 with 1 Axes>"
      ]
     },
     "metadata": {},
     "output_type": "display_data"
    }
   ],
   "source": [
    "#Построим круговую диаграмму продаж игр на разных платформах в Северной Америке\n",
    "plt.figure(figsize=(8,8))\n",
    "plt.pie(top5(df_pivot, 'na_sales')['na_sales'], labels = top5(df_pivot, 'na_sales')['platform'])\n",
    "plt.show()"
   ]
  },
  {
   "cell_type": "code",
   "execution_count": 140,
   "metadata": {},
   "outputs": [
    {
     "data": {
      "image/png": "[encoded data removed]",
      "text/plain": [
       "<Figure size 576x576 with 1 Axes>"
      ]
     },
     "metadata": {},
     "output_type": "display_data"
    }
   ],
   "source": [
    "#Построим круговую диаграмму продаж игр на разных платформах в Европе\n",
    "plt.figure(figsize=(8,8))\n",
    "plt.pie(top5(df_pivot, 'eu_sales')['eu_sales'], labels = top5(df_pivot, 'eu_sales')['platform'])\n",
    "plt.show()"
   ]
  },
  {
   "cell_type": "code",
   "execution_count": 141,
   "metadata": {},
   "outputs": [
    {
     "data": {
      "image/png": "[encoded data removed]",
      "text/plain": [
       "<Figure size 576x576 with 1 Axes>"
      ]
     },
     "metadata": {},
     "output_type": "display_data"
    }
   ],
   "source": [
    "#Построим круговую диаграмму продаж игр на разных платформах в Японии\n",
    "plt.figure(figsize=(8,8))\n",
    "plt.pie(top5(df_pivot, 'jp_sales')['jp_sales'], labels = top5(df_pivot, 'jp_sales')['platform'])\n",
    "plt.show()"
   ]
  },
  {
   "cell_type": "code",
   "execution_count": 142,
   "metadata": {},
   "outputs": [
    {
     "data": {
      "image/png": "[encoded data removed]",
      "text/plain": [
       "<Figure size 576x576 with 1 Axes>"
      ]
     },
     "metadata": {},
     "output_type": "display_data"
    }
   ],
   "source": [
    "#Построим круговую диаграмму продаж игр на разных платформах в других странах\n",
    "plt.figure(figsize=(8,8))\n",
    "plt.pie(top5(df_pivot, 'other_sales')['other_sales'], labels = top5(df_pivot, 'other_sales')['platform'])\n",
    "plt.show()"
   ]
  },
  {
   "cell_type": "markdown",
   "metadata": {},
   "source": [
    "У рынков, кроме японского рынка, схожие предпочтения. 'PS4' и 'XOne' являются в трех регионах из четырех абсолютными лидерами.\n",
    "\n",
    "Выделим самые популярные жанры различных регионов."
   ]
  },
  {
   "cell_type": "code",
   "execution_count": 143,
   "metadata": {},
   "outputs": [
    {
     "data": {
      "text/html": [
       "<div>\n",
       "<style scoped>\n",
       "    .dataframe tbody tr th:only-of-type {\n",
       "        vertical-align: middle;\n",
       "    }\n",
       "\n",
       "    .dataframe tbody tr th {\n",
       "        vertical-align: top;\n",
       "    }\n",
       "\n",
       "    .dataframe thead th {\n",
       "        text-align: right;\n",
       "    }\n",
       "</style>\n",
       "<table border=\"1\" class=\"dataframe\">\n",
       "  <thead>\n",
       "    <tr style=\"text-align: right;\">\n",
       "      <th></th>\n",
       "      <th>genre</th>\n",
       "      <th>eu_sales</th>\n",
       "      <th>jp_sales</th>\n",
       "      <th>na_sales</th>\n",
       "      <th>other_sales</th>\n",
       "    </tr>\n",
       "  </thead>\n",
       "  <tbody>\n",
       "    <tr>\n",
       "      <th>0</th>\n",
       "      <td>Action</td>\n",
       "      <td>74.68</td>\n",
       "      <td>29.58</td>\n",
       "      <td>72.53</td>\n",
       "      <td>22.57</td>\n",
       "    </tr>\n",
       "    <tr>\n",
       "      <th>1</th>\n",
       "      <td>Adventure</td>\n",
       "      <td>6.49</td>\n",
       "      <td>3.60</td>\n",
       "      <td>5.64</td>\n",
       "      <td>1.82</td>\n",
       "    </tr>\n",
       "    <tr>\n",
       "      <th>2</th>\n",
       "      <td>Fighting</td>\n",
       "      <td>6.69</td>\n",
       "      <td>6.37</td>\n",
       "      <td>12.43</td>\n",
       "      <td>2.73</td>\n",
       "    </tr>\n",
       "    <tr>\n",
       "      <th>3</th>\n",
       "      <td>Misc</td>\n",
       "      <td>12.86</td>\n",
       "      <td>5.61</td>\n",
       "      <td>15.05</td>\n",
       "      <td>4.03</td>\n",
       "    </tr>\n",
       "    <tr>\n",
       "      <th>4</th>\n",
       "      <td>Platform</td>\n",
       "      <td>6.80</td>\n",
       "      <td>2.69</td>\n",
       "      <td>6.79</td>\n",
       "      <td>1.81</td>\n",
       "    </tr>\n",
       "    <tr>\n",
       "      <th>5</th>\n",
       "      <td>Puzzle</td>\n",
       "      <td>0.52</td>\n",
       "      <td>0.93</td>\n",
       "      <td>0.65</td>\n",
       "      <td>0.11</td>\n",
       "    </tr>\n",
       "    <tr>\n",
       "      <th>6</th>\n",
       "      <td>Racing</td>\n",
       "      <td>14.13</td>\n",
       "      <td>1.76</td>\n",
       "      <td>8.74</td>\n",
       "      <td>2.89</td>\n",
       "    </tr>\n",
       "    <tr>\n",
       "      <th>7</th>\n",
       "      <td>Role-Playing</td>\n",
       "      <td>28.17</td>\n",
       "      <td>31.16</td>\n",
       "      <td>33.47</td>\n",
       "      <td>8.64</td>\n",
       "    </tr>\n",
       "    <tr>\n",
       "      <th>8</th>\n",
       "      <td>Shooter</td>\n",
       "      <td>65.52</td>\n",
       "      <td>4.87</td>\n",
       "      <td>79.02</td>\n",
       "      <td>21.53</td>\n",
       "    </tr>\n",
       "    <tr>\n",
       "      <th>9</th>\n",
       "      <td>Simulation</td>\n",
       "      <td>7.30</td>\n",
       "      <td>2.31</td>\n",
       "      <td>2.63</td>\n",
       "      <td>0.89</td>\n",
       "    </tr>\n",
       "    <tr>\n",
       "      <th>10</th>\n",
       "      <td>Sports</td>\n",
       "      <td>45.73</td>\n",
       "      <td>3.26</td>\n",
       "      <td>46.13</td>\n",
       "      <td>14.36</td>\n",
       "    </tr>\n",
       "    <tr>\n",
       "      <th>11</th>\n",
       "      <td>Strategy</td>\n",
       "      <td>1.79</td>\n",
       "      <td>0.95</td>\n",
       "      <td>0.98</td>\n",
       "      <td>0.24</td>\n",
       "    </tr>\n",
       "  </tbody>\n",
       "</table>\n",
       "</div>"
      ],
      "text/plain": [
       "           genre  eu_sales  jp_sales  na_sales  other_sales\n",
       "0         Action     74.68     29.58     72.53        22.57\n",
       "1      Adventure      6.49      3.60      5.64         1.82\n",
       "2       Fighting      6.69      6.37     12.43         2.73\n",
       "3           Misc     12.86      5.61     15.05         4.03\n",
       "4       Platform      6.80      2.69      6.79         1.81\n",
       "5         Puzzle      0.52      0.93      0.65         0.11\n",
       "6         Racing     14.13      1.76      8.74         2.89\n",
       "7   Role-Playing     28.17     31.16     33.47         8.64\n",
       "8        Shooter     65.52      4.87     79.02        21.53\n",
       "9     Simulation      7.30      2.31      2.63         0.89\n",
       "10        Sports     45.73      3.26     46.13        14.36\n",
       "11      Strategy      1.79      0.95      0.98         0.24"
      ]
     },
     "execution_count": 143,
     "metadata": {},
     "output_type": "execute_result"
    }
   ],
   "source": [
    "#Выведем сводную таблицу с платформами и суммой продаж\n",
    "df_pivot = actual_data.pivot_table(index=['genre'], values=['na_sales', 'eu_sales', 'jp_sales', 'other_sales'], aggfunc='sum')\n",
    "\n",
    "#Сбросим индекс и посмотрим на результат\n",
    "df_pivot.reset_index(inplace = True)\n",
    "df_pivot"
   ]
  },
  {
   "cell_type": "code",
   "execution_count": 144,
   "metadata": {},
   "outputs": [
    {
     "data": {
      "text/plain": [
       "<AxesSubplot:xlabel='genre'>"
      ]
     },
     "execution_count": 144,
     "metadata": {},
     "output_type": "execute_result"
    },
    {
     "data": {
      "image/png": "[encoded data removed]",
      "text/plain": [
       "<Figure size 432x288 with 1 Axes>"
      ]
     },
     "metadata": {
      "needs_background": "light"
     },
     "output_type": "display_data"
    },
    {
     "data": {
      "image/png": "[encoded data removed]",
      "text/plain": [
       "<Figure size 432x288 with 1 Axes>"
      ]
     },
     "metadata": {
      "needs_background": "light"
     },
     "output_type": "display_data"
    },
    {
     "data": {
      "image/png": "[encoded data removed]",
      "text/plain": [
       "<Figure size 432x288 with 1 Axes>"
      ]
     },
     "metadata": {
      "needs_background": "light"
     },
     "output_type": "display_data"
    },
    {
     "data": {
      "image/png": "[encoded data removed]",
      "text/plain": [
       "<Figure size 432x288 with 1 Axes>"
      ]
     },
     "metadata": {
      "needs_background": "light"
     },
     "output_type": "display_data"
    }
   ],
   "source": [
    "#Визуализируем отдельные столбчатые графики\n",
    "top5(df_pivot, 'na_sales').plot(x='genre', y='na_sales', kind='bar', rot=90)\n",
    "top5(df_pivot, 'eu_sales').plot(x='genre', y='eu_sales', kind='bar', rot=90) \n",
    "top5(df_pivot, 'jp_sales').plot(x='genre', y='jp_sales', kind='bar', rot=90) \n",
    "top5(df_pivot, 'other_sales').plot(x='genre', y='other_sales', kind='bar', rot=90)"
   ]
  },
  {
   "cell_type": "code",
   "execution_count": 145,
   "metadata": {},
   "outputs": [
    {
     "name": "stdout",
     "output_type": "stream",
     "text": [
      "Топ-5 жанров в Северной Америке ['Shooter' 'Action' 'Sports' 'Role-Playing' 'Misc']\n",
      "Топ-5 жанров в Европе ['Action' 'Shooter' 'Sports' 'Role-Playing' 'Racing']\n",
      "Топ-5 жанров в Японии ['Role-Playing' 'Action' 'Fighting' 'Misc' 'Shooter']\n",
      "Топ-5 жанров в других странах ['Action' 'Shooter' 'Sports' 'Role-Playing' 'Misc']\n"
     ]
    }
   ],
   "source": [
    "#Выведем конкретный топ жанров\n",
    "print('Топ-5 жанров в Северной Америке', top5(df_pivot, 'na_sales')['genre'].values)\n",
    "print('Топ-5 жанров в Европе', top5(df_pivot, 'eu_sales')['genre'].values)\n",
    "print('Топ-5 жанров в Японии', top5(df_pivot, 'jp_sales')['genre'].values)\n",
    "print('Топ-5 жанров в других странах', top5(df_pivot, 'other_sales')['genre'].values)"
   ]
  },
  {
   "cell_type": "code",
   "execution_count": 146,
   "metadata": {},
   "outputs": [
    {
     "data": {
      "image/png": "[encoded data removed]",
      "text/plain": [
       "<Figure size 576x576 with 1 Axes>"
      ]
     },
     "metadata": {},
     "output_type": "display_data"
    }
   ],
   "source": [
    "#Построим круговую диаграмму продаж игр с разными жанрами в Северной Америке\n",
    "plt.figure(figsize=(8,8))\n",
    "plt.pie(top5(df_pivot, 'na_sales')['na_sales'], labels = top5(df_pivot, 'na_sales')['genre'])\n",
    "plt.show()"
   ]
  },
  {
   "cell_type": "code",
   "execution_count": 147,
   "metadata": {},
   "outputs": [
    {
     "data": {
      "image/png": "[encoded data removed]",
      "text/plain": [
       "<Figure size 576x576 with 1 Axes>"
      ]
     },
     "metadata": {},
     "output_type": "display_data"
    }
   ],
   "source": [
    "#Построим круговую диаграмму продаж игр с разными жанрами в Европе\n",
    "plt.figure(figsize=(8,8))\n",
    "plt.pie(top5(df_pivot, 'eu_sales')['eu_sales'], labels = top5(df_pivot, 'na_sales')['genre'])\n",
    "plt.show()"
   ]
  },
  {
   "cell_type": "code",
   "execution_count": 148,
   "metadata": {},
   "outputs": [
    {
     "data": {
      "image/png": "[encoded data removed]",
      "text/plain": [
       "<Figure size 576x576 with 1 Axes>"
      ]
     },
     "metadata": {},
     "output_type": "display_data"
    }
   ],
   "source": [
    "#Построим круговую диаграмму продаж игр с разными жанрами в Японии\n",
    "plt.figure(figsize=(8,8))\n",
    "plt.pie(top5(df_pivot, 'jp_sales')['jp_sales'], labels = top5(df_pivot, 'na_sales')['genre'])\n",
    "plt.show()"
   ]
  },
  {
   "cell_type": "code",
   "execution_count": 149,
   "metadata": {},
   "outputs": [
    {
     "data": {
      "image/png": "[encoded data removed]",
      "text/plain": [
       "<Figure size 576x576 with 1 Axes>"
      ]
     },
     "metadata": {},
     "output_type": "display_data"
    }
   ],
   "source": [
    "#Построим круговую диаграмму продаж игр с разными жанрами в других странах\n",
    "plt.figure(figsize=(8,8))\n",
    "plt.pie(top5(df_pivot, 'other_sales')['other_sales'], labels = top5(df_pivot, 'na_sales')['genre'])\n",
    "plt.show()"
   ]
  },
  {
   "cell_type": "markdown",
   "metadata": {},
   "source": [
    "В плане жанров у пользователей Северной Америки, Европы и других стран похожие вкусы, а вот у Японцев специфичны. Разве что они согласны с остальными в плане экшена."
   ]
  },
  {
   "cell_type": "markdown",
   "metadata": {},
   "source": [
    "Изучим связь между оценками ESRB и продажами в каждом регионе."
   ]
  },
  {
   "cell_type": "code",
   "execution_count": 150,
   "metadata": {},
   "outputs": [
    {
     "data": {
      "text/html": [
       "<div>\n",
       "<style scoped>\n",
       "    .dataframe tbody tr th:only-of-type {\n",
       "        vertical-align: middle;\n",
       "    }\n",
       "\n",
       "    .dataframe tbody tr th {\n",
       "        vertical-align: top;\n",
       "    }\n",
       "\n",
       "    .dataframe thead th {\n",
       "        text-align: right;\n",
       "    }\n",
       "</style>\n",
       "<table border=\"1\" class=\"dataframe\">\n",
       "  <thead>\n",
       "    <tr style=\"text-align: right;\">\n",
       "      <th></th>\n",
       "      <th>rating</th>\n",
       "      <th>eu_sales</th>\n",
       "      <th>jp_sales</th>\n",
       "      <th>na_sales</th>\n",
       "      <th>other_sales</th>\n",
       "    </tr>\n",
       "  </thead>\n",
       "  <tbody>\n",
       "    <tr>\n",
       "      <th>0</th>\n",
       "      <td>E</td>\n",
       "      <td>0.265114</td>\n",
       "      <td>0.040822</td>\n",
       "      <td>0.231689</td>\n",
       "      <td>0.070274</td>\n",
       "    </tr>\n",
       "    <tr>\n",
       "      <th>1</th>\n",
       "      <td>E10+</td>\n",
       "      <td>0.141405</td>\n",
       "      <td>0.024108</td>\n",
       "      <td>0.179622</td>\n",
       "      <td>0.042324</td>\n",
       "    </tr>\n",
       "    <tr>\n",
       "      <th>2</th>\n",
       "      <td>M</td>\n",
       "      <td>0.352604</td>\n",
       "      <td>0.030226</td>\n",
       "      <td>0.363849</td>\n",
       "      <td>0.108189</td>\n",
       "    </tr>\n",
       "    <tr>\n",
       "      <th>3</th>\n",
       "      <td>Not</td>\n",
       "      <td>0.078705</td>\n",
       "      <td>0.075968</td>\n",
       "      <td>0.086409</td>\n",
       "      <td>0.024566</td>\n",
       "    </tr>\n",
       "    <tr>\n",
       "      <th>4</th>\n",
       "      <td>T</td>\n",
       "      <td>0.125720</td>\n",
       "      <td>0.054539</td>\n",
       "      <td>0.143727</td>\n",
       "      <td>0.041808</td>\n",
       "    </tr>\n",
       "  </tbody>\n",
       "</table>\n",
       "</div>"
      ],
      "text/plain": [
       "  rating  eu_sales  jp_sales  na_sales  other_sales\n",
       "0      E  0.265114  0.040822  0.231689     0.070274\n",
       "1   E10+  0.141405  0.024108  0.179622     0.042324\n",
       "2      M  0.352604  0.030226  0.363849     0.108189\n",
       "3    Not  0.078705  0.075968  0.086409     0.024566\n",
       "4      T  0.125720  0.054539  0.143727     0.041808"
      ]
     },
     "execution_count": 150,
     "metadata": {},
     "output_type": "execute_result"
    }
   ],
   "source": [
    "#Выведем сводную таблицу с рейтингами и средними продажами\n",
    "df_pivot = actual_data.pivot_table(index=['rating'], values=['na_sales', 'eu_sales', 'jp_sales', 'other_sales'], aggfunc='mean')\n",
    "\n",
    "#Сбросим индекс и посмотрим на результат\n",
    "df_pivot.reset_index(inplace = True)\n",
    "df_pivot"
   ]
  },
  {
   "cell_type": "code",
   "execution_count": 151,
   "metadata": {},
   "outputs": [
    {
     "data": {
      "text/plain": [
       "<AxesSubplot:xlabel='rating'>"
      ]
     },
     "execution_count": 151,
     "metadata": {},
     "output_type": "execute_result"
    },
    {
     "data": {
      "image/png": "[encoded data removed]",
      "text/plain": [
       "<Figure size 432x288 with 1 Axes>"
      ]
     },
     "metadata": {
      "needs_background": "light"
     },
     "output_type": "display_data"
    },
    {
     "data": {
      "image/png": "[encoded data removed]",
      "text/plain": [
       "<Figure size 432x288 with 1 Axes>"
      ]
     },
     "metadata": {
      "needs_background": "light"
     },
     "output_type": "display_data"
    },
    {
     "data": {
      "image/png": "[encoded data removed]",
      "text/plain": [
       "<Figure size 432x288 with 1 Axes>"
      ]
     },
     "metadata": {
      "needs_background": "light"
     },
     "output_type": "display_data"
    },
    {
     "data": {
      "image/png": "[encoded data removed]",
      "text/plain": [
       "<Figure size 432x288 with 1 Axes>"
      ]
     },
     "metadata": {
      "needs_background": "light"
     },
     "output_type": "display_data"
    }
   ],
   "source": [
    "\n",
    "#Построим отдельные столбчатые графики\n",
    "top5(df_pivot, 'na_sales').plot(x='rating', y='na_sales', kind='bar') \n",
    "top5(df_pivot, 'eu_sales').plot(x='rating', y='eu_sales', kind='bar') \n",
    "top5(df_pivot, 'jp_sales').plot(x='rating', y='jp_sales', kind='bar') \n",
    "top5(df_pivot, 'other_sales').plot(x='rating', y='other_sales', kind='bar') "
   ]
  },
  {
   "cell_type": "markdown",
   "metadata": {},
   "source": [
    "В целом во всех регионах связь рейтинга с числом продаж одинаковая. Только в Японии игры с жанром \"М\" реже имеют большие продажи. В других регионах игры с этим рейтингом порой продаются с бо'льшим успехом, как и игры с рейтингом \"Е\". \n",
    "Игры с рейтингом \"Е10+\" и \"Т\" имеют везде более скромные цифры, хотя последнее довольно популярно в Японии. У нас есть множество игр с неизвестным рейтингом, особоенно в японском рынке."
   ]
  },
  {
   "cell_type": "markdown",
   "metadata": {},
   "source": [
    "## Проверка гипотез\n",
    "\n"
   ]
  },
  {
   "cell_type": "markdown",
   "metadata": {},
   "source": [
    "Проверим следующие гипотезы:\n",
    "* Средние пользовательские рейтинги платформ Xbox One и PC одинаковые;\n",
    "* Средние пользовательские рейтинги жанров Action и Sports разные."
   ]
  },
  {
   "cell_type": "markdown",
   "metadata": {},
   "source": [
    "### Первая гипотеза\n",
    "\n",
    "Гипотеза звучит так: средние пользовательские рейтинги платформ Xbox One и PC одинаковые.\n",
    "\n",
    "Это двусторонняя гипозета. У нас есть данные с пользовательским рейтингом каждой игры, разделим их по платформам и таким образом получим две генеральные совокупности, которые мы должны сравнивать.\n",
    "\n",
    "Нулевая гипотеза H₀ будет звучать так: средние рассматриваемых генеральных совокупностей равны между собой.\n",
    "\n",
    "Альтернативная гипотеза H₁: средние рассматриваемых генеральных совокупностей не равны между собой.\n",
    "\n",
    "Выберем уровень статистической значимости равный 0,05, это достаточно точный уровень для нашей цели. Мы помним, что наши данные не полные, поэтому применяем парамер equal_var равным True."
   ]
  },
  {
   "cell_type": "code",
   "execution_count": 152,
   "metadata": {},
   "outputs": [
    {
     "name": "stdout",
     "output_type": "stream",
     "text": [
      "p-значение: 0.10450507919348478\n",
      "Не получилось отвергнуть нулевую гипотезу\n"
     ]
    }
   ],
   "source": [
    "#критический уровень статистической значимости\n",
    "alpha = 0.05\n",
    "\n",
    "#Проводим тест\n",
    "results = st.ttest_ind(\\\n",
    "    actual_data[(actual_data['platform'] == 'XOne') & (actual_data['user_score'].notnull())]['user_score'],\\\n",
    "    actual_data[(actual_data['platform'] == 'PC') & (actual_data['user_score'].notnull())]['user_score'],\\\n",
    "    equal_var = True)\n",
    "\n",
    "#Выведим ответ\n",
    "print('p-значение:', results.pvalue)\n",
    "\n",
    "if results.pvalue < alpha:\n",
    "    print('Отвергаем нулевую гипотезу')\n",
    "else:\n",
    "    print('Не получилось отвергнуть нулевую гипотезу') "
   ]
  },
  {
   "cell_type": "code",
   "execution_count": 153,
   "metadata": {},
   "outputs": [
    {
     "name": "stdout",
     "output_type": "stream",
     "text": [
      "Средний пользовательский рейтинг игр на платформе Xbox One: 65.95\n",
      "Средний пользовательский рейтинг игр на платформе PC: 62.98\n"
     ]
    }
   ],
   "source": [
    "#Напечатаем редний пользовательский рейтинг игр чтобы убедиться в верности вывода\n",
    "print('Средний пользовательский рейтинг игр на платформе Xbox One: {:.2f}'.format(actual_data[(actual_data['platform'] == 'XOne') & (actual_data['user_score'].notnull())]['user_score'].mean()))\n",
    "print('Средний пользовательский рейтинг игр на платформе PC: {:.2f}'.format(actual_data[(actual_data['platform'] == 'PC') & (actual_data['user_score'].notnull())]['user_score'].mean()))"
   ]
  },
  {
   "cell_type": "markdown",
   "metadata": {},
   "source": [
    "Не получилось отвергнуть нулевую гипотезу, скорее всего средний пользовательский рейтинг игр на этих платформах не отличается."
   ]
  },
  {
   "cell_type": "markdown",
   "metadata": {},
   "source": [
    "### Вторая гипотеза\n",
    "\n"
   ]
  },
  {
   "cell_type": "markdown",
   "metadata": {},
   "source": [
    "Вторая гипотеза звучит так: средние пользовательские рейтинги жанров Action и Sports разные.\n",
    "\n",
    "Это двусторонняя гипозета. У нас есть данные с пользовательским рейтингом каждой игры, разделим их по жанрам и таким образом получим две генеральные совокупности, которые мы должны сравнивать.\n",
    "\n",
    "Нулевая гипотеза H₀ будет звучать так: средние рассматриваемых генеральных совокупностей равны между собой.\n",
    "\n",
    "Альтернативная гипотеза H₁: средние рассматриваемых генеральных совокупностей не равны между собой."
   ]
  },
  {
   "cell_type": "code",
   "execution_count": 154,
   "metadata": {},
   "outputs": [
    {
     "name": "stdout",
     "output_type": "stream",
     "text": [
      "p-значение: 2.871114798510669e-19\n",
      "Отвергаем нулевую гипотезу\n"
     ]
    }
   ],
   "source": [
    "#критический уровень статистической значимости\n",
    "alpha = 0.05\n",
    "\n",
    "#Проводим тест\n",
    "results = st.ttest_ind(\\\n",
    "    actual_data[(actual_data['genre'] == 'Action') & (actual_data['user_score'].notnull())]['user_score'],\\\n",
    "    actual_data[(actual_data['genre'] == 'Sports') & (actual_data['user_score'].notnull())]['user_score'],\\\n",
    "    equal_var = True)\n",
    "\n",
    "#Выведим ответ\n",
    "print('p-значение:', results.pvalue)\n",
    "\n",
    "if results.pvalue < alpha:\n",
    "    print('Отвергаем нулевую гипотезу')\n",
    "else:\n",
    "    print('Не получилось отвергнуть нулевую гипотезу') "
   ]
  },
  {
   "cell_type": "code",
   "execution_count": 155,
   "metadata": {},
   "outputs": [
    {
     "name": "stdout",
     "output_type": "stream",
     "text": [
      "Средний пользовательский рейтинг игр жанра Action: 67.61\n",
      "Средний пользовательский рейтинг игр жанра Sports: 52.25\n"
     ]
    }
   ],
   "source": [
    "#Напечатаем редний пользовательский рейтинг игр чтобы увидеть, средняя игр какого жанра больше, и на сколько\n",
    "print('Средний пользовательский рейтинг игр жанра Action: {:.2f}'.format(actual_data[(actual_data['genre'] == 'Action') & (actual_data['user_score'].notnull())]['user_score'].mean()))\n",
    "print('Средний пользовательский рейтинг игр жанра Sports: {:.2f}'.format(actual_data[(actual_data['genre'] == 'Sports') & (actual_data['user_score'].notnull())]['user_score'].mean()))"
   ]
  },
  {
   "cell_type": "markdown",
   "metadata": {},
   "source": [
    "Нулевая гипотеза отвергнута. Средние пользовательских рейтингов игр жанров Action и Sports различаются. Игры жанра Action более популярны."
   ]
  },
  {
   "cell_type": "markdown",
   "metadata": {},
   "source": [
    "## Общий вывод"
   ]
  },
  {
   "cell_type": "markdown",
   "metadata": {},
   "source": [
    "Мы проанализировали набор данных о продажах и рейтингах компьютерных игр за период с 1980 по 2016 годы. \n",
    "\n",
    "За весь период пик по количеству вышедших игр приходится конец двухтысячных, затем рынок упал на половину и держит стабильные показатели. \n",
    "\n",
    "За весь период наиболее популярные игры по количеству продаж поддерживаются платформами 'PS2', 'X360', 'PS3', 'Wii', 'DS', 'PS'. Но за актуальный период (с 2011 года) - 'PS3', 'X360', 'PS4', '3DS', 'XOne', 'PC', 'Wii', 'WiiU'. Всвязи с развитием техники, сменилось поколение игровых консолей, большинство консолей актуальны не более 10 лет. В настоящее время (конец 2016 года) набирают популярность среди разработчиков игр консоли PS4 и XOne, PC. Игры на платформах PS4 и XOne показывают хороший показатель по продажам. Игры в WiiU, учитывая возраст, тоже имеют неплохие продажи. PS4 и XOne также входят в число наиболее популярных платформ в Северной Америке, Европе и других странах, кроме Японии. Японский рынок специфичен, PS4 там занимает лишь пятое место по популярности, а XOne и вовсе не входит в Топ-5.\n",
    "\n",
    "Если нужно оценить, \"выстрелит\" ли игра, можно узнать мнение экспертов, их оценка имеет определенную корреляцию с продажами, но многие игры с высокими оценками так и не были проданы с высоким тиражом, так что с этим стоит быть осторожнее.\n",
    "\n",
    "Что касается жанров, наиболее популярны по прдажам игры жанров 'Action', 'Shooter', 'Role-Playing', 'Sports' и 'Misc'. Action популярен абсолютно везде. Шутеры и спортивные симуляторы везде, кроме Японии. Ролевые игры тоже популярны, особенно в Японии. Жанр Misc также в целом довольно популярен везде, кроме Европы.\n",
    "\n",
    "В плане возрастного рейтинга продажи игр различаются в основном в Японии и в остальном мире. В Японии наиболее популярны игры с рейтингом \"Т\" и \"Е\", а в остальном мире - \"М\" и \"Е\". Различия в средних цифрах не так существенны, максимум в 2-3 раза между лидером и оутсайдером.\n",
    "\n",
    "Мы математически проверили несколько гипотез и выяснили, что скорее всего средний пользовательский рейтинг игр на платформах Xbox One и PC не отличается. А также, что средние пользовательских рейтингов игр жанров Action и Sports разные. Игры жанра Action более популярны."
   ]
  }
 ],
 "metadata": {
  "ExecuteTimeLog": [
   {
    "duration": 72,
    "start_time": "2021-08-10T05:53:44.289Z"
   },
   {
    "duration": 108,
    "start_time": "2021-08-10T05:54:17.745Z"
   },
   {
    "duration": 76,
    "start_time": "2021-08-10T05:55:31.117Z"
   },
   {
    "duration": 76,
    "start_time": "2021-08-10T05:59:26.649Z"
   },
   {
    "duration": 217,
    "start_time": "2021-08-11T09:31:19.071Z"
   },
   {
    "duration": 3082,
    "start_time": "2021-08-11T09:31:27.374Z"
   },
   {
    "duration": 145,
    "start_time": "2021-08-11T09:31:30.315Z"
   },
   {
    "duration": 124,
    "start_time": "2021-08-11T09:31:30.337Z"
   },
   {
    "duration": 108,
    "start_time": "2021-08-11T09:31:30.354Z"
   },
   {
    "duration": 99,
    "start_time": "2021-08-11T09:31:30.364Z"
   },
   {
    "duration": 67,
    "start_time": "2021-08-11T09:31:30.397Z"
   },
   {
    "duration": 37,
    "start_time": "2021-08-11T09:31:30.428Z"
   },
   {
    "duration": 12,
    "start_time": "2021-08-11T09:31:30.454Z"
   },
   {
    "duration": 2,
    "start_time": "2021-08-11T09:31:30.465Z"
   },
   {
    "duration": -26,
    "start_time": "2021-08-11T09:31:30.494Z"
   },
   {
    "duration": -36,
    "start_time": "2021-08-11T09:31:30.505Z"
   },
   {
    "duration": -65,
    "start_time": "2021-08-11T09:31:30.536Z"
   },
   {
    "duration": -72,
    "start_time": "2021-08-11T09:31:30.543Z"
   },
   {
    "duration": -81,
    "start_time": "2021-08-11T09:31:30.553Z"
   },
   {
    "duration": -89,
    "start_time": "2021-08-11T09:31:30.562Z"
   },
   {
    "duration": -127,
    "start_time": "2021-08-11T09:31:30.601Z"
   },
   {
    "duration": -153,
    "start_time": "2021-08-11T09:31:30.628Z"
   },
   {
    "duration": -171,
    "start_time": "2021-08-11T09:31:30.647Z"
   },
   {
    "duration": -202,
    "start_time": "2021-08-11T09:31:30.679Z"
   },
   {
    "duration": -222,
    "start_time": "2021-08-11T09:31:30.700Z"
   },
   {
    "duration": -244,
    "start_time": "2021-08-11T09:31:30.723Z"
   },
   {
    "duration": -250,
    "start_time": "2021-08-11T09:31:30.730Z"
   },
   {
    "duration": -253,
    "start_time": "2021-08-11T09:31:30.734Z"
   },
   {
    "duration": -255,
    "start_time": "2021-08-11T09:31:30.737Z"
   },
   {
    "duration": -258,
    "start_time": "2021-08-11T09:31:30.741Z"
   },
   {
    "duration": -284,
    "start_time": "2021-08-11T09:31:30.768Z"
   },
   {
    "duration": -296,
    "start_time": "2021-08-11T09:31:30.781Z"
   },
   {
    "duration": -304,
    "start_time": "2021-08-11T09:31:30.790Z"
   },
   {
    "duration": -315,
    "start_time": "2021-08-11T09:31:30.802Z"
   },
   {
    "duration": -319,
    "start_time": "2021-08-11T09:31:30.807Z"
   },
   {
    "duration": -324,
    "start_time": "2021-08-11T09:31:30.813Z"
   },
   {
    "duration": -328,
    "start_time": "2021-08-11T09:31:30.818Z"
   },
   {
    "duration": -331,
    "start_time": "2021-08-11T09:31:30.822Z"
   },
   {
    "duration": -337,
    "start_time": "2021-08-11T09:31:30.829Z"
   },
   {
    "duration": -339,
    "start_time": "2021-08-11T09:31:30.832Z"
   },
   {
    "duration": -342,
    "start_time": "2021-08-11T09:31:30.836Z"
   },
   {
    "duration": -345,
    "start_time": "2021-08-11T09:31:30.840Z"
   },
   {
    "duration": -360,
    "start_time": "2021-08-11T09:31:30.856Z"
   },
   {
    "duration": -367,
    "start_time": "2021-08-11T09:31:30.864Z"
   },
   {
    "duration": -386,
    "start_time": "2021-08-11T09:31:30.884Z"
   },
   {
    "duration": -401,
    "start_time": "2021-08-11T09:31:30.900Z"
   },
   {
    "duration": -405,
    "start_time": "2021-08-11T09:31:30.905Z"
   },
   {
    "duration": -413,
    "start_time": "2021-08-11T09:31:30.914Z"
   },
   {
    "duration": -441,
    "start_time": "2021-08-11T09:31:30.943Z"
   },
   {
    "duration": -450,
    "start_time": "2021-08-11T09:31:30.952Z"
   },
   {
    "duration": -477,
    "start_time": "2021-08-11T09:31:30.980Z"
   },
   {
    "duration": -481,
    "start_time": "2021-08-11T09:31:30.985Z"
   },
   {
    "duration": -483,
    "start_time": "2021-08-11T09:31:30.989Z"
   },
   {
    "duration": -493,
    "start_time": "2021-08-11T09:31:30.999Z"
   },
   {
    "duration": -501,
    "start_time": "2021-08-11T09:31:31.008Z"
   },
   {
    "duration": -508,
    "start_time": "2021-08-11T09:31:31.016Z"
   },
   {
    "duration": -515,
    "start_time": "2021-08-11T09:31:31.024Z"
   },
   {
    "duration": -544,
    "start_time": "2021-08-11T09:31:31.054Z"
   },
   {
    "duration": -551,
    "start_time": "2021-08-11T09:31:31.062Z"
   },
   {
    "duration": -579,
    "start_time": "2021-08-11T09:31:31.091Z"
   },
   {
    "duration": -588,
    "start_time": "2021-08-11T09:31:31.101Z"
   },
   {
    "duration": -612,
    "start_time": "2021-08-11T09:31:31.126Z"
   },
   {
    "duration": -623,
    "start_time": "2021-08-11T09:31:31.137Z"
   },
   {
    "duration": -628,
    "start_time": "2021-08-11T09:31:31.143Z"
   },
   {
    "duration": -637,
    "start_time": "2021-08-11T09:31:31.153Z"
   },
   {
    "duration": -643,
    "start_time": "2021-08-11T09:31:31.160Z"
   },
   {
    "duration": -652,
    "start_time": "2021-08-11T09:31:31.170Z"
   },
   {
    "duration": -702,
    "start_time": "2021-08-11T09:31:31.221Z"
   },
   {
    "duration": -710,
    "start_time": "2021-08-11T09:31:31.230Z"
   },
   {
    "duration": -715,
    "start_time": "2021-08-11T09:31:31.237Z"
   },
   {
    "duration": -722,
    "start_time": "2021-08-11T09:31:31.245Z"
   },
   {
    "duration": -669,
    "start_time": "2021-08-11T09:31:31.253Z"
   },
   {
    "duration": -674,
    "start_time": "2021-08-11T09:31:31.260Z"
   },
   {
    "duration": -699,
    "start_time": "2021-08-11T09:31:31.287Z"
   },
   {
    "duration": -704,
    "start_time": "2021-08-11T09:31:31.294Z"
   },
   {
    "duration": -712,
    "start_time": "2021-08-11T09:31:31.303Z"
   },
   {
    "duration": -718,
    "start_time": "2021-08-11T09:31:31.310Z"
   },
   {
    "duration": -726,
    "start_time": "2021-08-11T09:31:31.319Z"
   },
   {
    "duration": 180,
    "start_time": "2021-08-11T09:32:17.286Z"
   },
   {
    "duration": 1399,
    "start_time": "2021-08-11T09:32:44.954Z"
   }
  ],
  "kernelspec": {
   "display_name": "Python 3",
   "language": "python",
   "name": "python3"
  },
  "language_info": {
   "codemirror_mode": {
    "name": "ipython",
    "version": 3
   },
   "file_extension": ".py",
   "mimetype": "text/x-python",
   "name": "python",
   "nbconvert_exporter": "python",
   "pygments_lexer": "ipython3",
   "version": "3.8.8"
  },
  "toc": {
   "base_numbering": 1,
   "nav_menu": {},
   "number_sections": true,
   "sideBar": true,
   "skip_h1_title": true,
   "title_cell": "Table of Contents",
   "title_sidebar": "Contents",
   "toc_cell": false,
   "toc_position": {},
   "toc_section_display": true,
   "toc_window_display": false
  }
 },
 "nbformat": 4,
 "nbformat_minor": 2
}
